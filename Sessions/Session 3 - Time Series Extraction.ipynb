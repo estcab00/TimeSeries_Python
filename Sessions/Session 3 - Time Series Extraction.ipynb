{
 "cells": [
  {
   "cell_type": "markdown",
   "id": "e3295d5f",
   "metadata": {
    "tags": []
   },
   "source": [
    "# Session 3 - Time Series Extraction\n",
    "This workshop covers the fundamentals of time series management with Python. The objective is to provide the student with the fundamental knowledge to process, manage and visualize time series databases in Python. Python codes are written and executed in Jupyter Notebook. Students are provided with the respective databases. Session 3 will focus on data extraction with time series.\n",
    "\n",
    "#### Session: 3 - July 17\n",
    "#### Time: 6pm- 8pm\n",
    "#### Lecturer: Esteban Cabrera (esteban.cabrera@pucp.edu.pe)"
   ]
  },
  {
   "cell_type": "markdown",
   "id": "b0f62a44-1940-4da9-b388-6595311fc4c6",
   "metadata": {
    "tags": []
   },
   "source": [
    "# Table of Contents\n",
    "- [1. BCRP Webscrapping](#t1)\n",
    "  - [1.1. Date and time in Python](#t1.1)\n",
    "  - [1.2. Adding and subtracting time series](#t1.2)\n",
    "  - [1.3. Creating a sequence of dates](#t1.3)\n",
    "- [2. Yahoo Finance](#t2)\n",
    "  - [2.1. Importing stock prices from Yahoo Finance](#t2.1)\n",
    "  - [2.2. Subsetting and indexing time series](#t2.2)\n",
    "- [3. Extracting from other databases](#t3)\n",
    "  - [3.1. Using Econdata](#t3.1)"
   ]
  },
  {
   "cell_type": "code",
   "execution_count": 64,
   "id": "11cee79a",
   "metadata": {
    "tags": []
   },
   "outputs": [],
   "source": [
    "import time\n",
    "start = time.time()"
   ]
  },
  {
   "cell_type": "markdown",
   "id": "0579136f",
   "metadata": {
    "tags": []
   },
   "source": [
    "# <a id=\"t1\"></a>1. BCRP Webscrapping"
   ]
  },
  {
   "cell_type": "markdown",
   "id": "39ec45da",
   "metadata": {
    "tags": []
   },
   "source": [
    "## <a id=\"t1.1\"></a>1.1. Date and time in Python\n",
    "\n",
    "Pandas was originally developed to manage finantial information, which is usually presented as time series data. The name is derived from the term \"panel data\", an econometrics term for data sets that include observations during multiple time periods. In this course, we are going to use to better manipulate time series data."
   ]
  },
  {
   "cell_type": "code",
   "execution_count": 65,
   "id": "fe80836b-cca4-44dd-bd19-719f224bf2e9",
   "metadata": {},
   "outputs": [],
   "source": [
    "import pandas as pd # We import pandas\n",
    "import numpy as np # We import other necessary libraries\n",
    "import matplotlib.pyplot as plt\n",
    "from datetime import datetime # This will allow us to manually create dates"
   ]
  },
  {
   "cell_type": "markdown",
   "id": "6cdc97da-ffb9-4dc0-87f2-a31e6ebeeba6",
   "metadata": {},
   "source": [
    "### ```pd.Timestamp()```\n",
    "This function allows us to create points in time, providing a precise representation of a specific date and time. It is a powerful tool for working with time series data, enabling detailed and accurate time-based indexing, comparison, and arithmetic operations."
   ]
  },
  {
   "cell_type": "code",
   "execution_count": 66,
   "id": "e07a815f-c142-42a5-9acc-4c65d3693a7d",
   "metadata": {},
   "outputs": [
    {
     "data": {
      "text/plain": [
       "Timestamp('2024-07-15 00:00:00')"
      ]
     },
     "execution_count": 66,
     "metadata": {},
     "output_type": "execute_result"
    }
   ],
   "source": [
    "timestamp = pd.Timestamp(datetime(2024,7,15))\n",
    "timestamp"
   ]
  },
  {
   "cell_type": "code",
   "execution_count": 67,
   "id": "05ed13c4-3f40-43e1-80bf-2beeb8863625",
   "metadata": {},
   "outputs": [
    {
     "data": {
      "text/plain": [
       "Timestamp('2024-07-15 18:10:05')"
      ]
     },
     "execution_count": 67,
     "metadata": {},
     "output_type": "execute_result"
    }
   ],
   "source": [
    "timestamp = pd.Timestamp(datetime(2024,7,15, 18, 10, 5))\n",
    "timestamp"
   ]
  },
  {
   "cell_type": "markdown",
   "id": "c57e0ea9-eb71-4830-9510-b68a19621724",
   "metadata": {},
   "source": [
    "We can use timestamp attributes to access various information of the data. For example, we can retrieve the year, month and even second of the timestamp. We can also use it to access the name of the week"
   ]
  },
  {
   "cell_type": "code",
   "execution_count": 68,
   "id": "a26be90a-0e84-4119-b9ac-3d27df983395",
   "metadata": {},
   "outputs": [
    {
     "data": {
      "text/plain": [
       "2024"
      ]
     },
     "execution_count": 68,
     "metadata": {},
     "output_type": "execute_result"
    }
   ],
   "source": [
    "timestamp.year # year"
   ]
  },
  {
   "cell_type": "code",
   "execution_count": 69,
   "id": "34914627-e7e8-4276-a03a-396ed4786094",
   "metadata": {},
   "outputs": [
    {
     "data": {
      "text/plain": [
       "3"
      ]
     },
     "execution_count": 69,
     "metadata": {},
     "output_type": "execute_result"
    }
   ],
   "source": [
    "timestamp.quarter # quarter"
   ]
  },
  {
   "cell_type": "code",
   "execution_count": 70,
   "id": "ff19abfa-7377-430d-aa45-62ded763bdcc",
   "metadata": {},
   "outputs": [
    {
     "data": {
      "text/plain": [
       "7"
      ]
     },
     "execution_count": 70,
     "metadata": {},
     "output_type": "execute_result"
    }
   ],
   "source": [
    "timestamp.month # month"
   ]
  },
  {
   "cell_type": "code",
   "execution_count": 71,
   "id": "f7f17c36-bf0a-473a-8b15-cc341e24e3a3",
   "metadata": {},
   "outputs": [
    {
     "data": {
      "text/plain": [
       "15"
      ]
     },
     "execution_count": 71,
     "metadata": {},
     "output_type": "execute_result"
    }
   ],
   "source": [
    "timestamp.day # day"
   ]
  },
  {
   "cell_type": "code",
   "execution_count": 72,
   "id": "899def91-f319-422c-80ba-be6a62fab8aa",
   "metadata": {},
   "outputs": [
    {
     "data": {
      "text/plain": [
       "18"
      ]
     },
     "execution_count": 72,
     "metadata": {},
     "output_type": "execute_result"
    }
   ],
   "source": [
    "timestamp.hour # hour"
   ]
  },
  {
   "cell_type": "code",
   "execution_count": 73,
   "id": "26ce4eee-b691-4d81-b46a-b56e102c7f24",
   "metadata": {},
   "outputs": [
    {
     "data": {
      "text/plain": [
       "10"
      ]
     },
     "execution_count": 73,
     "metadata": {},
     "output_type": "execute_result"
    }
   ],
   "source": [
    "timestamp.minute # minute"
   ]
  },
  {
   "cell_type": "code",
   "execution_count": 74,
   "id": "27815497-2ca6-442f-861b-cd4bd1853e67",
   "metadata": {},
   "outputs": [
    {
     "data": {
      "text/plain": [
       "5"
      ]
     },
     "execution_count": 74,
     "metadata": {},
     "output_type": "execute_result"
    }
   ],
   "source": [
    "timestamp.second # second"
   ]
  },
  {
   "cell_type": "code",
   "execution_count": 75,
   "id": "2e5ceb6d-fd77-488f-934b-4c65d87a16cd",
   "metadata": {},
   "outputs": [
    {
     "data": {
      "text/plain": [
       "'Monday'"
      ]
     },
     "execution_count": 75,
     "metadata": {},
     "output_type": "execute_result"
    }
   ],
   "source": [
    "timestamp.day_name()"
   ]
  },
  {
   "cell_type": "code",
   "execution_count": 76,
   "id": "b389949a-989c-4a4a-9a3d-603fb399ee8c",
   "metadata": {},
   "outputs": [
    {
     "data": {
      "text/plain": [
       "0"
      ]
     },
     "execution_count": 76,
     "metadata": {},
     "output_type": "execute_result"
    }
   ],
   "source": [
    "timestamp.dayofweek"
   ]
  },
  {
   "cell_type": "code",
   "execution_count": 77,
   "id": "5e33e1b2-0c17-44d9-872e-bf1f5558d82b",
   "metadata": {},
   "outputs": [
    {
     "data": {
      "text/plain": [
       "29"
      ]
     },
     "execution_count": 77,
     "metadata": {},
     "output_type": "execute_result"
    }
   ],
   "source": [
    "timestamp.weekofyear"
   ]
  },
  {
   "cell_type": "code",
   "execution_count": 78,
   "id": "a2253f71-2d5f-485c-b1d6-bf280243587b",
   "metadata": {},
   "outputs": [
    {
     "data": {
      "text/plain": [
       "197"
      ]
     },
     "execution_count": 78,
     "metadata": {},
     "output_type": "execute_result"
    }
   ],
   "source": [
    "timestamp.dayofyear"
   ]
  },
  {
   "cell_type": "code",
   "execution_count": 79,
   "id": "94aa4633-471a-45d8-b6a2-e9a62617fd58",
   "metadata": {},
   "outputs": [
    {
     "name": "stdout",
     "output_type": "stream",
     "text": [
      "We are in day 197 of 365 days\n",
      "This is the 29th week of the year\n"
     ]
    }
   ],
   "source": [
    "print(f'We are in day {timestamp.dayofyear} of 365 days')\n",
    "print(f'This is the {timestamp.weekofyear}th week of the year')"
   ]
  },
  {
   "cell_type": "markdown",
   "id": "665336bb-472a-4b2b-b8c4-500a0720ec2b",
   "metadata": {},
   "source": [
    "### ```pd.Period()```\n",
    "Allow us to create a `Period` object, which will always have a frequency. This is useful for representing a span of time with a specific start and end, such as a month, quarter, or year. "
   ]
  },
  {
   "cell_type": "code",
   "execution_count": 80,
   "id": "2a294ef7-c1a1-4ff5-897d-9b415076c8ba",
   "metadata": {},
   "outputs": [
    {
     "data": {
      "text/plain": [
       "Period('2024', 'Y-DEC')"
      ]
     },
     "execution_count": 80,
     "metadata": {},
     "output_type": "execute_result"
    }
   ],
   "source": [
    "period = pd.Period('2024')\n",
    "period # By default, the last name of the year"
   ]
  },
  {
   "cell_type": "code",
   "execution_count": 81,
   "id": "ab9ebd1e-4109-45d4-ad00-e040648e9d6b",
   "metadata": {},
   "outputs": [
    {
     "data": {
      "text/plain": [
       "Period('2024-07', 'M')"
      ]
     },
     "execution_count": 81,
     "metadata": {},
     "output_type": "execute_result"
    }
   ],
   "source": [
    "pd.Period('2024-07')"
   ]
  },
  {
   "cell_type": "code",
   "execution_count": 82,
   "id": "c28ca4d6-dd33-4651-9c9d-412c48bc527e",
   "metadata": {},
   "outputs": [
    {
     "data": {
      "text/plain": [
       "Period('2024-07-15', 'D')"
      ]
     },
     "execution_count": 82,
     "metadata": {},
     "output_type": "execute_result"
    }
   ],
   "source": [
    "pd.Period('2024-07-15')"
   ]
  },
  {
   "cell_type": "code",
   "execution_count": 83,
   "id": "43a88c76-c772-40d1-adb5-1487cdab3d37",
   "metadata": {},
   "outputs": [
    {
     "data": {
      "text/plain": [
       "Period('2024-07-15 18:00', 'h')"
      ]
     },
     "execution_count": 83,
     "metadata": {},
     "output_type": "execute_result"
    }
   ],
   "source": [
    "pd.Period('2024-07-15-18')"
   ]
  },
  {
   "cell_type": "code",
   "execution_count": 84,
   "id": "a2237569-dd56-41a7-9f5f-ac14142f916d",
   "metadata": {},
   "outputs": [
    {
     "data": {
      "text/plain": [
       "Period('2024-07-15 18:00', 'h')"
      ]
     },
     "execution_count": 84,
     "metadata": {},
     "output_type": "execute_result"
    }
   ],
   "source": [
    "pd.Period('2024-07-15-18-15')"
   ]
  },
  {
   "cell_type": "code",
   "execution_count": 85,
   "id": "e4985471-2c8d-4b16-8fcb-9c3748d9dc31",
   "metadata": {},
   "outputs": [
    {
     "data": {
      "text/plain": [
       "Period('2024-12-31', 'D')"
      ]
     },
     "execution_count": 85,
     "metadata": {},
     "output_type": "execute_result"
    }
   ],
   "source": [
    "period.asfreq('D')"
   ]
  },
  {
   "cell_type": "code",
   "execution_count": 86,
   "id": "2c4aadcb-794c-47db-afc5-5612a716712c",
   "metadata": {},
   "outputs": [
    {
     "data": {
      "text/plain": [
       "Period('2024-12', 'M')"
      ]
     },
     "execution_count": 86,
     "metadata": {},
     "output_type": "execute_result"
    }
   ],
   "source": [
    "period.asfreq('M')"
   ]
  },
  {
   "cell_type": "code",
   "execution_count": 87,
   "id": "db3622ec-b86b-4751-924c-7eac62262a56",
   "metadata": {},
   "outputs": [
    {
     "data": {
      "text/plain": [
       "Period('2024Q4', 'Q-DEC')"
      ]
     },
     "execution_count": 87,
     "metadata": {},
     "output_type": "execute_result"
    }
   ],
   "source": [
    "period.asfreq('Q')"
   ]
  },
  {
   "cell_type": "code",
   "execution_count": 88,
   "id": "a1765120-634a-4169-9c00-05df3326caf2",
   "metadata": {},
   "outputs": [
    {
     "data": {
      "text/plain": [
       "Timestamp('2024-01-01 00:00:00')"
      ]
     },
     "execution_count": 88,
     "metadata": {},
     "output_type": "execute_result"
    }
   ],
   "source": [
    "period.to_timestamp() # By default, the first day of year"
   ]
  },
  {
   "cell_type": "code",
   "execution_count": 89,
   "id": "ad253a3a-f4c6-4e0a-9209-f20a72cb245f",
   "metadata": {},
   "outputs": [
    {
     "data": {
      "text/plain": [
       "Period('2024-01-01', 'D')"
      ]
     },
     "execution_count": 89,
     "metadata": {},
     "output_type": "execute_result"
    }
   ],
   "source": [
    "period.to_timestamp().to_period('D') "
   ]
  },
  {
   "cell_type": "code",
   "execution_count": 90,
   "id": "49c63a74-613c-4ed6-bed9-d6d9858d5ef0",
   "metadata": {},
   "outputs": [],
   "source": [
    "period = pd.Period('2024-07-15', freq='D')"
   ]
  },
  {
   "cell_type": "code",
   "execution_count": 91,
   "id": "67071477-741e-4436-9420-8299745422f2",
   "metadata": {},
   "outputs": [
    {
     "data": {
      "text/plain": [
       "15"
      ]
     },
     "execution_count": 91,
     "metadata": {},
     "output_type": "execute_result"
    }
   ],
   "source": [
    "period.day"
   ]
  },
  {
   "cell_type": "code",
   "execution_count": 92,
   "id": "9c7ba26d-5912-472b-8c35-4930c5ad8487",
   "metadata": {},
   "outputs": [
    {
     "data": {
      "text/plain": [
       "31"
      ]
     },
     "execution_count": 92,
     "metadata": {},
     "output_type": "execute_result"
    }
   ],
   "source": [
    "period.days_in_month"
   ]
  },
  {
   "cell_type": "code",
   "execution_count": 93,
   "id": "268e694e-b923-4257-be78-6861ff0bd891",
   "metadata": {},
   "outputs": [
    {
     "data": {
      "text/plain": [
       "Timestamp('2024-07-15 00:00:00')"
      ]
     },
     "execution_count": 93,
     "metadata": {},
     "output_type": "execute_result"
    }
   ],
   "source": [
    "period.start_time"
   ]
  },
  {
   "cell_type": "code",
   "execution_count": 94,
   "id": "007532aa-7bcf-4aed-813c-6590d9802013",
   "metadata": {},
   "outputs": [
    {
     "data": {
      "text/plain": [
       "Timestamp('2024-07-15 23:59:59.999999999')"
      ]
     },
     "execution_count": 94,
     "metadata": {},
     "output_type": "execute_result"
    }
   ],
   "source": [
    "period.end_time"
   ]
  },
  {
   "cell_type": "code",
   "execution_count": 95,
   "id": "8e2c812c-8c3e-4cb3-883e-43517d13fc15",
   "metadata": {},
   "outputs": [
    {
     "data": {
      "text/plain": [
       "Period('2024-07-15', 'D')"
      ]
     },
     "execution_count": 95,
     "metadata": {},
     "output_type": "execute_result"
    }
   ],
   "source": [
    "period"
   ]
  },
  {
   "cell_type": "markdown",
   "id": "00554596-43be-488a-a6b0-0a3fd3f3247c",
   "metadata": {},
   "source": [
    "### ```pd.Timedelta()```\n",
    "`Timedelta` objects in pandas are used to represent differences in times, such as a duration or an interval. They are useful when doing basic arithmetic with Timestamp objects, allowing you to add or subtract durations from specific dates and times. This is particularly helpful in time series analysis, scheduling tasks, and manipulating date-time data."
   ]
  },
  {
   "cell_type": "code",
   "execution_count": 96,
   "id": "d1ba8da3-5864-4f0e-a356-c09a62a0891e",
   "metadata": {},
   "outputs": [
    {
     "data": {
      "text/plain": [
       "Timedelta('5 days 03:30:00')"
      ]
     },
     "execution_count": 96,
     "metadata": {},
     "output_type": "execute_result"
    }
   ],
   "source": [
    "pd.Timedelta(days=5, hours=3, minutes=30)"
   ]
  },
  {
   "cell_type": "code",
   "execution_count": 97,
   "id": "6995bbe3-13a8-4a10-8c64-7f42df0af87c",
   "metadata": {},
   "outputs": [
    {
     "data": {
      "text/plain": [
       "Timedelta('0 days 01:00:00')"
      ]
     },
     "execution_count": 97,
     "metadata": {},
     "output_type": "execute_result"
    }
   ],
   "source": [
    "pd.Timedelta(seconds=3600)"
   ]
  },
  {
   "cell_type": "code",
   "execution_count": 98,
   "id": "9d6a1f36-4d84-4db3-bd33-03cb7c03df03",
   "metadata": {},
   "outputs": [
    {
     "data": {
      "text/plain": [
       "Timedelta('0 days 01:00:00')"
      ]
     },
     "execution_count": 98,
     "metadata": {},
     "output_type": "execute_result"
    }
   ],
   "source": [
    "pd.Timedelta(hours=1)"
   ]
  },
  {
   "cell_type": "code",
   "execution_count": 99,
   "id": "77139d4b-ac1d-4c95-8225-e33fc77031cb",
   "metadata": {},
   "outputs": [
    {
     "data": {
      "text/plain": [
       "Timedelta('14 days 00:00:00')"
      ]
     },
     "execution_count": 99,
     "metadata": {},
     "output_type": "execute_result"
    }
   ],
   "source": [
    "pd.Timedelta(weeks=2)  "
   ]
  },
  {
   "cell_type": "markdown",
   "id": "880b0f33-d993-4d85-9934-8c0670351cc8",
   "metadata": {},
   "source": [
    "### Some attributes for `TimeStamp` and `Period` objects\n",
    "\n",
    "| Common Attributes               | Period Attributes            | Timestamp Attributes            |\n",
    "|---------------------------------|------------------------------|---------------------------------|\n",
    "| `.year`                         | `.freq`                      | `.date`                         |\n",
    "| `.month`                        | `.freqstr`                   | `.time`                         |\n",
    "| `.day`                          | `.days_in_month`             | `.strftime()`                   |  \n",
    "| `.hour`                         | `.is_leap_year`              | `.timestamp()`                  |        \n",
    "| `.minute`                       | `.ordinal`                   | `.to_julian_date()`             |            \n",
    "| `.second`                       | `.qyear`                     | `.to_period()`                  |    \n",
    "| `.dayofweek`                    | `.start_time`                | `.weekday()`                    |\n",
    "| `.dayofyear`                    | `.end_time`                  | `.astimezone()`                 |\n",
    "| `.weekofyear`                   | `.strftime()`                |                                 | \n",
    "| `.quarter`                      | `.to_timestamp()`            |                                 |\n",
    "\n",
    "\n"
   ]
  },
  {
   "cell_type": "markdown",
   "id": "c14f5dea",
   "metadata": {
    "tags": []
   },
   "source": [
    "## <a id=\"t1.2\"></a>1.2. Adding and subtracting time series\n",
    "We can do some basic date arithmetic with our time series objetcs"
   ]
  },
  {
   "cell_type": "code",
   "execution_count": 100,
   "id": "3fc5213b-6405-4891-8f95-9a5a7a5f73ca",
   "metadata": {},
   "outputs": [
    {
     "data": {
      "text/plain": [
       "Period('2024-07-15', 'D')"
      ]
     },
     "execution_count": 100,
     "metadata": {},
     "output_type": "execute_result"
    }
   ],
   "source": [
    "today = pd.Period('2024-07-15')\n",
    "today"
   ]
  },
  {
   "cell_type": "code",
   "execution_count": 101,
   "id": "9ad1d469-6dde-4b70-8f29-1cf91f2de4d7",
   "metadata": {},
   "outputs": [
    {
     "data": {
      "text/plain": [
       "Period('2024-07-18', 'D')"
      ]
     },
     "execution_count": 101,
     "metadata": {},
     "output_type": "execute_result"
    }
   ],
   "source": [
    "today + 3"
   ]
  },
  {
   "cell_type": "code",
   "execution_count": 102,
   "id": "af1e2e61-1a3e-4815-a0b2-2fa823f18ff6",
   "metadata": {},
   "outputs": [
    {
     "data": {
      "text/plain": [
       "Period('2024-07-12', 'D')"
      ]
     },
     "execution_count": 102,
     "metadata": {},
     "output_type": "execute_result"
    }
   ],
   "source": [
    "today - 3"
   ]
  },
  {
   "cell_type": "code",
   "execution_count": 103,
   "id": "64172682-b220-4a24-ae7b-9701428d6014",
   "metadata": {},
   "outputs": [
    {
     "data": {
      "text/plain": [
       "Timestamp('2024-07-18 00:00:00')"
      ]
     },
     "execution_count": 103,
     "metadata": {},
     "output_type": "execute_result"
    }
   ],
   "source": [
    "pd.Timestamp('2024-07-15') + pd.Timedelta(days=3)"
   ]
  },
  {
   "cell_type": "code",
   "execution_count": 104,
   "id": "7ba43c2f-0046-438f-97de-1e1073e3cdcc",
   "metadata": {},
   "outputs": [
    {
     "data": {
      "text/plain": [
       "Timestamp('2024-07-12 00:00:00')"
      ]
     },
     "execution_count": 104,
     "metadata": {},
     "output_type": "execute_result"
    }
   ],
   "source": [
    "pd.Timestamp('2024-07-15') - pd.Timedelta(days=3)"
   ]
  },
  {
   "cell_type": "code",
   "execution_count": 105,
   "id": "c608117f-013a-4670-aad5-e0425678454f",
   "metadata": {},
   "outputs": [
    {
     "data": {
      "text/plain": [
       "Period('2024-07-17', 'D')"
      ]
     },
     "execution_count": 105,
     "metadata": {},
     "output_type": "execute_result"
    }
   ],
   "source": [
    "period + 2"
   ]
  },
  {
   "cell_type": "code",
   "execution_count": 106,
   "id": "3b5582db-9e59-4cfb-a323-4d574d675c06",
   "metadata": {},
   "outputs": [
    {
     "data": {
      "text/plain": [
       "Period('2024-07-13', 'D')"
      ]
     },
     "execution_count": 106,
     "metadata": {},
     "output_type": "execute_result"
    }
   ],
   "source": [
    "period - 2"
   ]
  },
  {
   "cell_type": "code",
   "execution_count": 107,
   "id": "1e489068-b47a-460d-8868-23b4bdfbdde7",
   "metadata": {},
   "outputs": [],
   "source": [
    "july = pd.Period('2024-07')"
   ]
  },
  {
   "cell_type": "code",
   "execution_count": 108,
   "id": "0e4ae71c-0088-4a33-8782-c05252e8fada",
   "metadata": {},
   "outputs": [
    {
     "data": {
      "text/plain": [
       "Period('2024-12', 'M')"
      ]
     },
     "execution_count": 108,
     "metadata": {},
     "output_type": "execute_result"
    }
   ],
   "source": [
    "july+5"
   ]
  },
  {
   "cell_type": "code",
   "execution_count": 109,
   "id": "07da2d90-54aa-48f3-9104-b343a5fc52ea",
   "metadata": {},
   "outputs": [
    {
     "data": {
      "text/plain": [
       "Period('2024-02', 'M')"
      ]
     },
     "execution_count": 109,
     "metadata": {},
     "output_type": "execute_result"
    }
   ],
   "source": [
    "july-5"
   ]
  },
  {
   "cell_type": "markdown",
   "id": "2690d32b-f475-4ce7-b8bc-5530c688fe07",
   "metadata": {
    "tags": []
   },
   "source": [
    "## <a id=\"t1.3\"></a>1.3. Creating a sequence of dates"
   ]
  },
  {
   "cell_type": "markdown",
   "id": "3bf80a5a-edbd-461c-8e84-3dd3a0c314f0",
   "metadata": {},
   "source": [
    "In order to create a time series, we will need a sequence of dates. In this subsection we will learn how to do that. "
   ]
  },
  {
   "cell_type": "markdown",
   "id": "0a141609-b23e-4050-9f14-497c80753c9b",
   "metadata": {
    "tags": []
   },
   "source": [
    "### ```pd.date_range()```\n",
    "This pandas function allows us to create a `DatetimeIndex`, which can be used to generate a range of dates with a specified frequency. This DatetimeIndex can serve multiple purposes, such as being used as an index for a DataFrame or Series, facilitating time series analysis, and aligning data to specific date ranges. "
   ]
  },
  {
   "cell_type": "code",
   "execution_count": 110,
   "id": "5a26db48-4752-4bcc-bfeb-a71b60271ee9",
   "metadata": {},
   "outputs": [
    {
     "name": "stderr",
     "output_type": "stream",
     "text": [
      "C:\\Users\\estca\\AppData\\Local\\Temp\\ipykernel_22332\\1747562845.py:1: FutureWarning: 'Y' is deprecated and will be removed in a future version, please use 'YE' instead.\n",
      "  pd.date_range(start='2003', periods=21, freq='Y')\n"
     ]
    },
    {
     "data": {
      "text/plain": [
       "DatetimeIndex(['2003-12-31', '2004-12-31', '2005-12-31', '2006-12-31',\n",
       "               '2007-12-31', '2008-12-31', '2009-12-31', '2010-12-31',\n",
       "               '2011-12-31', '2012-12-31', '2013-12-31', '2014-12-31',\n",
       "               '2015-12-31', '2016-12-31', '2017-12-31', '2018-12-31',\n",
       "               '2019-12-31', '2020-12-31', '2021-12-31', '2022-12-31',\n",
       "               '2023-12-31'],\n",
       "              dtype='datetime64[ns]', freq='YE-DEC')"
      ]
     },
     "execution_count": 110,
     "metadata": {},
     "output_type": "execute_result"
    }
   ],
   "source": [
    "pd.date_range(start='2003', periods=21, freq='Y')"
   ]
  },
  {
   "cell_type": "code",
   "execution_count": 111,
   "id": "7a6c4b55-0e1a-4eac-b005-d6d30303db56",
   "metadata": {},
   "outputs": [
    {
     "name": "stderr",
     "output_type": "stream",
     "text": [
      "C:\\Users\\estca\\AppData\\Local\\Temp\\ipykernel_22332\\3828105659.py:1: FutureWarning: 'M' is deprecated and will be removed in a future version, please use 'ME' instead.\n",
      "  pd.date_range(start='2013', periods=21, freq='M')\n"
     ]
    },
    {
     "data": {
      "text/plain": [
       "DatetimeIndex(['2013-01-31', '2013-02-28', '2013-03-31', '2013-04-30',\n",
       "               '2013-05-31', '2013-06-30', '2013-07-31', '2013-08-31',\n",
       "               '2013-09-30', '2013-10-31', '2013-11-30', '2013-12-31',\n",
       "               '2014-01-31', '2014-02-28', '2014-03-31', '2014-04-30',\n",
       "               '2014-05-31', '2014-06-30', '2014-07-31', '2014-08-31',\n",
       "               '2014-09-30'],\n",
       "              dtype='datetime64[ns]', freq='ME')"
      ]
     },
     "execution_count": 111,
     "metadata": {},
     "output_type": "execute_result"
    }
   ],
   "source": [
    "pd.date_range(start='2013', periods=21, freq='M')"
   ]
  },
  {
   "cell_type": "code",
   "execution_count": 112,
   "id": "7c90a805-0b00-408f-b36c-dc060f0d4898",
   "metadata": {},
   "outputs": [
    {
     "name": "stderr",
     "output_type": "stream",
     "text": [
      "C:\\Users\\estca\\AppData\\Local\\Temp\\ipykernel_22332\\1001732193.py:1: FutureWarning: 'M' is deprecated and will be removed in a future version, please use 'ME' instead.\n",
      "  index = pd.date_range(start='2024-01-01', periods=12, freq='M')\n"
     ]
    },
    {
     "data": {
      "text/plain": [
       "Timestamp('2024-01-31 00:00:00')"
      ]
     },
     "execution_count": 112,
     "metadata": {},
     "output_type": "execute_result"
    }
   ],
   "source": [
    "index = pd.date_range(start='2024-01-01', periods=12, freq='M')\n",
    "index[0]"
   ]
  },
  {
   "cell_type": "code",
   "execution_count": 113,
   "id": "f34df688-9676-43ac-9707-80239c8bf7fe",
   "metadata": {},
   "outputs": [
    {
     "data": {
      "text/plain": [
       "PeriodIndex(['2024-01', '2024-02', '2024-03', '2024-04', '2024-05', '2024-06',\n",
       "             '2024-07', '2024-08', '2024-09', '2024-10', '2024-11', '2024-12'],\n",
       "            dtype='period[M]')"
      ]
     },
     "execution_count": 113,
     "metadata": {},
     "output_type": "execute_result"
    }
   ],
   "source": [
    "index.to_period()"
   ]
  },
  {
   "cell_type": "code",
   "execution_count": 114,
   "id": "62f9590c-0f31-4d0c-a5ca-a5a93747960b",
   "metadata": {},
   "outputs": [
    {
     "data": {
      "text/plain": [
       "DatetimeIndex(['2024-01-01', '2024-02-01', '2024-03-01', '2024-04-01',\n",
       "               '2024-05-01', '2024-06-01', '2024-07-01', '2024-08-01',\n",
       "               '2024-09-01', '2024-10-01', '2024-11-01', '2024-12-01'],\n",
       "              dtype='datetime64[ns]', freq='MS')"
      ]
     },
     "execution_count": 114,
     "metadata": {},
     "output_type": "execute_result"
    }
   ],
   "source": [
    "index.to_period().to_timestamp()"
   ]
  },
  {
   "cell_type": "code",
   "execution_count": 115,
   "id": "f9c20d8f-2503-4f46-9558-3475b51e72af",
   "metadata": {},
   "outputs": [
    {
     "name": "stderr",
     "output_type": "stream",
     "text": [
      "C:\\Users\\estca\\AppData\\Local\\Temp\\ipykernel_22332\\2782821598.py:2: FutureWarning: 'M' is deprecated and will be removed in a future version, please use 'ME' instead.\n",
      "  datetime_index = pd.date_range(start='2024-01', periods=12, freq='M')\n"
     ]
    },
    {
     "data": {
      "text/html": [
       "<div>\n",
       "<style scoped>\n",
       "    .dataframe tbody tr th:only-of-type {\n",
       "        vertical-align: middle;\n",
       "    }\n",
       "\n",
       "    .dataframe tbody tr th {\n",
       "        vertical-align: top;\n",
       "    }\n",
       "\n",
       "    .dataframe thead th {\n",
       "        text-align: right;\n",
       "    }\n",
       "</style>\n",
       "<table border=\"1\" class=\"dataframe\">\n",
       "  <thead>\n",
       "    <tr style=\"text-align: right;\">\n",
       "      <th></th>\n",
       "      <th>data</th>\n",
       "    </tr>\n",
       "  </thead>\n",
       "  <tbody>\n",
       "    <tr>\n",
       "      <th>2024-01-31</th>\n",
       "      <td>0.350502</td>\n",
       "    </tr>\n",
       "    <tr>\n",
       "      <th>2024-02-29</th>\n",
       "      <td>0.287847</td>\n",
       "    </tr>\n",
       "    <tr>\n",
       "      <th>2024-03-31</th>\n",
       "      <td>0.439266</td>\n",
       "    </tr>\n",
       "    <tr>\n",
       "      <th>2024-04-30</th>\n",
       "      <td>0.769535</td>\n",
       "    </tr>\n",
       "    <tr>\n",
       "      <th>2024-05-31</th>\n",
       "      <td>0.513260</td>\n",
       "    </tr>\n",
       "    <tr>\n",
       "      <th>2024-06-30</th>\n",
       "      <td>0.955828</td>\n",
       "    </tr>\n",
       "    <tr>\n",
       "      <th>2024-07-31</th>\n",
       "      <td>0.009266</td>\n",
       "    </tr>\n",
       "    <tr>\n",
       "      <th>2024-08-31</th>\n",
       "      <td>0.465296</td>\n",
       "    </tr>\n",
       "    <tr>\n",
       "      <th>2024-09-30</th>\n",
       "      <td>0.517304</td>\n",
       "    </tr>\n",
       "    <tr>\n",
       "      <th>2024-10-31</th>\n",
       "      <td>0.404457</td>\n",
       "    </tr>\n",
       "    <tr>\n",
       "      <th>2024-11-30</th>\n",
       "      <td>0.859369</td>\n",
       "    </tr>\n",
       "    <tr>\n",
       "      <th>2024-12-31</th>\n",
       "      <td>0.495115</td>\n",
       "    </tr>\n",
       "  </tbody>\n",
       "</table>\n",
       "</div>"
      ],
      "text/plain": [
       "                data\n",
       "2024-01-31  0.350502\n",
       "2024-02-29  0.287847\n",
       "2024-03-31  0.439266\n",
       "2024-04-30  0.769535\n",
       "2024-05-31  0.513260\n",
       "2024-06-30  0.955828\n",
       "2024-07-31  0.009266\n",
       "2024-08-31  0.465296\n",
       "2024-09-30  0.517304\n",
       "2024-10-31  0.404457\n",
       "2024-11-30  0.859369\n",
       "2024-12-31  0.495115"
      ]
     },
     "execution_count": 115,
     "metadata": {},
     "output_type": "execute_result"
    }
   ],
   "source": [
    "# Creating a dataframe\n",
    "datetime_index = pd.date_range(start='2024-01', periods=12, freq='M')\n",
    "df_datetime = pd.DataFrame({'data': np.random.random(size=12)}, index=datetime_index)\n",
    "df_datetime"
   ]
  },
  {
   "cell_type": "code",
   "execution_count": 116,
   "id": "47a220a7-b922-4d94-a106-46258ca6cbc3",
   "metadata": {},
   "outputs": [
    {
     "name": "stdout",
     "output_type": "stream",
     "text": [
      "0 Monday\n",
      "1 Tuesday\n",
      "2 Wednesday\n",
      "3 Thursday\n",
      "4 Friday\n",
      "5 Saturday\n",
      "6 Sunday\n"
     ]
    }
   ],
   "source": [
    "# We create the range of dates here from January 1st 2024 to January 7th 2024\n",
    "days = pd.date_range(start='2024-7-15', periods =7, freq='D')\n",
    "\n",
    "# We iterate over the dates and print the name of the weekday\n",
    "for day in days:\n",
    "    print(day.dayofweek, day.day_name())"
   ]
  },
  {
   "cell_type": "markdown",
   "id": "f3586dcf-deb5-4d28-8d3d-02d2063ee17f",
   "metadata": {},
   "source": [
    "### `pd.period_range()`\n",
    "This pandas function allows us to create a `PeriodIndex`, which can be used to generate a range of time periods with a specified frequency. "
   ]
  },
  {
   "cell_type": "code",
   "execution_count": 117,
   "id": "f0de32a6-6540-471d-b4a5-0179325783c1",
   "metadata": {},
   "outputs": [
    {
     "data": {
      "text/plain": [
       "PeriodIndex(['2003', '2004', '2005', '2006', '2007', '2008', '2009', '2010',\n",
       "             '2011', '2012', '2013', '2014', '2015', '2016', '2017', '2018',\n",
       "             '2019', '2020', '2021', '2022', '2023'],\n",
       "            dtype='period[Y-DEC]')"
      ]
     },
     "execution_count": 117,
     "metadata": {},
     "output_type": "execute_result"
    }
   ],
   "source": [
    "pd.period_range(start='2003', periods=21, freq='Y')"
   ]
  },
  {
   "cell_type": "code",
   "execution_count": 118,
   "id": "3d34b2ad-e3c5-42f5-97c7-c299882552d8",
   "metadata": {},
   "outputs": [
    {
     "data": {
      "text/plain": [
       "PeriodIndex(['2024-01', '2024-02', '2024-03', '2024-04', '2024-05', '2024-06',\n",
       "             '2024-07', '2024-08', '2024-09', '2024-10', '2024-11', '2024-12'],\n",
       "            dtype='period[M]')"
      ]
     },
     "execution_count": 118,
     "metadata": {},
     "output_type": "execute_result"
    }
   ],
   "source": [
    "pd.period_range(start='2024-01-01', periods=12, freq='M')"
   ]
  },
  {
   "cell_type": "code",
   "execution_count": 119,
   "id": "62aad82e-1d76-476c-a511-17a8b6d36040",
   "metadata": {},
   "outputs": [
    {
     "data": {
      "text/plain": [
       "Period('2024-01', 'M')"
      ]
     },
     "execution_count": 119,
     "metadata": {},
     "output_type": "execute_result"
    }
   ],
   "source": [
    "index = pd.period_range(start='2024-01-01', periods=12, freq='M')\n",
    "index[0]"
   ]
  },
  {
   "cell_type": "code",
   "execution_count": 120,
   "id": "8d453ba9-fbfd-4d9f-b545-11fd0a20d3da",
   "metadata": {},
   "outputs": [
    {
     "data": {
      "text/plain": [
       "DatetimeIndex(['2024-01-01', '2024-02-01', '2024-03-01', '2024-04-01',\n",
       "               '2024-05-01', '2024-06-01', '2024-07-01', '2024-08-01',\n",
       "               '2024-09-01', '2024-10-01', '2024-11-01', '2024-12-01'],\n",
       "              dtype='datetime64[ns]', freq='MS')"
      ]
     },
     "execution_count": 120,
     "metadata": {},
     "output_type": "execute_result"
    }
   ],
   "source": [
    "index.to_timestamp()"
   ]
  },
  {
   "cell_type": "code",
   "execution_count": 121,
   "id": "aa27e823-c310-4155-8942-e8e1e0c95eb2",
   "metadata": {},
   "outputs": [
    {
     "data": {
      "text/plain": [
       "PeriodIndex(['2024-01', '2024-02', '2024-03', '2024-04', '2024-05', '2024-06',\n",
       "             '2024-07', '2024-08', '2024-09', '2024-10', '2024-11', '2024-12'],\n",
       "            dtype='period[M]')"
      ]
     },
     "execution_count": 121,
     "metadata": {},
     "output_type": "execute_result"
    }
   ],
   "source": [
    "index.to_timestamp().to_period()"
   ]
  },
  {
   "cell_type": "code",
   "execution_count": 122,
   "id": "2a747d14-8527-46a8-a121-d6305e9b7e1f",
   "metadata": {},
   "outputs": [
    {
     "data": {
      "text/html": [
       "<div>\n",
       "<style scoped>\n",
       "    .dataframe tbody tr th:only-of-type {\n",
       "        vertical-align: middle;\n",
       "    }\n",
       "\n",
       "    .dataframe tbody tr th {\n",
       "        vertical-align: top;\n",
       "    }\n",
       "\n",
       "    .dataframe thead th {\n",
       "        text-align: right;\n",
       "    }\n",
       "</style>\n",
       "<table border=\"1\" class=\"dataframe\">\n",
       "  <thead>\n",
       "    <tr style=\"text-align: right;\">\n",
       "      <th></th>\n",
       "      <th>data</th>\n",
       "    </tr>\n",
       "  </thead>\n",
       "  <tbody>\n",
       "    <tr>\n",
       "      <th>2024-01</th>\n",
       "      <td>0.579062</td>\n",
       "    </tr>\n",
       "    <tr>\n",
       "      <th>2024-02</th>\n",
       "      <td>1.416658</td>\n",
       "    </tr>\n",
       "    <tr>\n",
       "      <th>2024-03</th>\n",
       "      <td>2.637883</td>\n",
       "    </tr>\n",
       "    <tr>\n",
       "      <th>2024-04</th>\n",
       "      <td>3.790159</td>\n",
       "    </tr>\n",
       "    <tr>\n",
       "      <th>2024-05</th>\n",
       "      <td>4.992018</td>\n",
       "    </tr>\n",
       "    <tr>\n",
       "      <th>2024-06</th>\n",
       "      <td>5.947583</td>\n",
       "    </tr>\n",
       "    <tr>\n",
       "      <th>2024-07</th>\n",
       "      <td>6.811142</td>\n",
       "    </tr>\n",
       "    <tr>\n",
       "      <th>2024-08</th>\n",
       "      <td>7.616570</td>\n",
       "    </tr>\n",
       "    <tr>\n",
       "      <th>2024-09</th>\n",
       "      <td>8.283608</td>\n",
       "    </tr>\n",
       "    <tr>\n",
       "      <th>2024-10</th>\n",
       "      <td>9.344456</td>\n",
       "    </tr>\n",
       "    <tr>\n",
       "      <th>2024-11</th>\n",
       "      <td>10.764989</td>\n",
       "    </tr>\n",
       "    <tr>\n",
       "      <th>2024-12</th>\n",
       "      <td>11.599619</td>\n",
       "    </tr>\n",
       "  </tbody>\n",
       "</table>\n",
       "</div>"
      ],
      "text/plain": [
       "              data\n",
       "2024-01   0.579062\n",
       "2024-02   1.416658\n",
       "2024-03   2.637883\n",
       "2024-04   3.790159\n",
       "2024-05   4.992018\n",
       "2024-06   5.947583\n",
       "2024-07   6.811142\n",
       "2024-08   7.616570\n",
       "2024-09   8.283608\n",
       "2024-10   9.344456\n",
       "2024-11  10.764989\n",
       "2024-12  11.599619"
      ]
     },
     "execution_count": 122,
     "metadata": {},
     "output_type": "execute_result"
    }
   ],
   "source": [
    "# Creating a dataframe\n",
    "period_index = pd.period_range(start='2024-01', periods=12, freq='M')\n",
    "df_period = pd.DataFrame({'data': range(12)+np.random.random(size=12)}, index=period_index)\n",
    "df_period"
   ]
  },
  {
   "cell_type": "markdown",
   "id": "24b6f526-3c09-420d-80f1-f3f6152fad1b",
   "metadata": {},
   "source": [
    "### Differences between `PeriodIndex` and `DatetimeIndex`\n",
    "\n",
    "| Feature             | `DatetimeIndex`                                         | `PeriodIndex`                                           |\n",
    "|---------------------|---------------------------------------------------------|---------------------------------------------------------|\n",
    "| **Definition**      | Sequence used to index time series by specific points in time | Sequence used to index time series by spans of time (periods) |\n",
    "| **Granularity**     | Represents precise moments in time                      | Represents periods of time with a defined frequency      |\n",
    "| **Flexibility**     | Allows operations involving specific timestamps         | Allows operations involving whole periods               |\n",
    "| **Use**        | Ideal for data where exact timestamps are important (e.g., financial data, time series data) | Ideal for data aggregated over consistent intervals (e.g., monthly sales, quarterly reports) |\n",
    "| **Creation Example**| `pd.date_range(start='2024-01-01', periods=31, freq='D')` | `pd.period_range(start='2024-01', periods=12, freq='M')`  |\n",
    "| **Attributes**      | Access to year, month, day, hour, minute, second        | Access to start time, end time, and frequency            |\n",
    "| **Timezone**        | Can be localized and converted to different timezones   | Does not involve timezones                               |\n",
    "| **Use of Frequency**| Optional; can represent irregular time points           | Always associated with a specific frequency              |\n",
    "| **Arithmetic Ops**  | Operations involve exact timestamps and `Timedelta` objects | Operations involve whole periods and period arithmetic   |\n",
    "| **Typical Use Cases**| High-frequency data or data requiring precise timestamps | Regular interval data where periods matter more than exact timestamps |"
   ]
  },
  {
   "cell_type": "markdown",
   "id": "35bda72c-1d01-4746-bfd9-4f078dee58a9",
   "metadata": {},
   "source": [
    "During the development of this course we are going to mainly use `DatetimeIndex`"
   ]
  },
  {
   "cell_type": "markdown",
   "id": "e7c7d870",
   "metadata": {
    "tags": []
   },
   "source": [
    "# <a id=\"t2\"></a>2. Yahoo Finance"
   ]
  },
  {
   "cell_type": "code",
   "execution_count": 123,
   "id": "51beae85-2219-4df6-a171-f0b0f3815309",
   "metadata": {},
   "outputs": [],
   "source": [
    "# !pip install yfinance\n",
    "import yfinance as yf"
   ]
  },
  {
   "cell_type": "markdown",
   "id": "30a611ea-4b90-4a71-ac6c-308f4873d965",
   "metadata": {},
   "source": [
    "## <a id=\"t2.1\"></a>2.1. Importing stock prices from Yahoo Finance"
   ]
  },
  {
   "cell_type": "markdown",
   "id": "1eaafe03-1c58-470e-b692-91f81677168d",
   "metadata": {},
   "source": [
    "### `.Ticker()`"
   ]
  },
  {
   "cell_type": "code",
   "execution_count": 124,
   "id": "d31941e3-c7e3-4d07-a3f4-f1e0bc816585",
   "metadata": {},
   "outputs": [],
   "source": [
    "apple = yf.Ticker(\"AAPL\")\n",
    "nvidia = yf.Ticker(\"NVDA\")\n",
    "google = yf.Ticker(\"GOOG\")"
   ]
  },
  {
   "cell_type": "code",
   "execution_count": 125,
   "id": "9c061209-ec02-4824-9fba-23414773c023",
   "metadata": {},
   "outputs": [
    {
     "data": {
      "text/plain": [
       "{'address1': 'One Apple Park Way',\n",
       " 'city': 'Cupertino',\n",
       " 'state': 'CA',\n",
       " 'zip': '95014',\n",
       " 'country': 'United States',\n",
       " 'phone': '408 996 1010',\n",
       " 'website': 'https://www.apple.com',\n",
       " 'industry': 'Consumer Electronics',\n",
       " 'industryKey': 'consumer-electronics',\n",
       " 'industryDisp': 'Consumer Electronics',\n",
       " 'sector': 'Technology',\n",
       " 'sectorKey': 'technology',\n",
       " 'sectorDisp': 'Technology',\n",
       " 'longBusinessSummary': 'Apple Inc. designs, manufactures, and markets smartphones, personal computers, tablets, wearables, and accessories worldwide. The company offers iPhone, a line of smartphones; Mac, a line of personal computers; iPad, a line of multi-purpose tablets; and wearables, home, and accessories comprising AirPods, Apple TV, Apple Watch, Beats products, and HomePod. It also provides AppleCare support and cloud services; and operates various platforms, including the App Store that allow customers to discover and download applications and digital content, such as books, music, video, games, and podcasts. In addition, the company offers various services, such as Apple Arcade, a game subscription service; Apple Fitness+, a personalized fitness service; Apple Music, which offers users a curated listening experience with on-demand radio stations; Apple News+, a subscription news and magazine service; Apple TV+, which offers exclusive original content; Apple Card, a co-branded credit card; and Apple Pay, a cashless payment service, as well as licenses its intellectual property. The company serves consumers, and small and mid-sized businesses; and the education, enterprise, and government markets. It distributes third-party applications for its products through the App Store. The company also sells its products through its retail and online stores, and direct sales force; and third-party cellular network carriers, wholesalers, retailers, and resellers. Apple Inc. was founded in 1976 and is headquartered in Cupertino, California.',\n",
       " 'fullTimeEmployees': 150000,\n",
       " 'companyOfficers': [{'maxAge': 1,\n",
       "   'name': 'Mr. Timothy D. Cook',\n",
       "   'age': 62,\n",
       "   'title': 'CEO & Director',\n",
       "   'yearBorn': 1961,\n",
       "   'fiscalYear': 2023,\n",
       "   'totalPay': 16239562,\n",
       "   'exercisedValue': 0,\n",
       "   'unexercisedValue': 0},\n",
       "  {'maxAge': 1,\n",
       "   'name': 'Mr. Luca  Maestri',\n",
       "   'age': 60,\n",
       "   'title': 'CFO & Senior VP',\n",
       "   'yearBorn': 1963,\n",
       "   'fiscalYear': 2023,\n",
       "   'totalPay': 4612242,\n",
       "   'exercisedValue': 0,\n",
       "   'unexercisedValue': 0},\n",
       "  {'maxAge': 1,\n",
       "   'name': 'Mr. Jeffrey E. Williams',\n",
       "   'age': 59,\n",
       "   'title': 'Chief Operating Officer',\n",
       "   'yearBorn': 1964,\n",
       "   'fiscalYear': 2023,\n",
       "   'totalPay': 4637585,\n",
       "   'exercisedValue': 0,\n",
       "   'unexercisedValue': 0},\n",
       "  {'maxAge': 1,\n",
       "   'name': 'Ms. Katherine L. Adams',\n",
       "   'age': 59,\n",
       "   'title': 'Senior VP, General Counsel & Secretary',\n",
       "   'yearBorn': 1964,\n",
       "   'fiscalYear': 2023,\n",
       "   'totalPay': 4618064,\n",
       "   'exercisedValue': 0,\n",
       "   'unexercisedValue': 0},\n",
       "  {'maxAge': 1,\n",
       "   'name': \"Ms. Deirdre  O'Brien\",\n",
       "   'age': 56,\n",
       "   'title': 'Senior Vice President of Retail',\n",
       "   'yearBorn': 1967,\n",
       "   'fiscalYear': 2023,\n",
       "   'totalPay': 4613369,\n",
       "   'exercisedValue': 0,\n",
       "   'unexercisedValue': 0},\n",
       "  {'maxAge': 1,\n",
       "   'name': 'Mr. Chris  Kondo',\n",
       "   'title': 'Senior Director of Corporate Accounting',\n",
       "   'fiscalYear': 2023,\n",
       "   'exercisedValue': 0,\n",
       "   'unexercisedValue': 0},\n",
       "  {'maxAge': 1,\n",
       "   'name': 'Mr. James  Wilson',\n",
       "   'title': 'Chief Technology Officer',\n",
       "   'fiscalYear': 2023,\n",
       "   'exercisedValue': 0,\n",
       "   'unexercisedValue': 0},\n",
       "  {'maxAge': 1,\n",
       "   'name': 'Suhasini  Chandramouli',\n",
       "   'title': 'Director of Investor Relations',\n",
       "   'fiscalYear': 2023,\n",
       "   'exercisedValue': 0,\n",
       "   'unexercisedValue': 0},\n",
       "  {'maxAge': 1,\n",
       "   'name': 'Mr. Greg  Joswiak',\n",
       "   'title': 'Senior Vice President of Worldwide Marketing',\n",
       "   'fiscalYear': 2023,\n",
       "   'exercisedValue': 0,\n",
       "   'unexercisedValue': 0},\n",
       "  {'maxAge': 1,\n",
       "   'name': 'Mr. Adrian  Perica',\n",
       "   'age': 49,\n",
       "   'title': 'Head of Corporate Development',\n",
       "   'yearBorn': 1974,\n",
       "   'fiscalYear': 2023,\n",
       "   'exercisedValue': 0,\n",
       "   'unexercisedValue': 0}],\n",
       " 'auditRisk': 6,\n",
       " 'boardRisk': 1,\n",
       " 'compensationRisk': 2,\n",
       " 'shareHolderRightsRisk': 1,\n",
       " 'overallRisk': 1,\n",
       " 'governanceEpochDate': 1719792000,\n",
       " 'compensationAsOfEpochDate': 1703980800,\n",
       " 'irWebsite': 'http://investor.apple.com/',\n",
       " 'maxAge': 86400,\n",
       " 'priceHint': 2,\n",
       " 'previousClose': 226.34,\n",
       " 'open': 227.09,\n",
       " 'dayLow': 223.25,\n",
       " 'dayHigh': 227.44,\n",
       " 'regularMarketPreviousClose': 226.34,\n",
       " 'regularMarketOpen': 227.09,\n",
       " 'regularMarketDayLow': 223.25,\n",
       " 'regularMarketDayHigh': 227.44,\n",
       " 'dividendRate': 1.0,\n",
       " 'dividendYield': 0.0044,\n",
       " 'exDividendDate': 1715299200,\n",
       " 'payoutRatio': 0.14930001,\n",
       " 'fiveYearAvgDividendYield': 0.69,\n",
       " 'beta': 1.244,\n",
       " 'trailingPE': 35.274494,\n",
       " 'forwardPE': 31.070547,\n",
       " 'volume': 43878058,\n",
       " 'regularMarketVolume': 43878058,\n",
       " 'averageVolume': 69605609,\n",
       " 'averageVolume10days': 79854070,\n",
       " 'averageDailyVolume10Day': 79854070,\n",
       " 'bid': 226.75,\n",
       " 'ask': 226.84,\n",
       " 'bidSize': 400,\n",
       " 'askSize': 100,\n",
       " 'marketCap': 3478003908608,\n",
       " 'fiftyTwoWeekLow': 164.08,\n",
       " 'fiftyTwoWeekHigh': 227.44,\n",
       " 'priceToSalesTrailing12Months': 9.113716,\n",
       " 'fiftyDayAverage': 195.0848,\n",
       " 'twoHundredDayAverage': 184.60574,\n",
       " 'trailingAnnualDividendRate': 0.96,\n",
       " 'trailingAnnualDividendYield': 0.004241407,\n",
       " 'currency': 'USD',\n",
       " 'enterpriseValue': 3508156235776,\n",
       " 'profitMargins': 0.26306,\n",
       " 'floatShares': 15309547469,\n",
       " 'sharesOutstanding': 15334099968,\n",
       " 'sharesShort': 153405579,\n",
       " 'sharesShortPriorMonth': 99287450,\n",
       " 'sharesShortPreviousMonthDate': 1715731200,\n",
       " 'dateShortInterest': 1718323200,\n",
       " 'sharesPercentSharesOut': 0.01,\n",
       " 'heldPercentInsiders': 0.052199997,\n",
       " 'heldPercentInstitutions': 0.57578,\n",
       " 'shortRatio': 2.29,\n",
       " 'shortPercentOfFloat': 0.01,\n",
       " 'impliedSharesOutstanding': 15334099968,\n",
       " 'bookValue': 4.837,\n",
       " 'priceToBook': 46.89167,\n",
       " 'lastFiscalYearEnd': 1696032000,\n",
       " 'nextFiscalYearEnd': 1727654400,\n",
       " 'mostRecentQuarter': 1711756800,\n",
       " 'earningsQuarterlyGrowth': -0.022,\n",
       " 'netIncomeToCommon': 100389003264,\n",
       " 'trailingEps': 6.43,\n",
       " 'forwardEps': 7.3,\n",
       " 'pegRatio': 3.2,\n",
       " 'lastSplitFactor': '4:1',\n",
       " 'lastSplitDate': 1598832000,\n",
       " 'enterpriseToRevenue': 9.193,\n",
       " 'enterpriseToEbitda': 27.063,\n",
       " '52WeekChange': 0.20004237,\n",
       " 'SandP52WeekChange': 0.26253593,\n",
       " 'lastDividendValue': 0.25,\n",
       " 'lastDividendDate': 1715299200,\n",
       " 'exchange': 'NMS',\n",
       " 'quoteType': 'EQUITY',\n",
       " 'symbol': 'AAPL',\n",
       " 'underlyingSymbol': 'AAPL',\n",
       " 'shortName': 'Apple Inc.',\n",
       " 'longName': 'Apple Inc.',\n",
       " 'firstTradeDateEpochUtc': 345479400,\n",
       " 'timeZoneFullName': 'America/New_York',\n",
       " 'timeZoneShortName': 'EDT',\n",
       " 'uuid': '8b10e4ae-9eeb-3684-921a-9ab27e4d87aa',\n",
       " 'messageBoardId': 'finmb_24937',\n",
       " 'gmtOffSetMilliseconds': -14400000,\n",
       " 'currentPrice': 226.815,\n",
       " 'targetHighPrice': 275.0,\n",
       " 'targetLowPrice': 164.0,\n",
       " 'targetMeanPrice': 213.15,\n",
       " 'targetMedianPrice': 210.0,\n",
       " 'recommendationMean': 2.0,\n",
       " 'recommendationKey': 'buy',\n",
       " 'numberOfAnalystOpinions': 37,\n",
       " 'totalCash': 67150000128,\n",
       " 'totalCashPerShare': 4.379,\n",
       " 'ebitda': 129629003776,\n",
       " 'totalDebt': 104590000128,\n",
       " 'quickRatio': 0.875,\n",
       " 'currentRatio': 1.037,\n",
       " 'totalRevenue': 381623009280,\n",
       " 'debtToEquity': 140.968,\n",
       " 'revenuePerShare': 24.537,\n",
       " 'returnOnAssets': 0.22073999,\n",
       " 'returnOnEquity': 1.4725,\n",
       " 'freeCashflow': 84726874112,\n",
       " 'operatingCashflow': 110563000320,\n",
       " 'earningsGrowth': 0.007,\n",
       " 'revenueGrowth': -0.043,\n",
       " 'grossMargins': 0.45586,\n",
       " 'ebitdaMargins': 0.33968,\n",
       " 'operatingMargins': 0.30743,\n",
       " 'financialCurrency': 'USD',\n",
       " 'trailingPegRatio': 2.3734}"
      ]
     },
     "execution_count": 125,
     "metadata": {},
     "output_type": "execute_result"
    }
   ],
   "source": [
    "apple.info"
   ]
  },
  {
   "cell_type": "code",
   "execution_count": 126,
   "id": "8480267b-e5a3-4805-8051-830aa84b7419",
   "metadata": {},
   "outputs": [],
   "source": [
    "apple_info = apple.info"
   ]
  },
  {
   "cell_type": "code",
   "execution_count": 127,
   "id": "81e6af69-77c1-428f-818c-1c372b752be6",
   "metadata": {},
   "outputs": [
    {
     "data": {
      "text/plain": [
       "'United States'"
      ]
     },
     "execution_count": 127,
     "metadata": {},
     "output_type": "execute_result"
    }
   ],
   "source": [
    "apple_info['country']"
   ]
  },
  {
   "cell_type": "code",
   "execution_count": 128,
   "id": "a9067970-79c5-4aeb-958a-a27d48e83652",
   "metadata": {},
   "outputs": [
    {
     "data": {
      "text/plain": [
       "'Technology'"
      ]
     },
     "execution_count": 128,
     "metadata": {},
     "output_type": "execute_result"
    }
   ],
   "source": [
    "apple_info['sector']"
   ]
  },
  {
   "cell_type": "code",
   "execution_count": 129,
   "id": "ee57603b-1def-47a5-a9ad-6fb308803fcd",
   "metadata": {},
   "outputs": [
    {
     "data": {
      "text/plain": [
       "140.968"
      ]
     },
     "execution_count": 129,
     "metadata": {},
     "output_type": "execute_result"
    }
   ],
   "source": [
    "apple_info['debtToEquity']"
   ]
  },
  {
   "cell_type": "code",
   "execution_count": 130,
   "id": "b97ff113-1ce5-4dd1-8fe7-8fc39757a627",
   "metadata": {},
   "outputs": [
    {
     "data": {
      "text/plain": [
       "4.837"
      ]
     },
     "execution_count": 130,
     "metadata": {},
     "output_type": "execute_result"
    }
   ],
   "source": [
    "apple_info['bookValue'] "
   ]
  },
  {
   "cell_type": "code",
   "execution_count": 131,
   "id": "df0ef257-60cb-4f5d-91c1-4aea470de9aa",
   "metadata": {},
   "outputs": [
    {
     "data": {
      "text/plain": [
       "129629003776"
      ]
     },
     "execution_count": 131,
     "metadata": {},
     "output_type": "execute_result"
    }
   ],
   "source": [
    "apple_info['ebitda']"
   ]
  },
  {
   "cell_type": "markdown",
   "id": "bce05175-7140-4d2a-a8e0-58d088bbfca0",
   "metadata": {},
   "source": [
    "### `.history()`"
   ]
  },
  {
   "cell_type": "code",
   "execution_count": 132,
   "id": "06070c14-1301-498f-93cd-c4fad6d06017",
   "metadata": {},
   "outputs": [
    {
     "data": {
      "text/html": [
       "<div>\n",
       "<style scoped>\n",
       "    .dataframe tbody tr th:only-of-type {\n",
       "        vertical-align: middle;\n",
       "    }\n",
       "\n",
       "    .dataframe tbody tr th {\n",
       "        vertical-align: top;\n",
       "    }\n",
       "\n",
       "    .dataframe thead th {\n",
       "        text-align: right;\n",
       "    }\n",
       "</style>\n",
       "<table border=\"1\" class=\"dataframe\">\n",
       "  <thead>\n",
       "    <tr style=\"text-align: right;\">\n",
       "      <th></th>\n",
       "      <th>Open</th>\n",
       "      <th>High</th>\n",
       "      <th>Low</th>\n",
       "      <th>Close</th>\n",
       "      <th>Volume</th>\n",
       "      <th>Dividends</th>\n",
       "      <th>Stock Splits</th>\n",
       "    </tr>\n",
       "    <tr>\n",
       "      <th>Date</th>\n",
       "      <th></th>\n",
       "      <th></th>\n",
       "      <th></th>\n",
       "      <th></th>\n",
       "      <th></th>\n",
       "      <th></th>\n",
       "      <th></th>\n",
       "    </tr>\n",
       "  </thead>\n",
       "  <tbody>\n",
       "    <tr>\n",
       "      <th>2024-06-10 00:00:00-04:00</th>\n",
       "      <td>196.899994</td>\n",
       "      <td>197.300003</td>\n",
       "      <td>192.149994</td>\n",
       "      <td>193.119995</td>\n",
       "      <td>97262100</td>\n",
       "      <td>0.0</td>\n",
       "      <td>0.0</td>\n",
       "    </tr>\n",
       "    <tr>\n",
       "      <th>2024-06-11 00:00:00-04:00</th>\n",
       "      <td>193.649994</td>\n",
       "      <td>207.160004</td>\n",
       "      <td>193.630005</td>\n",
       "      <td>207.149994</td>\n",
       "      <td>172373300</td>\n",
       "      <td>0.0</td>\n",
       "      <td>0.0</td>\n",
       "    </tr>\n",
       "    <tr>\n",
       "      <th>2024-06-12 00:00:00-04:00</th>\n",
       "      <td>207.369995</td>\n",
       "      <td>220.199997</td>\n",
       "      <td>206.899994</td>\n",
       "      <td>213.070007</td>\n",
       "      <td>198134300</td>\n",
       "      <td>0.0</td>\n",
       "      <td>0.0</td>\n",
       "    </tr>\n",
       "    <tr>\n",
       "      <th>2024-06-13 00:00:00-04:00</th>\n",
       "      <td>214.740005</td>\n",
       "      <td>216.750000</td>\n",
       "      <td>211.600006</td>\n",
       "      <td>214.240005</td>\n",
       "      <td>97862700</td>\n",
       "      <td>0.0</td>\n",
       "      <td>0.0</td>\n",
       "    </tr>\n",
       "    <tr>\n",
       "      <th>2024-06-14 00:00:00-04:00</th>\n",
       "      <td>213.850006</td>\n",
       "      <td>215.169998</td>\n",
       "      <td>211.300003</td>\n",
       "      <td>212.490005</td>\n",
       "      <td>70122700</td>\n",
       "      <td>0.0</td>\n",
       "      <td>0.0</td>\n",
       "    </tr>\n",
       "    <tr>\n",
       "      <th>2024-06-17 00:00:00-04:00</th>\n",
       "      <td>213.369995</td>\n",
       "      <td>218.949997</td>\n",
       "      <td>212.720001</td>\n",
       "      <td>216.669998</td>\n",
       "      <td>93728300</td>\n",
       "      <td>0.0</td>\n",
       "      <td>0.0</td>\n",
       "    </tr>\n",
       "    <tr>\n",
       "      <th>2024-06-18 00:00:00-04:00</th>\n",
       "      <td>217.589996</td>\n",
       "      <td>218.630005</td>\n",
       "      <td>213.000000</td>\n",
       "      <td>214.289993</td>\n",
       "      <td>79943300</td>\n",
       "      <td>0.0</td>\n",
       "      <td>0.0</td>\n",
       "    </tr>\n",
       "    <tr>\n",
       "      <th>2024-06-20 00:00:00-04:00</th>\n",
       "      <td>213.929993</td>\n",
       "      <td>214.240005</td>\n",
       "      <td>208.850006</td>\n",
       "      <td>209.679993</td>\n",
       "      <td>86172500</td>\n",
       "      <td>0.0</td>\n",
       "      <td>0.0</td>\n",
       "    </tr>\n",
       "    <tr>\n",
       "      <th>2024-06-21 00:00:00-04:00</th>\n",
       "      <td>210.389999</td>\n",
       "      <td>211.889999</td>\n",
       "      <td>207.110001</td>\n",
       "      <td>207.490005</td>\n",
       "      <td>246421400</td>\n",
       "      <td>0.0</td>\n",
       "      <td>0.0</td>\n",
       "    </tr>\n",
       "    <tr>\n",
       "      <th>2024-06-24 00:00:00-04:00</th>\n",
       "      <td>207.720001</td>\n",
       "      <td>212.699997</td>\n",
       "      <td>206.589996</td>\n",
       "      <td>208.139999</td>\n",
       "      <td>80727000</td>\n",
       "      <td>0.0</td>\n",
       "      <td>0.0</td>\n",
       "    </tr>\n",
       "    <tr>\n",
       "      <th>2024-06-25 00:00:00-04:00</th>\n",
       "      <td>209.149994</td>\n",
       "      <td>211.380005</td>\n",
       "      <td>208.610001</td>\n",
       "      <td>209.070007</td>\n",
       "      <td>56713900</td>\n",
       "      <td>0.0</td>\n",
       "      <td>0.0</td>\n",
       "    </tr>\n",
       "    <tr>\n",
       "      <th>2024-06-26 00:00:00-04:00</th>\n",
       "      <td>211.500000</td>\n",
       "      <td>214.860001</td>\n",
       "      <td>210.639999</td>\n",
       "      <td>213.250000</td>\n",
       "      <td>66213200</td>\n",
       "      <td>0.0</td>\n",
       "      <td>0.0</td>\n",
       "    </tr>\n",
       "    <tr>\n",
       "      <th>2024-06-27 00:00:00-04:00</th>\n",
       "      <td>214.690002</td>\n",
       "      <td>215.740005</td>\n",
       "      <td>212.350006</td>\n",
       "      <td>214.100006</td>\n",
       "      <td>49772700</td>\n",
       "      <td>0.0</td>\n",
       "      <td>0.0</td>\n",
       "    </tr>\n",
       "    <tr>\n",
       "      <th>2024-06-28 00:00:00-04:00</th>\n",
       "      <td>215.770004</td>\n",
       "      <td>216.070007</td>\n",
       "      <td>210.300003</td>\n",
       "      <td>210.619995</td>\n",
       "      <td>82542700</td>\n",
       "      <td>0.0</td>\n",
       "      <td>0.0</td>\n",
       "    </tr>\n",
       "    <tr>\n",
       "      <th>2024-07-01 00:00:00-04:00</th>\n",
       "      <td>212.089996</td>\n",
       "      <td>217.509995</td>\n",
       "      <td>211.919998</td>\n",
       "      <td>216.750000</td>\n",
       "      <td>60402900</td>\n",
       "      <td>0.0</td>\n",
       "      <td>0.0</td>\n",
       "    </tr>\n",
       "    <tr>\n",
       "      <th>2024-07-02 00:00:00-04:00</th>\n",
       "      <td>216.149994</td>\n",
       "      <td>220.380005</td>\n",
       "      <td>215.100006</td>\n",
       "      <td>220.270004</td>\n",
       "      <td>58046200</td>\n",
       "      <td>0.0</td>\n",
       "      <td>0.0</td>\n",
       "    </tr>\n",
       "    <tr>\n",
       "      <th>2024-07-03 00:00:00-04:00</th>\n",
       "      <td>220.000000</td>\n",
       "      <td>221.550003</td>\n",
       "      <td>219.029999</td>\n",
       "      <td>221.550003</td>\n",
       "      <td>37369800</td>\n",
       "      <td>0.0</td>\n",
       "      <td>0.0</td>\n",
       "    </tr>\n",
       "    <tr>\n",
       "      <th>2024-07-05 00:00:00-04:00</th>\n",
       "      <td>221.649994</td>\n",
       "      <td>226.449997</td>\n",
       "      <td>221.649994</td>\n",
       "      <td>226.339996</td>\n",
       "      <td>60330900</td>\n",
       "      <td>0.0</td>\n",
       "      <td>0.0</td>\n",
       "    </tr>\n",
       "    <tr>\n",
       "      <th>2024-07-08 00:00:00-04:00</th>\n",
       "      <td>227.089996</td>\n",
       "      <td>227.440002</td>\n",
       "      <td>223.250000</td>\n",
       "      <td>226.819901</td>\n",
       "      <td>43878660</td>\n",
       "      <td>0.0</td>\n",
       "      <td>0.0</td>\n",
       "    </tr>\n",
       "  </tbody>\n",
       "</table>\n",
       "</div>"
      ],
      "text/plain": [
       "                                 Open        High         Low       Close  \\\n",
       "Date                                                                        \n",
       "2024-06-10 00:00:00-04:00  196.899994  197.300003  192.149994  193.119995   \n",
       "2024-06-11 00:00:00-04:00  193.649994  207.160004  193.630005  207.149994   \n",
       "2024-06-12 00:00:00-04:00  207.369995  220.199997  206.899994  213.070007   \n",
       "2024-06-13 00:00:00-04:00  214.740005  216.750000  211.600006  214.240005   \n",
       "2024-06-14 00:00:00-04:00  213.850006  215.169998  211.300003  212.490005   \n",
       "2024-06-17 00:00:00-04:00  213.369995  218.949997  212.720001  216.669998   \n",
       "2024-06-18 00:00:00-04:00  217.589996  218.630005  213.000000  214.289993   \n",
       "2024-06-20 00:00:00-04:00  213.929993  214.240005  208.850006  209.679993   \n",
       "2024-06-21 00:00:00-04:00  210.389999  211.889999  207.110001  207.490005   \n",
       "2024-06-24 00:00:00-04:00  207.720001  212.699997  206.589996  208.139999   \n",
       "2024-06-25 00:00:00-04:00  209.149994  211.380005  208.610001  209.070007   \n",
       "2024-06-26 00:00:00-04:00  211.500000  214.860001  210.639999  213.250000   \n",
       "2024-06-27 00:00:00-04:00  214.690002  215.740005  212.350006  214.100006   \n",
       "2024-06-28 00:00:00-04:00  215.770004  216.070007  210.300003  210.619995   \n",
       "2024-07-01 00:00:00-04:00  212.089996  217.509995  211.919998  216.750000   \n",
       "2024-07-02 00:00:00-04:00  216.149994  220.380005  215.100006  220.270004   \n",
       "2024-07-03 00:00:00-04:00  220.000000  221.550003  219.029999  221.550003   \n",
       "2024-07-05 00:00:00-04:00  221.649994  226.449997  221.649994  226.339996   \n",
       "2024-07-08 00:00:00-04:00  227.089996  227.440002  223.250000  226.819901   \n",
       "\n",
       "                              Volume  Dividends  Stock Splits  \n",
       "Date                                                           \n",
       "2024-06-10 00:00:00-04:00   97262100        0.0           0.0  \n",
       "2024-06-11 00:00:00-04:00  172373300        0.0           0.0  \n",
       "2024-06-12 00:00:00-04:00  198134300        0.0           0.0  \n",
       "2024-06-13 00:00:00-04:00   97862700        0.0           0.0  \n",
       "2024-06-14 00:00:00-04:00   70122700        0.0           0.0  \n",
       "2024-06-17 00:00:00-04:00   93728300        0.0           0.0  \n",
       "2024-06-18 00:00:00-04:00   79943300        0.0           0.0  \n",
       "2024-06-20 00:00:00-04:00   86172500        0.0           0.0  \n",
       "2024-06-21 00:00:00-04:00  246421400        0.0           0.0  \n",
       "2024-06-24 00:00:00-04:00   80727000        0.0           0.0  \n",
       "2024-06-25 00:00:00-04:00   56713900        0.0           0.0  \n",
       "2024-06-26 00:00:00-04:00   66213200        0.0           0.0  \n",
       "2024-06-27 00:00:00-04:00   49772700        0.0           0.0  \n",
       "2024-06-28 00:00:00-04:00   82542700        0.0           0.0  \n",
       "2024-07-01 00:00:00-04:00   60402900        0.0           0.0  \n",
       "2024-07-02 00:00:00-04:00   58046200        0.0           0.0  \n",
       "2024-07-03 00:00:00-04:00   37369800        0.0           0.0  \n",
       "2024-07-05 00:00:00-04:00   60330900        0.0           0.0  \n",
       "2024-07-08 00:00:00-04:00   43878660        0.0           0.0  "
      ]
     },
     "execution_count": 132,
     "metadata": {},
     "output_type": "execute_result"
    }
   ],
   "source": [
    "apple.history()"
   ]
  },
  {
   "cell_type": "code",
   "execution_count": 133,
   "id": "ec2256ed-0925-49cd-90a0-7fa064938052",
   "metadata": {},
   "outputs": [
    {
     "data": {
      "text/html": [
       "<div>\n",
       "<style scoped>\n",
       "    .dataframe tbody tr th:only-of-type {\n",
       "        vertical-align: middle;\n",
       "    }\n",
       "\n",
       "    .dataframe tbody tr th {\n",
       "        vertical-align: top;\n",
       "    }\n",
       "\n",
       "    .dataframe thead th {\n",
       "        text-align: right;\n",
       "    }\n",
       "</style>\n",
       "<table border=\"1\" class=\"dataframe\">\n",
       "  <thead>\n",
       "    <tr style=\"text-align: right;\">\n",
       "      <th></th>\n",
       "      <th>Open</th>\n",
       "      <th>High</th>\n",
       "      <th>Low</th>\n",
       "      <th>Close</th>\n",
       "      <th>Volume</th>\n",
       "      <th>Dividends</th>\n",
       "      <th>Stock Splits</th>\n",
       "    </tr>\n",
       "    <tr>\n",
       "      <th>Date</th>\n",
       "      <th></th>\n",
       "      <th></th>\n",
       "      <th></th>\n",
       "      <th></th>\n",
       "      <th></th>\n",
       "      <th></th>\n",
       "      <th></th>\n",
       "    </tr>\n",
       "  </thead>\n",
       "  <tbody>\n",
       "    <tr>\n",
       "      <th>1980-12-12 00:00:00-05:00</th>\n",
       "      <td>0.099058</td>\n",
       "      <td>0.099488</td>\n",
       "      <td>0.099058</td>\n",
       "      <td>0.099058</td>\n",
       "      <td>469033600</td>\n",
       "      <td>0.0</td>\n",
       "      <td>0.0</td>\n",
       "    </tr>\n",
       "    <tr>\n",
       "      <th>1980-12-15 00:00:00-05:00</th>\n",
       "      <td>0.094320</td>\n",
       "      <td>0.094320</td>\n",
       "      <td>0.093890</td>\n",
       "      <td>0.093890</td>\n",
       "      <td>175884800</td>\n",
       "      <td>0.0</td>\n",
       "      <td>0.0</td>\n",
       "    </tr>\n",
       "    <tr>\n",
       "      <th>1980-12-16 00:00:00-05:00</th>\n",
       "      <td>0.087429</td>\n",
       "      <td>0.087429</td>\n",
       "      <td>0.086998</td>\n",
       "      <td>0.086998</td>\n",
       "      <td>105728000</td>\n",
       "      <td>0.0</td>\n",
       "      <td>0.0</td>\n",
       "    </tr>\n",
       "    <tr>\n",
       "      <th>1980-12-17 00:00:00-05:00</th>\n",
       "      <td>0.089152</td>\n",
       "      <td>0.089582</td>\n",
       "      <td>0.089152</td>\n",
       "      <td>0.089152</td>\n",
       "      <td>86441600</td>\n",
       "      <td>0.0</td>\n",
       "      <td>0.0</td>\n",
       "    </tr>\n",
       "    <tr>\n",
       "      <th>1980-12-18 00:00:00-05:00</th>\n",
       "      <td>0.091737</td>\n",
       "      <td>0.092167</td>\n",
       "      <td>0.091737</td>\n",
       "      <td>0.091737</td>\n",
       "      <td>73449600</td>\n",
       "      <td>0.0</td>\n",
       "      <td>0.0</td>\n",
       "    </tr>\n",
       "    <tr>\n",
       "      <th>...</th>\n",
       "      <td>...</td>\n",
       "      <td>...</td>\n",
       "      <td>...</td>\n",
       "      <td>...</td>\n",
       "      <td>...</td>\n",
       "      <td>...</td>\n",
       "      <td>...</td>\n",
       "    </tr>\n",
       "    <tr>\n",
       "      <th>2024-07-01 00:00:00-04:00</th>\n",
       "      <td>212.089996</td>\n",
       "      <td>217.509995</td>\n",
       "      <td>211.919998</td>\n",
       "      <td>216.750000</td>\n",
       "      <td>60402900</td>\n",
       "      <td>0.0</td>\n",
       "      <td>0.0</td>\n",
       "    </tr>\n",
       "    <tr>\n",
       "      <th>2024-07-02 00:00:00-04:00</th>\n",
       "      <td>216.149994</td>\n",
       "      <td>220.380005</td>\n",
       "      <td>215.100006</td>\n",
       "      <td>220.270004</td>\n",
       "      <td>58046200</td>\n",
       "      <td>0.0</td>\n",
       "      <td>0.0</td>\n",
       "    </tr>\n",
       "    <tr>\n",
       "      <th>2024-07-03 00:00:00-04:00</th>\n",
       "      <td>220.000000</td>\n",
       "      <td>221.550003</td>\n",
       "      <td>219.029999</td>\n",
       "      <td>221.550003</td>\n",
       "      <td>37369800</td>\n",
       "      <td>0.0</td>\n",
       "      <td>0.0</td>\n",
       "    </tr>\n",
       "    <tr>\n",
       "      <th>2024-07-05 00:00:00-04:00</th>\n",
       "      <td>221.649994</td>\n",
       "      <td>226.449997</td>\n",
       "      <td>221.649994</td>\n",
       "      <td>226.339996</td>\n",
       "      <td>60330900</td>\n",
       "      <td>0.0</td>\n",
       "      <td>0.0</td>\n",
       "    </tr>\n",
       "    <tr>\n",
       "      <th>2024-07-08 00:00:00-04:00</th>\n",
       "      <td>227.089996</td>\n",
       "      <td>227.440002</td>\n",
       "      <td>223.250000</td>\n",
       "      <td>226.819901</td>\n",
       "      <td>43878660</td>\n",
       "      <td>0.0</td>\n",
       "      <td>0.0</td>\n",
       "    </tr>\n",
       "  </tbody>\n",
       "</table>\n",
       "<p>10982 rows × 7 columns</p>\n",
       "</div>"
      ],
      "text/plain": [
       "                                 Open        High         Low       Close  \\\n",
       "Date                                                                        \n",
       "1980-12-12 00:00:00-05:00    0.099058    0.099488    0.099058    0.099058   \n",
       "1980-12-15 00:00:00-05:00    0.094320    0.094320    0.093890    0.093890   \n",
       "1980-12-16 00:00:00-05:00    0.087429    0.087429    0.086998    0.086998   \n",
       "1980-12-17 00:00:00-05:00    0.089152    0.089582    0.089152    0.089152   \n",
       "1980-12-18 00:00:00-05:00    0.091737    0.092167    0.091737    0.091737   \n",
       "...                               ...         ...         ...         ...   \n",
       "2024-07-01 00:00:00-04:00  212.089996  217.509995  211.919998  216.750000   \n",
       "2024-07-02 00:00:00-04:00  216.149994  220.380005  215.100006  220.270004   \n",
       "2024-07-03 00:00:00-04:00  220.000000  221.550003  219.029999  221.550003   \n",
       "2024-07-05 00:00:00-04:00  221.649994  226.449997  221.649994  226.339996   \n",
       "2024-07-08 00:00:00-04:00  227.089996  227.440002  223.250000  226.819901   \n",
       "\n",
       "                              Volume  Dividends  Stock Splits  \n",
       "Date                                                           \n",
       "1980-12-12 00:00:00-05:00  469033600        0.0           0.0  \n",
       "1980-12-15 00:00:00-05:00  175884800        0.0           0.0  \n",
       "1980-12-16 00:00:00-05:00  105728000        0.0           0.0  \n",
       "1980-12-17 00:00:00-05:00   86441600        0.0           0.0  \n",
       "1980-12-18 00:00:00-05:00   73449600        0.0           0.0  \n",
       "...                              ...        ...           ...  \n",
       "2024-07-01 00:00:00-04:00   60402900        0.0           0.0  \n",
       "2024-07-02 00:00:00-04:00   58046200        0.0           0.0  \n",
       "2024-07-03 00:00:00-04:00   37369800        0.0           0.0  \n",
       "2024-07-05 00:00:00-04:00   60330900        0.0           0.0  \n",
       "2024-07-08 00:00:00-04:00   43878660        0.0           0.0  \n",
       "\n",
       "[10982 rows x 7 columns]"
      ]
     },
     "execution_count": 133,
     "metadata": {},
     "output_type": "execute_result"
    }
   ],
   "source": [
    "apple.history(period=\"max\")"
   ]
  },
  {
   "cell_type": "code",
   "execution_count": 134,
   "id": "60bffd25-b0cf-4329-a24e-11e99f9ad3a0",
   "metadata": {},
   "outputs": [
    {
     "data": {
      "text/plain": [
       "<Axes: xlabel='Date'>"
      ]
     },
     "execution_count": 134,
     "metadata": {},
     "output_type": "execute_result"
    },
    {
     "data": {
      "image/png": "[encoded data removed]",
      "text/plain": [
       "<Figure size 640x480 with 1 Axes>"
      ]
     },
     "metadata": {},
     "output_type": "display_data"
    }
   ],
   "source": [
    "apple.history(period=\"max\")[\"Close\"].plot()"
   ]
  },
  {
   "cell_type": "markdown",
   "id": "bb66e05e",
   "metadata": {
    "tags": []
   },
   "source": [
    "# <a id=\"t3\"></a>3. Extracting from other databases"
   ]
  },
  {
   "cell_type": "markdown",
   "id": "e4a9e050",
   "metadata": {},
   "source": [
    "## <a id=\"t3.1\"></a>3.1 Using Econdata\n",
    "Econdata is a library for the extraction of time series of the main economic institutions for Peru. The current version includes the following institutions:\n",
    "\n",
    "1. Central Reserve Bank of Peru (BCRP) \n",
    "2. World Bank (WB)\n",
    "3. Federal Reserve Economic Data (FRED)\n",
    "4. International Monetary Fund (IMF)\n",
    "5. Organization for Economic Co-operation and Development (OECD)\n",
    "6. Yahoo! Finance (YFinance)\n",
    "\n",
    "More information: <a href=\"https://github.com/mauricioalvaradoo/econdata?tab=readme-ov-file#instalaci%C3%B3n\" target=\"_blank\">    here </a>"
   ]
  },
  {
   "cell_type": "code",
   "execution_count": 137,
   "id": "fa1724de",
   "metadata": {},
   "outputs": [],
   "source": [
    "# pip install econdata"
   ]
  },
  {
   "cell_type": "code",
   "execution_count": 141,
   "id": "8b919764",
   "metadata": {},
   "outputs": [],
   "source": [
    "from econdata import BCRP\n",
    "from econdata import WB\n",
    "from econdata import FRED\n",
    "from econdata import OECD\n",
    "from econdata import YFinance\n",
    "from econdata import IMF"
   ]
  },
  {
   "cell_type": "markdown",
   "id": "a0c62717",
   "metadata": {},
   "source": [
    "### `search()`"
   ]
  },
  {
   "cell_type": "code",
   "execution_count": 142,
   "id": "8de3ae9e",
   "metadata": {},
   "outputs": [
    {
     "data": {
      "text/html": [
       "<div>\n",
       "<style scoped>\n",
       "    .dataframe tbody tr th:only-of-type {\n",
       "        vertical-align: middle;\n",
       "    }\n",
       "\n",
       "    .dataframe tbody tr th {\n",
       "        vertical-align: top;\n",
       "    }\n",
       "\n",
       "    .dataframe thead th {\n",
       "        text-align: right;\n",
       "    }\n",
       "</style>\n",
       "<table border=\"1\" class=\"dataframe\">\n",
       "  <thead>\n",
       "    <tr style=\"text-align: right;\">\n",
       "      <th></th>\n",
       "      <th>Grupo de serie</th>\n",
       "      <th>Nombre de serie</th>\n",
       "      <th>Frecuencia</th>\n",
       "      <th>Fecha de inicio</th>\n",
       "      <th>Fecha de fin</th>\n",
       "    </tr>\n",
       "    <tr>\n",
       "      <th>Código de serie</th>\n",
       "      <th></th>\n",
       "      <th></th>\n",
       "      <th></th>\n",
       "      <th></th>\n",
       "      <th></th>\n",
       "    </tr>\n",
       "  </thead>\n",
       "  <tbody>\n",
       "    <tr>\n",
       "      <th>PN02507AQ</th>\n",
       "      <td>Producto bruto interno (variaciones porcentuales)</td>\n",
       "      <td>PBI Global</td>\n",
       "      <td>Trimestral</td>\n",
       "      <td>T1-1980</td>\n",
       "      <td>T4-2023</td>\n",
       "    </tr>\n",
       "    <tr>\n",
       "      <th>PN02526AQ</th>\n",
       "      <td>Producto bruto interno por tipo de gasto (vari...</td>\n",
       "      <td>PBI</td>\n",
       "      <td>Trimestral</td>\n",
       "      <td>T1-1980</td>\n",
       "      <td>T4-2023</td>\n",
       "    </tr>\n",
       "  </tbody>\n",
       "</table>\n",
       "</div>"
      ],
      "text/plain": [
       "                                                    Grupo de serie  \\\n",
       "Código de serie                                                      \n",
       "PN02507AQ        Producto bruto interno (variaciones porcentuales)   \n",
       "PN02526AQ        Producto bruto interno por tipo de gasto (vari...   \n",
       "\n",
       "                Nombre de serie  Frecuencia Fecha de inicio Fecha de fin  \n",
       "Código de serie                                                           \n",
       "PN02507AQ            PBI Global  Trimestral         T1-1980      T4-2023  \n",
       "PN02526AQ                   PBI  Trimestral         T1-1980      T4-2023  "
      ]
     },
     "execution_count": 142,
     "metadata": {},
     "output_type": "execute_result"
    }
   ],
   "source": [
    "BCRP.search(\n",
    "    consulta=['PBI'],\n",
    "    grupo=['Producto', 'variaciones'],\n",
    "    frecuencia='Trimestral'\n",
    ")"
   ]
  },
  {
   "cell_type": "code",
   "execution_count": 143,
   "id": "b8f142cd",
   "metadata": {},
   "outputs": [
    {
     "data": {
      "text/html": [
       "<div>\n",
       "<style scoped>\n",
       "    .dataframe tbody tr th:only-of-type {\n",
       "        vertical-align: middle;\n",
       "    }\n",
       "\n",
       "    .dataframe tbody tr th {\n",
       "        vertical-align: top;\n",
       "    }\n",
       "\n",
       "    .dataframe thead th {\n",
       "        text-align: right;\n",
       "    }\n",
       "</style>\n",
       "<table border=\"1\" class=\"dataframe\">\n",
       "  <thead>\n",
       "    <tr style=\"text-align: right;\">\n",
       "      <th></th>\n",
       "      <th>title</th>\n",
       "    </tr>\n",
       "    <tr>\n",
       "      <th>id</th>\n",
       "      <th></th>\n",
       "    </tr>\n",
       "  </thead>\n",
       "  <tbody>\n",
       "    <tr>\n",
       "      <th>NY.GDP.PCAP.CD</th>\n",
       "      <td>GDP per capita (current US$)</td>\n",
       "    </tr>\n",
       "    <tr>\n",
       "      <th>NY.GDP.PCAP.CN</th>\n",
       "      <td>GDP per capita (current LCU)</td>\n",
       "    </tr>\n",
       "    <tr>\n",
       "      <th>NY.GDP.PCAP.KD</th>\n",
       "      <td>GDP per capita (constant 2015 US$)</td>\n",
       "    </tr>\n",
       "    <tr>\n",
       "      <th>NY.GDP.PCAP.KD.ZG</th>\n",
       "      <td>GDP per capita growth (annual %)</td>\n",
       "    </tr>\n",
       "    <tr>\n",
       "      <th>NY.GDP.PCAP.KN</th>\n",
       "      <td>GDP per capita (constant LCU)</td>\n",
       "    </tr>\n",
       "    <tr>\n",
       "      <th>NY.GDP.PCAP.PP.CD</th>\n",
       "      <td>GDP per capita, PPP (current international $)</td>\n",
       "    </tr>\n",
       "    <tr>\n",
       "      <th>NY.GDP.PCAP.PP.KD</th>\n",
       "      <td>GDP per capita, PPP (constant 2021 internation...</td>\n",
       "    </tr>\n",
       "    <tr>\n",
       "      <th>PA.NUS.PPP</th>\n",
       "      <td>PPP can be used to convert national accounts d...</td>\n",
       "    </tr>\n",
       "    <tr>\n",
       "      <th>SE.XPD.PRIM.PC.ZS</th>\n",
       "      <td>Government expenditure per student, primary (%...</td>\n",
       "    </tr>\n",
       "    <tr>\n",
       "      <th>SE.XPD.SECO.PC.ZS</th>\n",
       "      <td>Government expenditure per student, secondary ...</td>\n",
       "    </tr>\n",
       "    <tr>\n",
       "      <th>SE.XPD.TERT.PC.ZS</th>\n",
       "      <td>Government expenditure per student, tertiary (...</td>\n",
       "    </tr>\n",
       "  </tbody>\n",
       "</table>\n",
       "</div>"
      ],
      "text/plain": [
       "                                                               title\n",
       "id                                                                  \n",
       "NY.GDP.PCAP.CD                          GDP per capita (current US$)\n",
       "NY.GDP.PCAP.CN                          GDP per capita (current LCU)\n",
       "NY.GDP.PCAP.KD                    GDP per capita (constant 2015 US$)\n",
       "NY.GDP.PCAP.KD.ZG                   GDP per capita growth (annual %)\n",
       "NY.GDP.PCAP.KN                         GDP per capita (constant LCU)\n",
       "NY.GDP.PCAP.PP.CD      GDP per capita, PPP (current international $)\n",
       "NY.GDP.PCAP.PP.KD  GDP per capita, PPP (constant 2021 internation...\n",
       "PA.NUS.PPP         PPP can be used to convert national accounts d...\n",
       "SE.XPD.PRIM.PC.ZS  Government expenditure per student, primary (%...\n",
       "SE.XPD.SECO.PC.ZS  Government expenditure per student, secondary ...\n",
       "SE.XPD.TERT.PC.ZS  Government expenditure per student, tertiary (..."
      ]
     },
     "execution_count": 143,
     "metadata": {},
     "output_type": "execute_result"
    }
   ],
   "source": [
    "\n",
    "WB.search(\n",
    "    consulta=['gdp', 'per', 'capita']\n",
    ")"
   ]
  },
  {
   "cell_type": "code",
   "execution_count": 156,
   "id": "2b5336f1",
   "metadata": {},
   "outputs": [
    {
     "data": {
      "text/html": [
       "<div>\n",
       "<style scoped>\n",
       "    .dataframe tbody tr th:only-of-type {\n",
       "        vertical-align: middle;\n",
       "    }\n",
       "\n",
       "    .dataframe tbody tr th {\n",
       "        vertical-align: top;\n",
       "    }\n",
       "\n",
       "    .dataframe thead th {\n",
       "        text-align: right;\n",
       "    }\n",
       "</style>\n",
       "<table border=\"1\" class=\"dataframe\">\n",
       "  <thead>\n",
       "    <tr style=\"text-align: right;\">\n",
       "      <th></th>\n",
       "      <th>title</th>\n",
       "    </tr>\n",
       "    <tr>\n",
       "      <th>id</th>\n",
       "      <th></th>\n",
       "    </tr>\n",
       "  </thead>\n",
       "  <tbody>\n",
       "    <tr>\n",
       "      <th>SH.DYN.0509</th>\n",
       "      <td>Mortality rates for different age groups (infa...</td>\n",
       "    </tr>\n",
       "    <tr>\n",
       "      <th>SH.DYN.MORT</th>\n",
       "      <td>Mortality rates for different age groups (infa...</td>\n",
       "    </tr>\n",
       "    <tr>\n",
       "      <th>SP.DYN.CDRT.IN</th>\n",
       "      <td>The crude death rate is a good indicator of th...</td>\n",
       "    </tr>\n",
       "  </tbody>\n",
       "</table>\n",
       "</div>"
      ],
      "text/plain": [
       "                                                            title\n",
       "id                                                               \n",
       "SH.DYN.0509     Mortality rates for different age groups (infa...\n",
       "SH.DYN.MORT     Mortality rates for different age groups (infa...\n",
       "SP.DYN.CDRT.IN  The crude death rate is a good indicator of th..."
      ]
     },
     "execution_count": 156,
     "metadata": {},
     "output_type": "execute_result"
    }
   ],
   "source": [
    "WB.search(\n",
    "    ['life', 'expectancy']\n",
    ")"
   ]
  },
  {
   "cell_type": "code",
   "execution_count": 144,
   "id": "28b02609",
   "metadata": {},
   "outputs": [
    {
     "data": {
      "text/html": [
       "<div>\n",
       "<style scoped>\n",
       "    .dataframe tbody tr th:only-of-type {\n",
       "        vertical-align: middle;\n",
       "    }\n",
       "\n",
       "    .dataframe tbody tr th {\n",
       "        vertical-align: top;\n",
       "    }\n",
       "\n",
       "    .dataframe thead th {\n",
       "        text-align: right;\n",
       "    }\n",
       "</style>\n",
       "<table border=\"1\" class=\"dataframe\">\n",
       "  <thead>\n",
       "    <tr style=\"text-align: right;\">\n",
       "      <th></th>\n",
       "      <th>Name</th>\n",
       "      <th>Country</th>\n",
       "      <th>IPO Year</th>\n",
       "      <th>Sector</th>\n",
       "      <th>Industry</th>\n",
       "    </tr>\n",
       "    <tr>\n",
       "      <th>Symbol</th>\n",
       "      <th></th>\n",
       "      <th></th>\n",
       "      <th></th>\n",
       "      <th></th>\n",
       "      <th></th>\n",
       "    </tr>\n",
       "  </thead>\n",
       "  <tbody>\n",
       "    <tr>\n",
       "      <th>MSFT</th>\n",
       "      <td>Microsoft Corporation Common Stock</td>\n",
       "      <td>United States</td>\n",
       "      <td>1986</td>\n",
       "      <td>Technology</td>\n",
       "      <td>Computer Software: Prepackaged Software</td>\n",
       "    </tr>\n",
       "  </tbody>\n",
       "</table>\n",
       "</div>"
      ],
      "text/plain": [
       "                                      Name        Country  IPO Year  \\\n",
       "Symbol                                                                \n",
       "MSFT    Microsoft Corporation Common Stock  United States      1986   \n",
       "\n",
       "            Sector                                 Industry  \n",
       "Symbol                                                       \n",
       "MSFT    Technology  Computer Software: Prepackaged Software  "
      ]
     },
     "execution_count": 144,
     "metadata": {},
     "output_type": "execute_result"
    }
   ],
   "source": [
    "YFinance.search(\n",
    "    consulta=['Microsoft']\n",
    ")"
   ]
  },
  {
   "cell_type": "code",
   "execution_count": 145,
   "id": "038ef1f2",
   "metadata": {},
   "outputs": [
    {
     "data": {
      "text/html": [
       "<div>\n",
       "<style scoped>\n",
       "    .dataframe tbody tr th:only-of-type {\n",
       "        vertical-align: middle;\n",
       "    }\n",
       "\n",
       "    .dataframe tbody tr th {\n",
       "        vertical-align: top;\n",
       "    }\n",
       "\n",
       "    .dataframe thead th {\n",
       "        text-align: right;\n",
       "    }\n",
       "</style>\n",
       "<table border=\"1\" class=\"dataframe\">\n",
       "  <thead>\n",
       "    <tr style=\"text-align: right;\">\n",
       "      <th></th>\n",
       "      <th>Nombres</th>\n",
       "      <th>Unidades</th>\n",
       "      <th>Dataset</th>\n",
       "    </tr>\n",
       "    <tr>\n",
       "      <th>Código</th>\n",
       "      <th></th>\n",
       "      <th></th>\n",
       "      <th></th>\n",
       "    </tr>\n",
       "  </thead>\n",
       "  <tbody>\n",
       "    <tr>\n",
       "      <th>NGDP_RPCH</th>\n",
       "      <td>Real GDP growth</td>\n",
       "      <td>Annual percent change</td>\n",
       "      <td>WEO</td>\n",
       "    </tr>\n",
       "    <tr>\n",
       "      <th>NGDPD</th>\n",
       "      <td>GDP, current prices</td>\n",
       "      <td>Billions of U.S. dollars</td>\n",
       "      <td>WEO</td>\n",
       "    </tr>\n",
       "    <tr>\n",
       "      <th>NGDPDPC</th>\n",
       "      <td>GDP per capita, current prices\\n</td>\n",
       "      <td>U.S. dollars per capita</td>\n",
       "      <td>WEO</td>\n",
       "    </tr>\n",
       "    <tr>\n",
       "      <th>PPPGDP</th>\n",
       "      <td>GDP, current prices</td>\n",
       "      <td>Purchasing power parity; billions of internati...</td>\n",
       "      <td>WEO</td>\n",
       "    </tr>\n",
       "    <tr>\n",
       "      <th>PPPPC</th>\n",
       "      <td>GDP per capita, current prices</td>\n",
       "      <td>Purchasing power parity; international dollars...</td>\n",
       "      <td>WEO</td>\n",
       "    </tr>\n",
       "    <tr>\n",
       "      <th>PPPSH</th>\n",
       "      <td>GDP based on PPP, share of world</td>\n",
       "      <td>Percent of World</td>\n",
       "      <td>WEO</td>\n",
       "    </tr>\n",
       "    <tr>\n",
       "      <th>BCA_NGDPD</th>\n",
       "      <td>Current account balance, percent of GDP</td>\n",
       "      <td>Percent of GDP</td>\n",
       "      <td>WEO</td>\n",
       "    </tr>\n",
       "    <tr>\n",
       "      <th>rev</th>\n",
       "      <td>Government revenue, percent of GDP</td>\n",
       "      <td>% of GDP</td>\n",
       "      <td>FPP</td>\n",
       "    </tr>\n",
       "    <tr>\n",
       "      <th>exp</th>\n",
       "      <td>Government expenditure, percent of GDP</td>\n",
       "      <td>% of GDP</td>\n",
       "      <td>FPP</td>\n",
       "    </tr>\n",
       "    <tr>\n",
       "      <th>prim_exp</th>\n",
       "      <td>Government primary expenditure, percent of GDP</td>\n",
       "      <td>% of GDP</td>\n",
       "      <td>FPP</td>\n",
       "    </tr>\n",
       "    <tr>\n",
       "      <th>ie</th>\n",
       "      <td>Interest paid on public debt, percent of GDP</td>\n",
       "      <td>% of GDP</td>\n",
       "      <td>FPP</td>\n",
       "    </tr>\n",
       "    <tr>\n",
       "      <th>pb</th>\n",
       "      <td>Government primary balance, percent of GDP</td>\n",
       "      <td>% of GDP</td>\n",
       "      <td>FPP</td>\n",
       "    </tr>\n",
       "    <tr>\n",
       "      <th>d</th>\n",
       "      <td>Gross public debt, percent of GDP</td>\n",
       "      <td>% of GDP</td>\n",
       "      <td>FPP</td>\n",
       "    </tr>\n",
       "    <tr>\n",
       "      <th>PrivInexDIGDP</th>\n",
       "      <td>Private Inflows excluding Direct Investment (%...</td>\n",
       "      <td>Percent</td>\n",
       "      <td>CF</td>\n",
       "    </tr>\n",
       "    <tr>\n",
       "      <th>PrivOutexDIGDP</th>\n",
       "      <td>Private Outflows excluding Direct Investment (...</td>\n",
       "      <td>Percent</td>\n",
       "      <td>CF</td>\n",
       "    </tr>\n",
       "    <tr>\n",
       "      <th>GDP</th>\n",
       "      <td>Nominal GDP</td>\n",
       "      <td>Millions of US Dollars</td>\n",
       "      <td>CF</td>\n",
       "    </tr>\n",
       "    <tr>\n",
       "      <th>NGDP_R_PCH</th>\n",
       "      <td>Real GDP Growth</td>\n",
       "      <td>Annual percent change</td>\n",
       "      <td>AFRREO</td>\n",
       "    </tr>\n",
       "    <tr>\n",
       "      <th>NGDPXO_RPCH</th>\n",
       "      <td>Real Non-Oil GDP Growth</td>\n",
       "      <td>Annual percent change</td>\n",
       "      <td>AFRREO</td>\n",
       "    </tr>\n",
       "    <tr>\n",
       "      <th>NGDPRPC_PCH</th>\n",
       "      <td>Real Per Capita GDP Growth</td>\n",
       "      <td>Annual percent change</td>\n",
       "      <td>AFRREO</td>\n",
       "    </tr>\n",
       "    <tr>\n",
       "      <th>NI_GDP</th>\n",
       "      <td>Total Investment (% of GDP)</td>\n",
       "      <td>Percent of GDP</td>\n",
       "      <td>AFRREO</td>\n",
       "    </tr>\n",
       "    <tr>\n",
       "      <th>NGS_GDP</th>\n",
       "      <td>Gross National Savings (% of GDP)</td>\n",
       "      <td>Percent of GDP</td>\n",
       "      <td>AFRREO</td>\n",
       "    </tr>\n",
       "    <tr>\n",
       "      <th>GGXCNL_GDP</th>\n",
       "      <td>Overall Fiscal Balance, Including Grants (% of...</td>\n",
       "      <td>Percent of GDP</td>\n",
       "      <td>AFRREO</td>\n",
       "    </tr>\n",
       "    <tr>\n",
       "      <th>GGXCNLXG_GDP</th>\n",
       "      <td>Overall Fiscal Balance, Excluding Grants (% of...</td>\n",
       "      <td>Percent of GDP</td>\n",
       "      <td>AFRREO</td>\n",
       "    </tr>\n",
       "    <tr>\n",
       "      <th>GGRXG_GDP</th>\n",
       "      <td>Government Revenue, Excluding Grants (% of GDP)</td>\n",
       "      <td>Percent of GDP</td>\n",
       "      <td>AFRREO</td>\n",
       "    </tr>\n",
       "    <tr>\n",
       "      <th>GGX_GDP</th>\n",
       "      <td>Government Expenditure (% of GDP)</td>\n",
       "      <td>Percent of GDP</td>\n",
       "      <td>AFRREO</td>\n",
       "    </tr>\n",
       "    <tr>\n",
       "      <th>GGXWDG_GDP</th>\n",
       "      <td>Government Debt (% of GDP)</td>\n",
       "      <td>Percent of GDP</td>\n",
       "      <td>AFRREO</td>\n",
       "    </tr>\n",
       "    <tr>\n",
       "      <th>FMB_GDP</th>\n",
       "      <td>Broad Money (% of GDP)</td>\n",
       "      <td>Percent of GDP</td>\n",
       "      <td>AFRREO</td>\n",
       "    </tr>\n",
       "    <tr>\n",
       "      <th>FDSAOP_GDP</th>\n",
       "      <td>Claims on Nonfinancial Private Sector (% of GDP)</td>\n",
       "      <td>Percent of GDP</td>\n",
       "      <td>AFRREO</td>\n",
       "    </tr>\n",
       "    <tr>\n",
       "      <th>BX_GDP</th>\n",
       "      <td>Exports of Goods and Services (% of GDP)</td>\n",
       "      <td>Percent of GDP</td>\n",
       "      <td>AFRREO</td>\n",
       "    </tr>\n",
       "    <tr>\n",
       "      <th>BCA_GDP</th>\n",
       "      <td>External Current Account, Incl.Grants (% of GDP)</td>\n",
       "      <td>Percent of GDP</td>\n",
       "      <td>AFRREO</td>\n",
       "    </tr>\n",
       "    <tr>\n",
       "      <th>BM_GDP</th>\n",
       "      <td>Imports of Goods and Services (% of GDP)</td>\n",
       "      <td>Percent of GDP</td>\n",
       "      <td>AFRREO</td>\n",
       "    </tr>\n",
       "    <tr>\n",
       "      <th>BT_GDP</th>\n",
       "      <td>Trade Balance (% of GDP)</td>\n",
       "      <td>Percent of GDP</td>\n",
       "      <td>AFRREO</td>\n",
       "    </tr>\n",
       "    <tr>\n",
       "      <th>BFD_GDP</th>\n",
       "      <td>Net Foreign Direct Investment (% of GDP)</td>\n",
       "      <td>Percent of GDP</td>\n",
       "      <td>AFRREO</td>\n",
       "    </tr>\n",
       "    <tr>\n",
       "      <th>DG_GDP</th>\n",
       "      <td>External Debt, Official Debt, Debtor Based (% ...</td>\n",
       "      <td>Percent of GDP</td>\n",
       "      <td>AFRREO</td>\n",
       "    </tr>\n",
       "  </tbody>\n",
       "</table>\n",
       "</div>"
      ],
      "text/plain": [
       "                                                          Nombres  \\\n",
       "Código                                                              \n",
       "NGDP_RPCH                                         Real GDP growth   \n",
       "NGDPD                                         GDP, current prices   \n",
       "NGDPDPC                          GDP per capita, current prices\\n   \n",
       "PPPGDP                                        GDP, current prices   \n",
       "PPPPC                              GDP per capita, current prices   \n",
       "PPPSH                            GDP based on PPP, share of world   \n",
       "BCA_NGDPD                 Current account balance, percent of GDP   \n",
       "rev                            Government revenue, percent of GDP   \n",
       "exp                        Government expenditure, percent of GDP   \n",
       "prim_exp           Government primary expenditure, percent of GDP   \n",
       "ie                   Interest paid on public debt, percent of GDP   \n",
       "pb                     Government primary balance, percent of GDP   \n",
       "d                               Gross public debt, percent of GDP   \n",
       "PrivInexDIGDP   Private Inflows excluding Direct Investment (%...   \n",
       "PrivOutexDIGDP  Private Outflows excluding Direct Investment (...   \n",
       "GDP                                                   Nominal GDP   \n",
       "NGDP_R_PCH                                        Real GDP Growth   \n",
       "NGDPXO_RPCH                               Real Non-Oil GDP Growth   \n",
       "NGDPRPC_PCH                            Real Per Capita GDP Growth   \n",
       "NI_GDP                                Total Investment (% of GDP)   \n",
       "NGS_GDP                         Gross National Savings (% of GDP)   \n",
       "GGXCNL_GDP      Overall Fiscal Balance, Including Grants (% of...   \n",
       "GGXCNLXG_GDP    Overall Fiscal Balance, Excluding Grants (% of...   \n",
       "GGRXG_GDP         Government Revenue, Excluding Grants (% of GDP)   \n",
       "GGX_GDP                         Government Expenditure (% of GDP)   \n",
       "GGXWDG_GDP                             Government Debt (% of GDP)   \n",
       "FMB_GDP                                    Broad Money (% of GDP)   \n",
       "FDSAOP_GDP       Claims on Nonfinancial Private Sector (% of GDP)   \n",
       "BX_GDP                   Exports of Goods and Services (% of GDP)   \n",
       "BCA_GDP          External Current Account, Incl.Grants (% of GDP)   \n",
       "BM_GDP                   Imports of Goods and Services (% of GDP)   \n",
       "BT_GDP                                   Trade Balance (% of GDP)   \n",
       "BFD_GDP                  Net Foreign Direct Investment (% of GDP)   \n",
       "DG_GDP          External Debt, Official Debt, Debtor Based (% ...   \n",
       "\n",
       "                                                         Unidades Dataset  \n",
       "Código                                                                     \n",
       "NGDP_RPCH                                   Annual percent change     WEO  \n",
       "NGDPD                                    Billions of U.S. dollars     WEO  \n",
       "NGDPDPC                                   U.S. dollars per capita     WEO  \n",
       "PPPGDP          Purchasing power parity; billions of internati...     WEO  \n",
       "PPPPC           Purchasing power parity; international dollars...     WEO  \n",
       "PPPSH                                            Percent of World     WEO  \n",
       "BCA_NGDPD                                          Percent of GDP     WEO  \n",
       "rev                                                      % of GDP     FPP  \n",
       "exp                                                      % of GDP     FPP  \n",
       "prim_exp                                                 % of GDP     FPP  \n",
       "ie                                                       % of GDP     FPP  \n",
       "pb                                                       % of GDP     FPP  \n",
       "d                                                        % of GDP     FPP  \n",
       "PrivInexDIGDP                                             Percent      CF  \n",
       "PrivOutexDIGDP                                            Percent      CF  \n",
       "GDP                                        Millions of US Dollars      CF  \n",
       "NGDP_R_PCH                                  Annual percent change  AFRREO  \n",
       "NGDPXO_RPCH                                 Annual percent change  AFRREO  \n",
       "NGDPRPC_PCH                                 Annual percent change  AFRREO  \n",
       "NI_GDP                                             Percent of GDP  AFRREO  \n",
       "NGS_GDP                                            Percent of GDP  AFRREO  \n",
       "GGXCNL_GDP                                         Percent of GDP  AFRREO  \n",
       "GGXCNLXG_GDP                                       Percent of GDP  AFRREO  \n",
       "GGRXG_GDP                                          Percent of GDP  AFRREO  \n",
       "GGX_GDP                                            Percent of GDP  AFRREO  \n",
       "GGXWDG_GDP                                         Percent of GDP  AFRREO  \n",
       "FMB_GDP                                            Percent of GDP  AFRREO  \n",
       "FDSAOP_GDP                                         Percent of GDP  AFRREO  \n",
       "BX_GDP                                             Percent of GDP  AFRREO  \n",
       "BCA_GDP                                            Percent of GDP  AFRREO  \n",
       "BM_GDP                                             Percent of GDP  AFRREO  \n",
       "BT_GDP                                             Percent of GDP  AFRREO  \n",
       "BFD_GDP                                            Percent of GDP  AFRREO  \n",
       "DG_GDP                                             Percent of GDP  AFRREO  "
      ]
     },
     "execution_count": 145,
     "metadata": {},
     "output_type": "execute_result"
    }
   ],
   "source": [
    "IMF.search('Indicadores', ['GDP'])"
   ]
  },
  {
   "cell_type": "code",
   "execution_count": 151,
   "id": "0230c64b",
   "metadata": {},
   "outputs": [
    {
     "data": {
      "text/html": [
       "<div>\n",
       "<style scoped>\n",
       "    .dataframe tbody tr th:only-of-type {\n",
       "        vertical-align: middle;\n",
       "    }\n",
       "\n",
       "    .dataframe tbody tr th {\n",
       "        vertical-align: top;\n",
       "    }\n",
       "\n",
       "    .dataframe thead th {\n",
       "        text-align: right;\n",
       "    }\n",
       "</style>\n",
       "<table border=\"1\" class=\"dataframe\">\n",
       "  <thead>\n",
       "    <tr style=\"text-align: right;\">\n",
       "      <th></th>\n",
       "      <th>Nombres</th>\n",
       "    </tr>\n",
       "    <tr>\n",
       "      <th>Código</th>\n",
       "      <th></th>\n",
       "    </tr>\n",
       "  </thead>\n",
       "  <tbody>\n",
       "    <tr>\n",
       "      <th>CHL</th>\n",
       "      <td>Chile</td>\n",
       "    </tr>\n",
       "  </tbody>\n",
       "</table>\n",
       "</div>"
      ],
      "text/plain": [
       "       Nombres\n",
       "Código        \n",
       "CHL      Chile"
      ]
     },
     "execution_count": 151,
     "metadata": {},
     "output_type": "execute_result"
    }
   ],
   "source": [
    "IMF.search('Países', ['Chile'])"
   ]
  },
  {
   "cell_type": "code",
   "execution_count": 153,
   "id": "331d9673",
   "metadata": {},
   "outputs": [
    {
     "data": {
      "text/html": [
       "<div>\n",
       "<style scoped>\n",
       "    .dataframe tbody tr th:only-of-type {\n",
       "        vertical-align: middle;\n",
       "    }\n",
       "\n",
       "    .dataframe tbody tr th {\n",
       "        vertical-align: top;\n",
       "    }\n",
       "\n",
       "    .dataframe thead th {\n",
       "        text-align: right;\n",
       "    }\n",
       "</style>\n",
       "<table border=\"1\" class=\"dataframe\">\n",
       "  <thead>\n",
       "    <tr style=\"text-align: right;\">\n",
       "      <th></th>\n",
       "      <th>Nombres</th>\n",
       "    </tr>\n",
       "    <tr>\n",
       "      <th>Código</th>\n",
       "      <th></th>\n",
       "    </tr>\n",
       "  </thead>\n",
       "  <tbody>\n",
       "    <tr>\n",
       "      <th>PER</th>\n",
       "      <td>Peru</td>\n",
       "    </tr>\n",
       "  </tbody>\n",
       "</table>\n",
       "</div>"
      ],
      "text/plain": [
       "       Nombres\n",
       "Código        \n",
       "PER       Peru"
      ]
     },
     "execution_count": 153,
     "metadata": {},
     "output_type": "execute_result"
    }
   ],
   "source": [
    "IMF.search('Países', ['Peru'])"
   ]
  },
  {
   "cell_type": "markdown",
   "id": "8f0253c1",
   "metadata": {},
   "source": [
    "### `.get_data()`"
   ]
  },
  {
   "cell_type": "code",
   "execution_count": 157,
   "id": "8371a249",
   "metadata": {},
   "outputs": [
    {
     "data": {
      "text/html": [
       "<div>\n",
       "<style scoped>\n",
       "    .dataframe tbody tr th:only-of-type {\n",
       "        vertical-align: middle;\n",
       "    }\n",
       "\n",
       "    .dataframe tbody tr th {\n",
       "        vertical-align: top;\n",
       "    }\n",
       "\n",
       "    .dataframe thead th {\n",
       "        text-align: right;\n",
       "    }\n",
       "</style>\n",
       "<table border=\"1\" class=\"dataframe\">\n",
       "  <thead>\n",
       "    <tr style=\"text-align: right;\">\n",
       "      <th></th>\n",
       "      <th>TC Interbancario promedio - pdp</th>\n",
       "      <th>TC Interbancario compra - pdp</th>\n",
       "      <th>TC Interbancario venta - pdp</th>\n",
       "    </tr>\n",
       "  </thead>\n",
       "  <tbody>\n",
       "    <tr>\n",
       "      <th>2000-01-01</th>\n",
       "      <td>3.499776</td>\n",
       "      <td>3.498686</td>\n",
       "      <td>3.500867</td>\n",
       "    </tr>\n",
       "    <tr>\n",
       "      <th>2000-02-01</th>\n",
       "      <td>3.455024</td>\n",
       "      <td>3.453443</td>\n",
       "      <td>3.456605</td>\n",
       "    </tr>\n",
       "    <tr>\n",
       "      <th>2000-03-01</th>\n",
       "      <td>3.442857</td>\n",
       "      <td>3.441504</td>\n",
       "      <td>3.444209</td>\n",
       "    </tr>\n",
       "    <tr>\n",
       "      <th>2000-04-01</th>\n",
       "      <td>3.478736</td>\n",
       "      <td>3.477294</td>\n",
       "      <td>3.480178</td>\n",
       "    </tr>\n",
       "    <tr>\n",
       "      <th>2000-05-01</th>\n",
       "      <td>3.504061</td>\n",
       "      <td>3.503100</td>\n",
       "      <td>3.505023</td>\n",
       "    </tr>\n",
       "  </tbody>\n",
       "</table>\n",
       "</div>"
      ],
      "text/plain": [
       "            TC Interbancario promedio - pdp  TC Interbancario compra - pdp  \\\n",
       "2000-01-01                         3.499776                       3.498686   \n",
       "2000-02-01                         3.455024                       3.453443   \n",
       "2000-03-01                         3.442857                       3.441504   \n",
       "2000-04-01                         3.478736                       3.477294   \n",
       "2000-05-01                         3.504061                       3.503100   \n",
       "\n",
       "            TC Interbancario venta - pdp  \n",
       "2000-01-01                      3.500867  \n",
       "2000-02-01                      3.456605  \n",
       "2000-03-01                      3.444209  \n",
       "2000-04-01                      3.480178  \n",
       "2000-05-01                      3.505023  "
      ]
     },
     "execution_count": 157,
     "metadata": {},
     "output_type": "execute_result"
    }
   ],
   "source": [
    "df = BCRP.get_data(\n",
    "    {\n",
    "        'PN01207PM': 'TC Interbancario promedio - pdp',\n",
    "        'PN01205PM': 'TC Interbancario compra - pdp',\n",
    "        'PN01206PM': 'TC Interbancario venta - pdp'\n",
    "    },\n",
    "    fechaini = '2000-01',\n",
    "    fechafin = '2022-01'\n",
    ")\n",
    "df.head()"
   ]
  },
  {
   "cell_type": "code",
   "execution_count": 159,
   "id": "115c39b8",
   "metadata": {},
   "outputs": [
    {
     "data": {
      "text/html": [
       "<div>\n",
       "<style scoped>\n",
       "    .dataframe tbody tr th:only-of-type {\n",
       "        vertical-align: middle;\n",
       "    }\n",
       "\n",
       "    .dataframe tbody tr th {\n",
       "        vertical-align: top;\n",
       "    }\n",
       "\n",
       "    .dataframe thead tr th {\n",
       "        text-align: left;\n",
       "    }\n",
       "\n",
       "    .dataframe thead tr:last-of-type th {\n",
       "        text-align: right;\n",
       "    }\n",
       "</style>\n",
       "<table border=\"1\" class=\"dataframe\">\n",
       "  <thead>\n",
       "    <tr>\n",
       "      <th></th>\n",
       "      <th>Brasil</th>\n",
       "      <th>Chile</th>\n",
       "      <th>Perú</th>\n",
       "    </tr>\n",
       "    <tr>\n",
       "      <th></th>\n",
       "      <th>Life expectancy at age 60, male</th>\n",
       "      <th>Life expectancy at age 60, male</th>\n",
       "      <th>Life expectancy at age 60, male</th>\n",
       "    </tr>\n",
       "    <tr>\n",
       "      <th>time</th>\n",
       "      <th></th>\n",
       "      <th></th>\n",
       "      <th></th>\n",
       "    </tr>\n",
       "  </thead>\n",
       "  <tbody>\n",
       "    <tr>\n",
       "      <th>1977</th>\n",
       "      <td>16.5432</td>\n",
       "      <td>15.1183</td>\n",
       "      <td>15.2375</td>\n",
       "    </tr>\n",
       "    <tr>\n",
       "      <th>1978</th>\n",
       "      <td>16.6148</td>\n",
       "      <td>15.2490</td>\n",
       "      <td>15.2596</td>\n",
       "    </tr>\n",
       "    <tr>\n",
       "      <th>1979</th>\n",
       "      <td>16.7079</td>\n",
       "      <td>14.9984</td>\n",
       "      <td>15.2383</td>\n",
       "    </tr>\n",
       "    <tr>\n",
       "      <th>1980</th>\n",
       "      <td>16.7750</td>\n",
       "      <td>15.2033</td>\n",
       "      <td>15.1506</td>\n",
       "    </tr>\n",
       "    <tr>\n",
       "      <th>1981</th>\n",
       "      <td>16.8489</td>\n",
       "      <td>15.7035</td>\n",
       "      <td>15.0092</td>\n",
       "    </tr>\n",
       "    <tr>\n",
       "      <th>1982</th>\n",
       "      <td>16.9110</td>\n",
       "      <td>15.6116</td>\n",
       "      <td>14.8410</td>\n",
       "    </tr>\n",
       "    <tr>\n",
       "      <th>1983</th>\n",
       "      <td>16.9678</td>\n",
       "      <td>15.2794</td>\n",
       "      <td>14.6944</td>\n",
       "    </tr>\n",
       "    <tr>\n",
       "      <th>1984</th>\n",
       "      <td>17.0113</td>\n",
       "      <td>15.3338</td>\n",
       "      <td>14.6344</td>\n",
       "    </tr>\n",
       "    <tr>\n",
       "      <th>1985</th>\n",
       "      <td>17.0541</td>\n",
       "      <td>15.8309</td>\n",
       "      <td>14.7588</td>\n",
       "    </tr>\n",
       "    <tr>\n",
       "      <th>1986</th>\n",
       "      <td>17.1089</td>\n",
       "      <td>16.3554</td>\n",
       "      <td>14.9658</td>\n",
       "    </tr>\n",
       "  </tbody>\n",
       "</table>\n",
       "</div>"
      ],
      "text/plain": [
       "                              Brasil                           Chile  \\\n",
       "     Life expectancy at age 60, male Life expectancy at age 60, male   \n",
       "time                                                                   \n",
       "1977                         16.5432                         15.1183   \n",
       "1978                         16.6148                         15.2490   \n",
       "1979                         16.7079                         14.9984   \n",
       "1980                         16.7750                         15.2033   \n",
       "1981                         16.8489                         15.7035   \n",
       "1982                         16.9110                         15.6116   \n",
       "1983                         16.9678                         15.2794   \n",
       "1984                         17.0113                         15.3338   \n",
       "1985                         17.0541                         15.8309   \n",
       "1986                         17.1089                         16.3554   \n",
       "\n",
       "                                Perú  \n",
       "     Life expectancy at age 60, male  \n",
       "time                                  \n",
       "1977                         15.2375  \n",
       "1978                         15.2596  \n",
       "1979                         15.2383  \n",
       "1980                         15.1506  \n",
       "1981                         15.0092  \n",
       "1982                         14.8410  \n",
       "1983                         14.6944  \n",
       "1984                         14.6344  \n",
       "1985                         14.7588  \n",
       "1986                         14.9658  "
      ]
     },
     "execution_count": 159,
     "metadata": {},
     "output_type": "execute_result"
    }
   ],
   "source": [
    "df = WB.get_data(\n",
    "    countries = {\n",
    "        'BR': 'Brasil',\n",
    "        'CL': 'Chile',\n",
    "        'PE': 'Perú'\n",
    "    },\n",
    "    indicators = {\n",
    "        'SP.DYN.LE60.MA.IN': 'Life expectancy at age 60, male'\n",
    "    },\n",
    "    fechaini = '1977',\n",
    "    fechafin = '2022'\n",
    ")\n",
    "df = df.dropna()\n",
    "df.head(10)"
   ]
  },
  {
   "cell_type": "code",
   "execution_count": 167,
   "id": "fa851172",
   "metadata": {},
   "outputs": [
    {
     "data": {
      "text/html": [
       "<div>\n",
       "<style scoped>\n",
       "    .dataframe tbody tr th:only-of-type {\n",
       "        vertical-align: middle;\n",
       "    }\n",
       "\n",
       "    .dataframe tbody tr th {\n",
       "        vertical-align: top;\n",
       "    }\n",
       "\n",
       "    .dataframe thead th {\n",
       "        text-align: right;\n",
       "    }\n",
       "</style>\n",
       "<table border=\"1\" class=\"dataframe\">\n",
       "  <thead>\n",
       "    <tr style=\"text-align: right;\">\n",
       "      <th></th>\n",
       "      <th>CHL</th>\n",
       "      <th>PER</th>\n",
       "    </tr>\n",
       "  </thead>\n",
       "  <tbody>\n",
       "    <tr>\n",
       "      <th>1980</th>\n",
       "      <td>7.9</td>\n",
       "      <td>7.7</td>\n",
       "    </tr>\n",
       "    <tr>\n",
       "      <th>1981</th>\n",
       "      <td>6.2</td>\n",
       "      <td>5.5</td>\n",
       "    </tr>\n",
       "    <tr>\n",
       "      <th>1982</th>\n",
       "      <td>-13.6</td>\n",
       "      <td>-0.3</td>\n",
       "    </tr>\n",
       "    <tr>\n",
       "      <th>1983</th>\n",
       "      <td>-2.8</td>\n",
       "      <td>-9.3</td>\n",
       "    </tr>\n",
       "    <tr>\n",
       "      <th>1984</th>\n",
       "      <td>5.9</td>\n",
       "      <td>3.8</td>\n",
       "    </tr>\n",
       "  </tbody>\n",
       "</table>\n",
       "</div>"
      ],
      "text/plain": [
       "       CHL  PER\n",
       "1980   7.9  7.7\n",
       "1981   6.2  5.5\n",
       "1982 -13.6 -0.3\n",
       "1983  -2.8 -9.3\n",
       "1984   5.9  3.8"
      ]
     },
     "execution_count": 167,
     "metadata": {},
     "output_type": "execute_result"
    }
   ],
   "source": [
    "df = IMF.get_data(\n",
    "    'NGDP_RPCH',\n",
    "    {\n",
    "         'PER': 'Perú',\n",
    "         'CHL': 'Chile'\n",
    "    }\n",
    ")\n",
    "df.head()"
   ]
  },
  {
   "cell_type": "code",
   "execution_count": 164,
   "id": "860ccd24",
   "metadata": {},
   "outputs": [
    {
     "data": {
      "text/html": [
       "<div>\n",
       "<style scoped>\n",
       "    .dataframe tbody tr th:only-of-type {\n",
       "        vertical-align: middle;\n",
       "    }\n",
       "\n",
       "    .dataframe tbody tr th {\n",
       "        vertical-align: top;\n",
       "    }\n",
       "\n",
       "    .dataframe thead th {\n",
       "        text-align: right;\n",
       "    }\n",
       "</style>\n",
       "<table border=\"1\" class=\"dataframe\">\n",
       "  <thead>\n",
       "    <tr style=\"text-align: right;\">\n",
       "      <th></th>\n",
       "      <th>Apple</th>\n",
       "      <th>Microsoft</th>\n",
       "      <th>Tesla</th>\n",
       "    </tr>\n",
       "    <tr>\n",
       "      <th>Date</th>\n",
       "      <th></th>\n",
       "      <th></th>\n",
       "      <th></th>\n",
       "    </tr>\n",
       "  </thead>\n",
       "  <tbody>\n",
       "    <tr>\n",
       "      <th>2015-01-02</th>\n",
       "      <td>24.402176</td>\n",
       "      <td>40.305367</td>\n",
       "      <td>14.620667</td>\n",
       "    </tr>\n",
       "    <tr>\n",
       "      <th>2015-01-05</th>\n",
       "      <td>23.714725</td>\n",
       "      <td>39.934734</td>\n",
       "      <td>14.006000</td>\n",
       "    </tr>\n",
       "    <tr>\n",
       "      <th>2015-01-06</th>\n",
       "      <td>23.716949</td>\n",
       "      <td>39.348595</td>\n",
       "      <td>14.085333</td>\n",
       "    </tr>\n",
       "    <tr>\n",
       "      <th>2015-01-07</th>\n",
       "      <td>24.049522</td>\n",
       "      <td>39.848537</td>\n",
       "      <td>14.063333</td>\n",
       "    </tr>\n",
       "    <tr>\n",
       "      <th>2015-01-08</th>\n",
       "      <td>24.973562</td>\n",
       "      <td>41.020802</td>\n",
       "      <td>14.041333</td>\n",
       "    </tr>\n",
       "    <tr>\n",
       "      <th>...</th>\n",
       "      <td>...</td>\n",
       "      <td>...</td>\n",
       "      <td>...</td>\n",
       "    </tr>\n",
       "    <tr>\n",
       "      <th>2022-12-23</th>\n",
       "      <td>130.782562</td>\n",
       "      <td>235.769760</td>\n",
       "      <td>123.150002</td>\n",
       "    </tr>\n",
       "    <tr>\n",
       "      <th>2022-12-27</th>\n",
       "      <td>128.967529</td>\n",
       "      <td>234.021713</td>\n",
       "      <td>109.099998</td>\n",
       "    </tr>\n",
       "    <tr>\n",
       "      <th>2022-12-28</th>\n",
       "      <td>125.010132</td>\n",
       "      <td>231.621841</td>\n",
       "      <td>112.709999</td>\n",
       "    </tr>\n",
       "    <tr>\n",
       "      <th>2022-12-29</th>\n",
       "      <td>128.550949</td>\n",
       "      <td>238.021469</td>\n",
       "      <td>121.820000</td>\n",
       "    </tr>\n",
       "    <tr>\n",
       "      <th>2022-12-30</th>\n",
       "      <td>128.868317</td>\n",
       "      <td>236.846252</td>\n",
       "      <td>123.180000</td>\n",
       "    </tr>\n",
       "  </tbody>\n",
       "</table>\n",
       "<p>2014 rows × 3 columns</p>\n",
       "</div>"
      ],
      "text/plain": [
       "                 Apple   Microsoft       Tesla\n",
       "Date                                          \n",
       "2015-01-02   24.402176   40.305367   14.620667\n",
       "2015-01-05   23.714725   39.934734   14.006000\n",
       "2015-01-06   23.716949   39.348595   14.085333\n",
       "2015-01-07   24.049522   39.848537   14.063333\n",
       "2015-01-08   24.973562   41.020802   14.041333\n",
       "...                ...         ...         ...\n",
       "2022-12-23  130.782562  235.769760  123.150002\n",
       "2022-12-27  128.967529  234.021713  109.099998\n",
       "2022-12-28  125.010132  231.621841  112.709999\n",
       "2022-12-29  128.550949  238.021469  121.820000\n",
       "2022-12-30  128.868317  236.846252  123.180000\n",
       "\n",
       "[2014 rows x 3 columns]"
      ]
     },
     "execution_count": 164,
     "metadata": {},
     "output_type": "execute_result"
    }
   ],
   "source": [
    "YFinance.get_data(\n",
    "    {\n",
    "        'AAPL': 'Apple',\n",
    "        'MSFT': 'Microsoft',\n",
    "        'TSLA': 'Tesla'\n",
    "    },\n",
    "    fechaini = '2015-01-01',\n",
    "    fechafin = '2022-12-31'\n",
    ")"
   ]
  },
  {
   "cell_type": "code",
   "execution_count": 165,
   "id": "022f8479",
   "metadata": {},
   "outputs": [
    {
     "data": {
      "text/html": [
       "<div>\n",
       "<style scoped>\n",
       "    .dataframe tbody tr th:only-of-type {\n",
       "        vertical-align: middle;\n",
       "    }\n",
       "\n",
       "    .dataframe tbody tr th {\n",
       "        vertical-align: top;\n",
       "    }\n",
       "\n",
       "    .dataframe thead th {\n",
       "        text-align: right;\n",
       "    }\n",
       "</style>\n",
       "<table border=\"1\" class=\"dataframe\">\n",
       "  <thead>\n",
       "    <tr style=\"text-align: right;\">\n",
       "      <th></th>\n",
       "      <th>Apple</th>\n",
       "      <th>Microsoft</th>\n",
       "      <th>Tesla</th>\n",
       "    </tr>\n",
       "    <tr>\n",
       "      <th>Date</th>\n",
       "      <th></th>\n",
       "      <th></th>\n",
       "      <th></th>\n",
       "    </tr>\n",
       "  </thead>\n",
       "  <tbody>\n",
       "    <tr>\n",
       "      <th>1980-12-12</th>\n",
       "      <td>0.099058</td>\n",
       "      <td>NaN</td>\n",
       "      <td>NaN</td>\n",
       "    </tr>\n",
       "    <tr>\n",
       "      <th>1980-12-15</th>\n",
       "      <td>0.093890</td>\n",
       "      <td>NaN</td>\n",
       "      <td>NaN</td>\n",
       "    </tr>\n",
       "    <tr>\n",
       "      <th>1980-12-16</th>\n",
       "      <td>0.086999</td>\n",
       "      <td>NaN</td>\n",
       "      <td>NaN</td>\n",
       "    </tr>\n",
       "    <tr>\n",
       "      <th>1980-12-17</th>\n",
       "      <td>0.089152</td>\n",
       "      <td>NaN</td>\n",
       "      <td>NaN</td>\n",
       "    </tr>\n",
       "    <tr>\n",
       "      <th>1980-12-18</th>\n",
       "      <td>0.091737</td>\n",
       "      <td>NaN</td>\n",
       "      <td>NaN</td>\n",
       "    </tr>\n",
       "    <tr>\n",
       "      <th>...</th>\n",
       "      <td>...</td>\n",
       "      <td>...</td>\n",
       "      <td>...</td>\n",
       "    </tr>\n",
       "    <tr>\n",
       "      <th>2024-07-01</th>\n",
       "      <td>216.750000</td>\n",
       "      <td>456.730011</td>\n",
       "      <td>209.860001</td>\n",
       "    </tr>\n",
       "    <tr>\n",
       "      <th>2024-07-02</th>\n",
       "      <td>220.270004</td>\n",
       "      <td>459.279999</td>\n",
       "      <td>231.259995</td>\n",
       "    </tr>\n",
       "    <tr>\n",
       "      <th>2024-07-03</th>\n",
       "      <td>221.550003</td>\n",
       "      <td>460.769989</td>\n",
       "      <td>246.389999</td>\n",
       "    </tr>\n",
       "    <tr>\n",
       "      <th>2024-07-05</th>\n",
       "      <td>226.339996</td>\n",
       "      <td>467.559998</td>\n",
       "      <td>251.520004</td>\n",
       "    </tr>\n",
       "    <tr>\n",
       "      <th>2024-07-08</th>\n",
       "      <td>227.820007</td>\n",
       "      <td>466.239990</td>\n",
       "      <td>252.940002</td>\n",
       "    </tr>\n",
       "  </tbody>\n",
       "</table>\n",
       "<p>10982 rows × 3 columns</p>\n",
       "</div>"
      ],
      "text/plain": [
       "                 Apple   Microsoft       Tesla\n",
       "Date                                          \n",
       "1980-12-12    0.099058         NaN         NaN\n",
       "1980-12-15    0.093890         NaN         NaN\n",
       "1980-12-16    0.086999         NaN         NaN\n",
       "1980-12-17    0.089152         NaN         NaN\n",
       "1980-12-18    0.091737         NaN         NaN\n",
       "...                ...         ...         ...\n",
       "2024-07-01  216.750000  456.730011  209.860001\n",
       "2024-07-02  220.270004  459.279999  231.259995\n",
       "2024-07-03  221.550003  460.769989  246.389999\n",
       "2024-07-05  226.339996  467.559998  251.520004\n",
       "2024-07-08  227.820007  466.239990  252.940002\n",
       "\n",
       "[10982 rows x 3 columns]"
      ]
     },
     "execution_count": 165,
     "metadata": {},
     "output_type": "execute_result"
    }
   ],
   "source": [
    "YFinance.get_data(\n",
    "    {\n",
    "        'AAPL': 'Apple',\n",
    "        'MSFT': 'Microsoft',\n",
    "        'TSLA': 'Tesla'\n",
    "    }\n",
    ")"
   ]
  },
  {
   "cell_type": "code",
   "execution_count": null,
   "id": "042c7da5",
   "metadata": {},
   "outputs": [],
   "source": []
  }
 ],
 "metadata": {
  "kernelspec": {
   "display_name": "Python 3 (ipykernel)",
   "language": "python",
   "name": "python3"
  },
  "language_info": {
   "codemirror_mode": {
    "name": "ipython",
    "version": 3
   },
   "file_extension": ".py",
   "mimetype": "text/x-python",
   "name": "python",
   "nbconvert_exporter": "python",
   "pygments_lexer": "ipython3",
   "version": "3.12.4"
  },
  "toc-showtags": false
 },
 "nbformat": 4,
 "nbformat_minor": 5
}
