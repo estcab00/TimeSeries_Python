{
 "cells": [
  {
   "cell_type": "markdown",
   "id": "e3295d5f",
   "metadata": {
    "tags": []
   },
   "source": [
    "# Session 1 - Time series visualization\n",
    "This workshop covers the fundamentals of time series management with Python. The objective is to provide the student with the fundamental knowledge to process, manage and visualize time series databases in Python. Python codes will be written and executed in Jupyter Notebook. Students will be provided with the databases to run the codes. Session 1 will be an introduction to the course.\n",
    "\n",
    "### Session: 1 - July 15\n",
    "### Time: 6pm- 8pm\n",
    "### Lecturer: Esteban Cabrera (esteban.cabrera@pucp.edu.pe)"
   ]
  },
  {
   "cell_type": "markdown",
   "id": "b0f62a44-1940-4da9-b388-6595311fc4c6",
   "metadata": {},
   "source": [
    "- [1. Introduction to time series in Python](#t1)\n",
    "  - [1.1. Date and time in Python](#t1.1)\n",
    "  - [1.2. Adding and subtracting time series](#t1.2)\n",
    "  - [1.3. Creating a sequence of dates](#t1.3)\n",
    "- [2. Indexing time series data](#t2)\n",
    "  - [2.1. Transforming an index into a DateTimeIndex](#t2.1)\n",
    "  - [2.2. Subsetting and indexing time series ](#t2.2)\n",
    "- [3. Transforming time series data](#t3)\n",
    "  - [3.1 Shifting time series and calculating percentage changes](#t3.1)\n",
    "  - [3.2. Changing the frequency of time series data](#t3.2)\n",
    "- [4. Plot summary statistics and synthesizing information](#t4)\n",
    "  - [4.1. Plotting boxplots](#t4.1)\n",
    "  - [4.2. Plotting histograms](#t4.2)\n",
    "  - [4.3. Plotting density plots](#t4.3)"
   ]
  },
  {
   "cell_type": "code",
   "execution_count": 2,
   "id": "11cee79a",
   "metadata": {
    "tags": []
   },
   "outputs": [],
   "source": [
    "# Some basic libraries\n",
    "import pandas as pd\n",
    "import numpy as np\n",
    "import matplotlib.pyplot as plt\n",
    "import seaborn as sns"
   ]
  },
  {
   "cell_type": "markdown",
   "id": "0579136f",
   "metadata": {
    "tags": []
   },
   "source": [
    "# <a id=\"t1\"></a>1. Introduction to time series in Python"
   ]
  },
  {
   "cell_type": "markdown",
   "id": "39ec45da",
   "metadata": {
    "tags": []
   },
   "source": [
    "## <a id=\"t1.1\"></a>1.1. Date and time in Python\n",
    "\n",
    "Pandas was originally developed to manage finantial information, which is usually presented as time series data. The name is derived from the term \"panel data\", an econometrics term for data sets that include observations during multiple time periods. In this course, we are going to use to better manipulate time series data."
   ]
  },
  {
   "cell_type": "code",
   "execution_count": 3,
   "id": "fe80836b-cca4-44dd-bd19-719f224bf2e9",
   "metadata": {},
   "outputs": [],
   "source": [
    "import pandas as pd # We import pandas\n",
    "import numpy as np # We import other necessary libraries\n",
    "from datetime import datetime # This will allow us to manually create dates"
   ]
  },
  {
   "cell_type": "markdown",
   "id": "6cdc97da-ffb9-4dc0-87f2-a31e6ebeeba6",
   "metadata": {},
   "source": [
    "### ```pd.Timestamp()```\n",
    "This function allows us to create points in time, providing a precise representation of a specific date and time. It is a powerful tool for working with time series data, enabling detailed and accurate time-based indexing, comparison, and arithmetic operations."
   ]
  },
  {
   "cell_type": "code",
   "execution_count": 4,
   "id": "e07a815f-c142-42a5-9acc-4c65d3693a7d",
   "metadata": {},
   "outputs": [
    {
     "data": {
      "text/plain": [
       "Timestamp('2024-07-15 00:00:00')"
      ]
     },
     "execution_count": 4,
     "metadata": {},
     "output_type": "execute_result"
    }
   ],
   "source": [
    "timestamp = pd.Timestamp(datetime(2024,7,15))\n",
    "timestamp"
   ]
  },
  {
   "cell_type": "code",
   "execution_count": 5,
   "id": "05ed13c4-3f40-43e1-80bf-2beeb8863625",
   "metadata": {},
   "outputs": [
    {
     "data": {
      "text/plain": [
       "Timestamp('2024-07-15 18:10:05')"
      ]
     },
     "execution_count": 5,
     "metadata": {},
     "output_type": "execute_result"
    }
   ],
   "source": [
    "timestamp = pd.Timestamp(datetime(2024,7,15, 18, 10, 5))\n",
    "timestamp"
   ]
  },
  {
   "cell_type": "markdown",
   "id": "c57e0ea9-eb71-4830-9510-b68a19621724",
   "metadata": {},
   "source": [
    "We can use timestamp attributes to access various information of the data. For example, we can retrieve the year, month and even second of the timestamp. We can also use it to access the name of the week"
   ]
  },
  {
   "cell_type": "code",
   "execution_count": 6,
   "id": "a26be90a-0e84-4119-b9ac-3d27df983395",
   "metadata": {},
   "outputs": [
    {
     "data": {
      "text/plain": [
       "2024"
      ]
     },
     "execution_count": 6,
     "metadata": {},
     "output_type": "execute_result"
    }
   ],
   "source": [
    "timestamp.year # year"
   ]
  },
  {
   "cell_type": "code",
   "execution_count": 7,
   "id": "34914627-e7e8-4276-a03a-396ed4786094",
   "metadata": {},
   "outputs": [
    {
     "data": {
      "text/plain": [
       "3"
      ]
     },
     "execution_count": 7,
     "metadata": {},
     "output_type": "execute_result"
    }
   ],
   "source": [
    "timestamp.quarter # quarter"
   ]
  },
  {
   "cell_type": "code",
   "execution_count": 8,
   "id": "ff19abfa-7377-430d-aa45-62ded763bdcc",
   "metadata": {},
   "outputs": [
    {
     "data": {
      "text/plain": [
       "7"
      ]
     },
     "execution_count": 8,
     "metadata": {},
     "output_type": "execute_result"
    }
   ],
   "source": [
    "timestamp.month # month"
   ]
  },
  {
   "cell_type": "code",
   "execution_count": 9,
   "id": "f7f17c36-bf0a-473a-8b15-cc341e24e3a3",
   "metadata": {},
   "outputs": [
    {
     "data": {
      "text/plain": [
       "15"
      ]
     },
     "execution_count": 9,
     "metadata": {},
     "output_type": "execute_result"
    }
   ],
   "source": [
    "timestamp.day # day"
   ]
  },
  {
   "cell_type": "code",
   "execution_count": 10,
   "id": "899def91-f319-422c-80ba-be6a62fab8aa",
   "metadata": {},
   "outputs": [
    {
     "data": {
      "text/plain": [
       "18"
      ]
     },
     "execution_count": 10,
     "metadata": {},
     "output_type": "execute_result"
    }
   ],
   "source": [
    "timestamp.hour # hour"
   ]
  },
  {
   "cell_type": "code",
   "execution_count": 11,
   "id": "26ce4eee-b691-4d81-b46a-b56e102c7f24",
   "metadata": {},
   "outputs": [
    {
     "data": {
      "text/plain": [
       "10"
      ]
     },
     "execution_count": 11,
     "metadata": {},
     "output_type": "execute_result"
    }
   ],
   "source": [
    "timestamp.minute # minute"
   ]
  },
  {
   "cell_type": "code",
   "execution_count": 12,
   "id": "27815497-2ca6-442f-861b-cd4bd1853e67",
   "metadata": {},
   "outputs": [
    {
     "data": {
      "text/plain": [
       "5"
      ]
     },
     "execution_count": 12,
     "metadata": {},
     "output_type": "execute_result"
    }
   ],
   "source": [
    "timestamp.second # second"
   ]
  },
  {
   "cell_type": "code",
   "execution_count": 13,
   "id": "2e5ceb6d-fd77-488f-934b-4c65d87a16cd",
   "metadata": {},
   "outputs": [
    {
     "data": {
      "text/plain": [
       "'Monday'"
      ]
     },
     "execution_count": 13,
     "metadata": {},
     "output_type": "execute_result"
    }
   ],
   "source": [
    "timestamp.day_name()"
   ]
  },
  {
   "cell_type": "code",
   "execution_count": 14,
   "id": "b389949a-989c-4a4a-9a3d-603fb399ee8c",
   "metadata": {},
   "outputs": [
    {
     "data": {
      "text/plain": [
       "0"
      ]
     },
     "execution_count": 14,
     "metadata": {},
     "output_type": "execute_result"
    }
   ],
   "source": [
    "timestamp.dayofweek"
   ]
  },
  {
   "cell_type": "code",
   "execution_count": 15,
   "id": "5e33e1b2-0c17-44d9-872e-bf1f5558d82b",
   "metadata": {},
   "outputs": [
    {
     "data": {
      "text/plain": [
       "29"
      ]
     },
     "execution_count": 15,
     "metadata": {},
     "output_type": "execute_result"
    }
   ],
   "source": [
    "timestamp.weekofyear"
   ]
  },
  {
   "cell_type": "code",
   "execution_count": 16,
   "id": "a2253f71-2d5f-485c-b1d6-bf280243587b",
   "metadata": {},
   "outputs": [
    {
     "data": {
      "text/plain": [
       "197"
      ]
     },
     "execution_count": 16,
     "metadata": {},
     "output_type": "execute_result"
    }
   ],
   "source": [
    "timestamp.dayofyear"
   ]
  },
  {
   "cell_type": "code",
   "execution_count": 17,
   "id": "94aa4633-471a-45d8-b6a2-e9a62617fd58",
   "metadata": {},
   "outputs": [
    {
     "name": "stdout",
     "output_type": "stream",
     "text": [
      "We are in day 197 of 365 days\n",
      "This is the 29th week of the year\n"
     ]
    }
   ],
   "source": [
    "print(f'We are in day {timestamp.dayofyear} of 365 days')\n",
    "print(f'This is the {timestamp.weekofyear}th week of the year')"
   ]
  },
  {
   "cell_type": "markdown",
   "id": "665336bb-472a-4b2b-b8c4-500a0720ec2b",
   "metadata": {},
   "source": [
    "### ```pd.Period()```\n",
    "Allow us to create a `Period` object, which will always have a frequency. This is useful for representing a span of time with a specific start and end, such as a month, quarter, or year. "
   ]
  },
  {
   "cell_type": "code",
   "execution_count": 18,
   "id": "2a294ef7-c1a1-4ff5-897d-9b415076c8ba",
   "metadata": {},
   "outputs": [
    {
     "data": {
      "text/plain": [
       "Period('2024', 'A-DEC')"
      ]
     },
     "execution_count": 18,
     "metadata": {},
     "output_type": "execute_result"
    }
   ],
   "source": [
    "period = pd.Period('2024')\n",
    "period # By default, the last name of the year"
   ]
  },
  {
   "cell_type": "code",
   "execution_count": 19,
   "id": "ab9ebd1e-4109-45d4-ad00-e040648e9d6b",
   "metadata": {},
   "outputs": [
    {
     "data": {
      "text/plain": [
       "Period('2024-07', 'M')"
      ]
     },
     "execution_count": 19,
     "metadata": {},
     "output_type": "execute_result"
    }
   ],
   "source": [
    "pd.Period('2024-07')"
   ]
  },
  {
   "cell_type": "code",
   "execution_count": 20,
   "id": "c28ca4d6-dd33-4651-9c9d-412c48bc527e",
   "metadata": {},
   "outputs": [
    {
     "data": {
      "text/plain": [
       "Period('2024-07-15', 'D')"
      ]
     },
     "execution_count": 20,
     "metadata": {},
     "output_type": "execute_result"
    }
   ],
   "source": [
    "pd.Period('2024-07-15')"
   ]
  },
  {
   "cell_type": "code",
   "execution_count": 21,
   "id": "43a88c76-c772-40d1-adb5-1487cdab3d37",
   "metadata": {},
   "outputs": [
    {
     "data": {
      "text/plain": [
       "Period('2024-07-15 18:00', 'H')"
      ]
     },
     "execution_count": 21,
     "metadata": {},
     "output_type": "execute_result"
    }
   ],
   "source": [
    "pd.Period('2024-07-15-18')"
   ]
  },
  {
   "cell_type": "code",
   "execution_count": 22,
   "id": "a2237569-dd56-41a7-9f5f-ac14142f916d",
   "metadata": {},
   "outputs": [
    {
     "data": {
      "text/plain": [
       "Period('2024-07-15 18:00', 'H')"
      ]
     },
     "execution_count": 22,
     "metadata": {},
     "output_type": "execute_result"
    }
   ],
   "source": [
    "pd.Period('2024-07-15-18-15')"
   ]
  },
  {
   "cell_type": "code",
   "execution_count": 23,
   "id": "e4985471-2c8d-4b16-8fcb-9c3748d9dc31",
   "metadata": {},
   "outputs": [
    {
     "data": {
      "text/plain": [
       "Period('2024-12-31', 'D')"
      ]
     },
     "execution_count": 23,
     "metadata": {},
     "output_type": "execute_result"
    }
   ],
   "source": [
    "period.asfreq('D')"
   ]
  },
  {
   "cell_type": "code",
   "execution_count": 24,
   "id": "2c4aadcb-794c-47db-afc5-5612a716712c",
   "metadata": {},
   "outputs": [
    {
     "data": {
      "text/plain": [
       "Period('2024-12', 'M')"
      ]
     },
     "execution_count": 24,
     "metadata": {},
     "output_type": "execute_result"
    }
   ],
   "source": [
    "period.asfreq('M')"
   ]
  },
  {
   "cell_type": "code",
   "execution_count": 25,
   "id": "db3622ec-b86b-4751-924c-7eac62262a56",
   "metadata": {},
   "outputs": [
    {
     "data": {
      "text/plain": [
       "Period('2024Q4', 'Q-DEC')"
      ]
     },
     "execution_count": 25,
     "metadata": {},
     "output_type": "execute_result"
    }
   ],
   "source": [
    "period.asfreq('Q')"
   ]
  },
  {
   "cell_type": "code",
   "execution_count": 26,
   "id": "a1765120-634a-4169-9c00-05df3326caf2",
   "metadata": {},
   "outputs": [
    {
     "data": {
      "text/plain": [
       "Timestamp('2024-01-01 00:00:00')"
      ]
     },
     "execution_count": 26,
     "metadata": {},
     "output_type": "execute_result"
    }
   ],
   "source": [
    "period.to_timestamp() # By default, the first day of year"
   ]
  },
  {
   "cell_type": "code",
   "execution_count": 27,
   "id": "ad253a3a-f4c6-4e0a-9209-f20a72cb245f",
   "metadata": {},
   "outputs": [
    {
     "data": {
      "text/plain": [
       "Period('2024-01-01', 'D')"
      ]
     },
     "execution_count": 27,
     "metadata": {},
     "output_type": "execute_result"
    }
   ],
   "source": [
    "period.to_timestamp().to_period('D') "
   ]
  },
  {
   "cell_type": "markdown",
   "id": "00554596-43be-488a-a6b0-0a3fd3f3247c",
   "metadata": {},
   "source": [
    "### ```pd.Timedelta()```\n",
    "`Timedelta` objects in pandas are used to represent differences in times, such as a duration or an interval. They are useful when doing basic arithmetic with Timestamp objects, allowing you to add or subtract durations from specific dates and times. This is particularly helpful in time series analysis, scheduling tasks, and manipulating date-time data."
   ]
  },
  {
   "cell_type": "code",
   "execution_count": 28,
   "id": "d1ba8da3-5864-4f0e-a356-c09a62a0891e",
   "metadata": {},
   "outputs": [
    {
     "data": {
      "text/plain": [
       "Timedelta('5 days 03:30:00')"
      ]
     },
     "execution_count": 28,
     "metadata": {},
     "output_type": "execute_result"
    }
   ],
   "source": [
    "pd.Timedelta(days=5, hours=3, minutes=30)"
   ]
  },
  {
   "cell_type": "code",
   "execution_count": 29,
   "id": "6995bbe3-13a8-4a10-8c64-7f42df0af87c",
   "metadata": {},
   "outputs": [
    {
     "data": {
      "text/plain": [
       "Timedelta('0 days 01:00:00')"
      ]
     },
     "execution_count": 29,
     "metadata": {},
     "output_type": "execute_result"
    }
   ],
   "source": [
    "pd.Timedelta(seconds=3600)"
   ]
  },
  {
   "cell_type": "code",
   "execution_count": 30,
   "id": "9d6a1f36-4d84-4db3-bd33-03cb7c03df03",
   "metadata": {},
   "outputs": [
    {
     "data": {
      "text/plain": [
       "Timedelta('0 days 01:00:00')"
      ]
     },
     "execution_count": 30,
     "metadata": {},
     "output_type": "execute_result"
    }
   ],
   "source": [
    "pd.Timedelta(hours=1)"
   ]
  },
  {
   "cell_type": "code",
   "execution_count": 31,
   "id": "77139d4b-ac1d-4c95-8225-e33fc77031cb",
   "metadata": {},
   "outputs": [
    {
     "data": {
      "text/plain": [
       "Timedelta('14 days 00:00:00')"
      ]
     },
     "execution_count": 31,
     "metadata": {},
     "output_type": "execute_result"
    }
   ],
   "source": [
    "pd.Timedelta(weeks=2)  "
   ]
  },
  {
   "cell_type": "markdown",
   "id": "c14f5dea",
   "metadata": {
    "tags": []
   },
   "source": [
    "## <a id=\"t1.2\"></a>1.2. Adding and subtracting time series\n",
    "We can do some basic date arithmetic with our time series objetcs"
   ]
  },
  {
   "cell_type": "code",
   "execution_count": 32,
   "id": "3fc5213b-6405-4891-8f95-9a5a7a5f73ca",
   "metadata": {},
   "outputs": [
    {
     "data": {
      "text/plain": [
       "Period('2024-07-15', 'D')"
      ]
     },
     "execution_count": 32,
     "metadata": {},
     "output_type": "execute_result"
    }
   ],
   "source": [
    "today = pd.Period('2024-07-15')\n",
    "today"
   ]
  },
  {
   "cell_type": "code",
   "execution_count": 33,
   "id": "9ad1d469-6dde-4b70-8f29-1cf91f2de4d7",
   "metadata": {},
   "outputs": [
    {
     "data": {
      "text/plain": [
       "Period('2024-07-18', 'D')"
      ]
     },
     "execution_count": 33,
     "metadata": {},
     "output_type": "execute_result"
    }
   ],
   "source": [
    "today + 3"
   ]
  },
  {
   "cell_type": "code",
   "execution_count": 34,
   "id": "af1e2e61-1a3e-4815-a0b2-2fa823f18ff6",
   "metadata": {},
   "outputs": [
    {
     "data": {
      "text/plain": [
       "Period('2024-07-12', 'D')"
      ]
     },
     "execution_count": 34,
     "metadata": {},
     "output_type": "execute_result"
    }
   ],
   "source": [
    "today - 3"
   ]
  },
  {
   "cell_type": "code",
   "execution_count": 35,
   "id": "64172682-b220-4a24-ae7b-9701428d6014",
   "metadata": {},
   "outputs": [
    {
     "data": {
      "text/plain": [
       "Timestamp('2024-07-18 00:00:00')"
      ]
     },
     "execution_count": 35,
     "metadata": {},
     "output_type": "execute_result"
    }
   ],
   "source": [
    "pd.Timestamp('2024-07-15') + pd.Timedelta(days=3)"
   ]
  },
  {
   "cell_type": "code",
   "execution_count": 36,
   "id": "7ba43c2f-0046-438f-97de-1e1073e3cdcc",
   "metadata": {},
   "outputs": [
    {
     "data": {
      "text/plain": [
       "Timestamp('2024-07-12 00:00:00')"
      ]
     },
     "execution_count": 36,
     "metadata": {},
     "output_type": "execute_result"
    }
   ],
   "source": [
    "pd.Timestamp('2024-07-15') - pd.Timedelta(days=3)"
   ]
  },
  {
   "cell_type": "code",
   "execution_count": 37,
   "id": "c608117f-013a-4670-aad5-e0425678454f",
   "metadata": {},
   "outputs": [
    {
     "data": {
      "text/plain": [
       "Period('2026', 'A-DEC')"
      ]
     },
     "execution_count": 37,
     "metadata": {},
     "output_type": "execute_result"
    }
   ],
   "source": [
    "period + 2"
   ]
  },
  {
   "cell_type": "code",
   "execution_count": 38,
   "id": "3b5582db-9e59-4cfb-a323-4d574d675c06",
   "metadata": {},
   "outputs": [
    {
     "data": {
      "text/plain": [
       "Period('2022', 'A-DEC')"
      ]
     },
     "execution_count": 38,
     "metadata": {},
     "output_type": "execute_result"
    }
   ],
   "source": [
    "period - 2"
   ]
  },
  {
   "cell_type": "code",
   "execution_count": 39,
   "id": "1e489068-b47a-460d-8868-23b4bdfbdde7",
   "metadata": {},
   "outputs": [],
   "source": [
    "july = pd.Period('2024-07')"
   ]
  },
  {
   "cell_type": "code",
   "execution_count": 40,
   "id": "0e4ae71c-0088-4a33-8782-c05252e8fada",
   "metadata": {},
   "outputs": [
    {
     "data": {
      "text/plain": [
       "Period('2024-12', 'M')"
      ]
     },
     "execution_count": 40,
     "metadata": {},
     "output_type": "execute_result"
    }
   ],
   "source": [
    "july+5"
   ]
  },
  {
   "cell_type": "code",
   "execution_count": 41,
   "id": "07da2d90-54aa-48f3-9104-b343a5fc52ea",
   "metadata": {},
   "outputs": [
    {
     "data": {
      "text/plain": [
       "Period('2024-02', 'M')"
      ]
     },
     "execution_count": 41,
     "metadata": {},
     "output_type": "execute_result"
    }
   ],
   "source": [
    "july-5"
   ]
  },
  {
   "cell_type": "markdown",
   "id": "2690d32b-f475-4ce7-b8bc-5530c688fe07",
   "metadata": {
    "tags": []
   },
   "source": [
    "## <a id='1.3.'> 1.3. Creating a sequence of dates </a> "
   ]
  },
  {
   "cell_type": "markdown",
   "id": "3bf80a5a-edbd-461c-8e84-3dd3a0c314f0",
   "metadata": {},
   "source": [
    "In order to create a time series, we will need a sequence of dates. In this subsection we will learn how to do that. "
   ]
  },
  {
   "cell_type": "markdown",
   "id": "0a141609-b23e-4050-9f14-497c80753c9b",
   "metadata": {
    "tags": []
   },
   "source": [
    "### ```pd.date_range()```\n",
    "This pandas function allows us to create a `DatetimeIndex`, which can be used to generate a range of dates with a specified frequency. This DatetimeIndex can serve multiple purposes, such as being used as an index for a DataFrame or Series, facilitating time series analysis, and aligning data to specific date ranges. "
   ]
  },
  {
   "cell_type": "code",
   "execution_count": 42,
   "id": "5a26db48-4752-4bcc-bfeb-a71b60271ee9",
   "metadata": {},
   "outputs": [
    {
     "data": {
      "text/plain": [
       "DatetimeIndex(['2003-12-31', '2004-12-31', '2005-12-31', '2006-12-31',\n",
       "               '2007-12-31', '2008-12-31', '2009-12-31', '2010-12-31',\n",
       "               '2011-12-31', '2012-12-31', '2013-12-31', '2014-12-31',\n",
       "               '2015-12-31', '2016-12-31', '2017-12-31', '2018-12-31',\n",
       "               '2019-12-31', '2020-12-31', '2021-12-31', '2022-12-31',\n",
       "               '2023-12-31'],\n",
       "              dtype='datetime64[ns]', freq='A-DEC')"
      ]
     },
     "execution_count": 42,
     "metadata": {},
     "output_type": "execute_result"
    }
   ],
   "source": [
    "pd.date_range(start='2003', periods=21, freq='Y')"
   ]
  },
  {
   "cell_type": "code",
   "execution_count": 43,
   "id": "7a6c4b55-0e1a-4eac-b005-d6d30303db56",
   "metadata": {},
   "outputs": [
    {
     "data": {
      "text/plain": [
       "DatetimeIndex(['2013-01-31', '2013-02-28', '2013-03-31', '2013-04-30',\n",
       "               '2013-05-31', '2013-06-30', '2013-07-31', '2013-08-31',\n",
       "               '2013-09-30', '2013-10-31', '2013-11-30', '2013-12-31',\n",
       "               '2014-01-31', '2014-02-28', '2014-03-31', '2014-04-30',\n",
       "               '2014-05-31', '2014-06-30', '2014-07-31', '2014-08-31',\n",
       "               '2014-09-30'],\n",
       "              dtype='datetime64[ns]', freq='M')"
      ]
     },
     "execution_count": 43,
     "metadata": {},
     "output_type": "execute_result"
    }
   ],
   "source": [
    "pd.date_range(start='2013', periods=21, freq='M')"
   ]
  },
  {
   "cell_type": "code",
   "execution_count": 44,
   "id": "7c90a805-0b00-408f-b36c-dc060f0d4898",
   "metadata": {},
   "outputs": [
    {
     "data": {
      "text/plain": [
       "Timestamp('2024-01-31 00:00:00', freq='M')"
      ]
     },
     "execution_count": 44,
     "metadata": {},
     "output_type": "execute_result"
    }
   ],
   "source": [
    "index = pd.date_range(start='2024-01-01', periods=12, freq='M')\n",
    "index[0]"
   ]
  },
  {
   "cell_type": "code",
   "execution_count": 45,
   "id": "f34df688-9676-43ac-9707-80239c8bf7fe",
   "metadata": {},
   "outputs": [
    {
     "data": {
      "text/plain": [
       "PeriodIndex(['2024-01', '2024-02', '2024-03', '2024-04', '2024-05', '2024-06',\n",
       "             '2024-07', '2024-08', '2024-09', '2024-10', '2024-11', '2024-12'],\n",
       "            dtype='period[M]')"
      ]
     },
     "execution_count": 45,
     "metadata": {},
     "output_type": "execute_result"
    }
   ],
   "source": [
    "index.to_period()"
   ]
  },
  {
   "cell_type": "code",
   "execution_count": 46,
   "id": "62f9590c-0f31-4d0c-a5ca-a5a93747960b",
   "metadata": {},
   "outputs": [
    {
     "data": {
      "text/plain": [
       "DatetimeIndex(['2024-01-01', '2024-02-01', '2024-03-01', '2024-04-01',\n",
       "               '2024-05-01', '2024-06-01', '2024-07-01', '2024-08-01',\n",
       "               '2024-09-01', '2024-10-01', '2024-11-01', '2024-12-01'],\n",
       "              dtype='datetime64[ns]', freq='MS')"
      ]
     },
     "execution_count": 46,
     "metadata": {},
     "output_type": "execute_result"
    }
   ],
   "source": [
    "index.to_period().to_timestamp()"
   ]
  },
  {
   "cell_type": "code",
   "execution_count": 47,
   "id": "f9c20d8f-2503-4f46-9558-3475b51e72af",
   "metadata": {},
   "outputs": [
    {
     "data": {
      "text/html": [
       "<div>\n",
       "<style scoped>\n",
       "    .dataframe tbody tr th:only-of-type {\n",
       "        vertical-align: middle;\n",
       "    }\n",
       "\n",
       "    .dataframe tbody tr th {\n",
       "        vertical-align: top;\n",
       "    }\n",
       "\n",
       "    .dataframe thead th {\n",
       "        text-align: right;\n",
       "    }\n",
       "</style>\n",
       "<table border=\"1\" class=\"dataframe\">\n",
       "  <thead>\n",
       "    <tr style=\"text-align: right;\">\n",
       "      <th></th>\n",
       "      <th>data</th>\n",
       "    </tr>\n",
       "  </thead>\n",
       "  <tbody>\n",
       "    <tr>\n",
       "      <th>2024-01-31</th>\n",
       "      <td>0.622140</td>\n",
       "    </tr>\n",
       "    <tr>\n",
       "      <th>2024-02-29</th>\n",
       "      <td>0.410618</td>\n",
       "    </tr>\n",
       "    <tr>\n",
       "      <th>2024-03-31</th>\n",
       "      <td>0.363171</td>\n",
       "    </tr>\n",
       "    <tr>\n",
       "      <th>2024-04-30</th>\n",
       "      <td>0.846887</td>\n",
       "    </tr>\n",
       "    <tr>\n",
       "      <th>2024-05-31</th>\n",
       "      <td>0.479372</td>\n",
       "    </tr>\n",
       "    <tr>\n",
       "      <th>2024-06-30</th>\n",
       "      <td>0.905971</td>\n",
       "    </tr>\n",
       "    <tr>\n",
       "      <th>2024-07-31</th>\n",
       "      <td>0.654380</td>\n",
       "    </tr>\n",
       "    <tr>\n",
       "      <th>2024-08-31</th>\n",
       "      <td>0.993513</td>\n",
       "    </tr>\n",
       "    <tr>\n",
       "      <th>2024-09-30</th>\n",
       "      <td>0.197194</td>\n",
       "    </tr>\n",
       "    <tr>\n",
       "      <th>2024-10-31</th>\n",
       "      <td>0.488037</td>\n",
       "    </tr>\n",
       "    <tr>\n",
       "      <th>2024-11-30</th>\n",
       "      <td>0.900866</td>\n",
       "    </tr>\n",
       "    <tr>\n",
       "      <th>2024-12-31</th>\n",
       "      <td>0.347448</td>\n",
       "    </tr>\n",
       "  </tbody>\n",
       "</table>\n",
       "</div>"
      ],
      "text/plain": [
       "                data\n",
       "2024-01-31  0.622140\n",
       "2024-02-29  0.410618\n",
       "2024-03-31  0.363171\n",
       "2024-04-30  0.846887\n",
       "2024-05-31  0.479372\n",
       "2024-06-30  0.905971\n",
       "2024-07-31  0.654380\n",
       "2024-08-31  0.993513\n",
       "2024-09-30  0.197194\n",
       "2024-10-31  0.488037\n",
       "2024-11-30  0.900866\n",
       "2024-12-31  0.347448"
      ]
     },
     "execution_count": 47,
     "metadata": {},
     "output_type": "execute_result"
    }
   ],
   "source": [
    "# Creating a dataframe\n",
    "datetime_index = pd.date_range(start='2024-01', periods=12, freq='M')\n",
    "df_datetime = pd.DataFrame({'data': np.random.random(size=12)}, index=datetime_index)\n",
    "df_datetime"
   ]
  },
  {
   "cell_type": "code",
   "execution_count": 48,
   "id": "47a220a7-b922-4d94-a106-46258ca6cbc3",
   "metadata": {},
   "outputs": [
    {
     "name": "stdout",
     "output_type": "stream",
     "text": [
      "0 Monday\n",
      "1 Tuesday\n",
      "2 Wednesday\n",
      "3 Thursday\n",
      "4 Friday\n",
      "5 Saturday\n",
      "6 Sunday\n"
     ]
    }
   ],
   "source": [
    "# We create the range of dates here from January 1st 2024 to January 7th 2024\n",
    "days = pd.date_range(start='2024-7-15', periods =7, freq='D')\n",
    "\n",
    "# We iterate over the dates and print the name of the weekday\n",
    "for day in days:\n",
    "    print(day.dayofweek, day.day_name())"
   ]
  },
  {
   "cell_type": "markdown",
   "id": "f3586dcf-deb5-4d28-8d3d-02d2063ee17f",
   "metadata": {},
   "source": [
    "### `pd.period_range()`\n",
    "This pandas function allows us to create a `PeriodIndex`, which can be used to generate a range of time periods with a specified frequency. "
   ]
  },
  {
   "cell_type": "code",
   "execution_count": 49,
   "id": "f0de32a6-6540-471d-b4a5-0179325783c1",
   "metadata": {},
   "outputs": [
    {
     "data": {
      "text/plain": [
       "PeriodIndex(['2003', '2004', '2005', '2006', '2007', '2008', '2009', '2010',\n",
       "             '2011', '2012', '2013', '2014', '2015', '2016', '2017', '2018',\n",
       "             '2019', '2020', '2021', '2022', '2023'],\n",
       "            dtype='period[A-DEC]')"
      ]
     },
     "execution_count": 49,
     "metadata": {},
     "output_type": "execute_result"
    }
   ],
   "source": [
    "pd.period_range(start='2003', periods=21, freq='Y')"
   ]
  },
  {
   "cell_type": "code",
   "execution_count": 50,
   "id": "3d34b2ad-e3c5-42f5-97c7-c299882552d8",
   "metadata": {},
   "outputs": [
    {
     "data": {
      "text/plain": [
       "PeriodIndex(['2024-01', '2024-02', '2024-03', '2024-04', '2024-05', '2024-06',\n",
       "             '2024-07', '2024-08', '2024-09', '2024-10', '2024-11', '2024-12'],\n",
       "            dtype='period[M]')"
      ]
     },
     "execution_count": 50,
     "metadata": {},
     "output_type": "execute_result"
    }
   ],
   "source": [
    "pd.period_range(start='2024-01-01', periods=12, freq='M')"
   ]
  },
  {
   "cell_type": "code",
   "execution_count": 51,
   "id": "62aad82e-1d76-476c-a511-17a8b6d36040",
   "metadata": {},
   "outputs": [
    {
     "data": {
      "text/plain": [
       "Period('2024-01', 'M')"
      ]
     },
     "execution_count": 51,
     "metadata": {},
     "output_type": "execute_result"
    }
   ],
   "source": [
    "index = pd.period_range(start='2024-01-01', periods=12, freq='M')\n",
    "index[0]"
   ]
  },
  {
   "cell_type": "code",
   "execution_count": 52,
   "id": "8d453ba9-fbfd-4d9f-b545-11fd0a20d3da",
   "metadata": {},
   "outputs": [
    {
     "data": {
      "text/plain": [
       "DatetimeIndex(['2024-01-01', '2024-02-01', '2024-03-01', '2024-04-01',\n",
       "               '2024-05-01', '2024-06-01', '2024-07-01', '2024-08-01',\n",
       "               '2024-09-01', '2024-10-01', '2024-11-01', '2024-12-01'],\n",
       "              dtype='datetime64[ns]', freq='MS')"
      ]
     },
     "execution_count": 52,
     "metadata": {},
     "output_type": "execute_result"
    }
   ],
   "source": [
    "index.to_timestamp()"
   ]
  },
  {
   "cell_type": "code",
   "execution_count": 53,
   "id": "aa27e823-c310-4155-8942-e8e1e0c95eb2",
   "metadata": {},
   "outputs": [
    {
     "data": {
      "text/plain": [
       "PeriodIndex(['2024-01', '2024-02', '2024-03', '2024-04', '2024-05', '2024-06',\n",
       "             '2024-07', '2024-08', '2024-09', '2024-10', '2024-11', '2024-12'],\n",
       "            dtype='period[M]')"
      ]
     },
     "execution_count": 53,
     "metadata": {},
     "output_type": "execute_result"
    }
   ],
   "source": [
    "index.to_timestamp().to_period()"
   ]
  },
  {
   "cell_type": "code",
   "execution_count": 54,
   "id": "2a747d14-8527-46a8-a121-d6305e9b7e1f",
   "metadata": {},
   "outputs": [
    {
     "data": {
      "text/html": [
       "<div>\n",
       "<style scoped>\n",
       "    .dataframe tbody tr th:only-of-type {\n",
       "        vertical-align: middle;\n",
       "    }\n",
       "\n",
       "    .dataframe tbody tr th {\n",
       "        vertical-align: top;\n",
       "    }\n",
       "\n",
       "    .dataframe thead th {\n",
       "        text-align: right;\n",
       "    }\n",
       "</style>\n",
       "<table border=\"1\" class=\"dataframe\">\n",
       "  <thead>\n",
       "    <tr style=\"text-align: right;\">\n",
       "      <th></th>\n",
       "      <th>data</th>\n",
       "    </tr>\n",
       "  </thead>\n",
       "  <tbody>\n",
       "    <tr>\n",
       "      <th>2024-01</th>\n",
       "      <td>0.343502</td>\n",
       "    </tr>\n",
       "    <tr>\n",
       "      <th>2024-02</th>\n",
       "      <td>1.689067</td>\n",
       "    </tr>\n",
       "    <tr>\n",
       "      <th>2024-03</th>\n",
       "      <td>2.027464</td>\n",
       "    </tr>\n",
       "    <tr>\n",
       "      <th>2024-04</th>\n",
       "      <td>3.995915</td>\n",
       "    </tr>\n",
       "    <tr>\n",
       "      <th>2024-05</th>\n",
       "      <td>4.255877</td>\n",
       "    </tr>\n",
       "    <tr>\n",
       "      <th>2024-06</th>\n",
       "      <td>5.848353</td>\n",
       "    </tr>\n",
       "    <tr>\n",
       "      <th>2024-07</th>\n",
       "      <td>6.661689</td>\n",
       "    </tr>\n",
       "    <tr>\n",
       "      <th>2024-08</th>\n",
       "      <td>7.898616</td>\n",
       "    </tr>\n",
       "    <tr>\n",
       "      <th>2024-09</th>\n",
       "      <td>8.148814</td>\n",
       "    </tr>\n",
       "    <tr>\n",
       "      <th>2024-10</th>\n",
       "      <td>9.936129</td>\n",
       "    </tr>\n",
       "    <tr>\n",
       "      <th>2024-11</th>\n",
       "      <td>10.671975</td>\n",
       "    </tr>\n",
       "    <tr>\n",
       "      <th>2024-12</th>\n",
       "      <td>11.431709</td>\n",
       "    </tr>\n",
       "  </tbody>\n",
       "</table>\n",
       "</div>"
      ],
      "text/plain": [
       "              data\n",
       "2024-01   0.343502\n",
       "2024-02   1.689067\n",
       "2024-03   2.027464\n",
       "2024-04   3.995915\n",
       "2024-05   4.255877\n",
       "2024-06   5.848353\n",
       "2024-07   6.661689\n",
       "2024-08   7.898616\n",
       "2024-09   8.148814\n",
       "2024-10   9.936129\n",
       "2024-11  10.671975\n",
       "2024-12  11.431709"
      ]
     },
     "execution_count": 54,
     "metadata": {},
     "output_type": "execute_result"
    }
   ],
   "source": [
    "# Creating a dataframe\n",
    "period_index = pd.period_range(start='2024-01', periods=12, freq='M')\n",
    "df_period = pd.DataFrame({'data': range(12)+np.random.random(size=12)}, index=period_index)\n",
    "df_period"
   ]
  },
  {
   "cell_type": "markdown",
   "id": "24b6f526-3c09-420d-80f1-f3f6152fad1b",
   "metadata": {},
   "source": [
    "### Differences between `PeriodIndex` and `DatetimeIndex`\n",
    "\n",
    "| Feature             | `DatetimeIndex`                                         | `PeriodIndex`                                           |\n",
    "|---------------------|---------------------------------------------------------|---------------------------------------------------------|\n",
    "| **Definition**      | Sequence used to index time series by specific points in time | Sequence used to index time series by spans of time (periods) |\n",
    "| **Granularity**     | Represents precise moments in time                      | Represents periods of time with a defined frequency      |\n",
    "| **Flexibility**     | Allows operations involving specific timestamps         | Allows operations involving whole periods               |\n",
    "| **Use**        | Ideal for data where exact timestamps are important (e.g., financial data, time series data) | Ideal for data aggregated over consistent intervals (e.g., monthly sales, quarterly reports) |\n",
    "| **Creation Example**| `pd.date_range(start='2024-01-01', periods=31, freq='D')` | `pd.period_range(start='2024-01', periods=12, freq='M')`  |\n",
    "| **Attributes**      | Access to year, month, day, hour, minute, second        | Access to start time, end time, and frequency            |\n",
    "| **Timezone**        | Can be localized and converted to different timezones   | Does not involve timezones                               |\n",
    "| **Use of Frequency**| Optional; can represent irregular time points           | Always associated with a specific frequency              |\n",
    "| **Arithmetic Ops**  | Operations involve exact timestamps and `Timedelta` objects | Operations involve whole periods and period arithmetic   |\n",
    "| **Typical Use Cases**| High-frequency data or data requiring precise timestamps | Regular interval data where periods matter more than exact timestamps |"
   ]
  },
  {
   "cell_type": "markdown",
   "id": "35bda72c-1d01-4746-bfd9-4f078dee58a9",
   "metadata": {},
   "source": [
    "During the development of this course we are going to mainly use `DatetimeIndex`"
   ]
  },
  {
   "cell_type": "markdown",
   "id": "e7c7d870",
   "metadata": {
    "tags": []
   },
   "source": [
    "# <a id=\"t2\"></a>2. Indexing time series data"
   ]
  },
  {
   "cell_type": "markdown",
   "id": "30a611ea-4b90-4a71-ac6c-308f4873d965",
   "metadata": {},
   "source": [
    "## <a id=\"t2.1\"></a>2.1. Transforming an index into a DateTimeIndex"
   ]
  },
  {
   "cell_type": "markdown",
   "id": "1eaafe03-1c58-470e-b692-91f81677168d",
   "metadata": {},
   "source": [
    "### `pd.to_datetime()`"
   ]
  },
  {
   "cell_type": "code",
   "execution_count": 55,
   "id": "d31941e3-c7e3-4d07-a3f4-f1e0bc816585",
   "metadata": {},
   "outputs": [
    {
     "name": "stdout",
     "output_type": "stream",
     "text": [
      "<class 'pandas.core.frame.DataFrame'>\n",
      "RangeIndex: 251 entries, 0 to 250\n",
      "Data columns (total 7 columns):\n",
      " #   Column     Non-Null Count  Dtype  \n",
      "---  ------     --------------  -----  \n",
      " 0   Date       251 non-null    object \n",
      " 1   Open       251 non-null    float64\n",
      " 2   High       251 non-null    float64\n",
      " 3   Low        251 non-null    float64\n",
      " 4   Close      251 non-null    float64\n",
      " 5   Adj Close  251 non-null    float64\n",
      " 6   Volume     251 non-null    int64  \n",
      "dtypes: float64(5), int64(1), object(1)\n",
      "memory usage: 13.9+ KB\n"
     ]
    }
   ],
   "source": [
    "NVDA = pd.read_csv('../data/NVDA.csv', delimiter=';')\n",
    "NVDA.info()"
   ]
  },
  {
   "cell_type": "code",
   "execution_count": 159,
   "id": "9c061209-ec02-4824-9fba-23414773c023",
   "metadata": {},
   "outputs": [
    {
     "data": {
      "text/html": [
       "<div>\n",
       "<style scoped>\n",
       "    .dataframe tbody tr th:only-of-type {\n",
       "        vertical-align: middle;\n",
       "    }\n",
       "\n",
       "    .dataframe tbody tr th {\n",
       "        vertical-align: top;\n",
       "    }\n",
       "\n",
       "    .dataframe thead th {\n",
       "        text-align: right;\n",
       "    }\n",
       "</style>\n",
       "<table border=\"1\" class=\"dataframe\">\n",
       "  <thead>\n",
       "    <tr style=\"text-align: right;\">\n",
       "      <th></th>\n",
       "      <th>Open</th>\n",
       "      <th>High</th>\n",
       "      <th>Low</th>\n",
       "      <th>Close</th>\n",
       "      <th>Adj Close</th>\n",
       "      <th>Volume</th>\n",
       "    </tr>\n",
       "    <tr>\n",
       "      <th>Date</th>\n",
       "      <th></th>\n",
       "      <th></th>\n",
       "      <th></th>\n",
       "      <th></th>\n",
       "      <th></th>\n",
       "      <th></th>\n",
       "    </tr>\n",
       "  </thead>\n",
       "  <tbody>\n",
       "    <tr>\n",
       "      <th>2023-06-23</th>\n",
       "      <td>42.464001</td>\n",
       "      <td>42.808998</td>\n",
       "      <td>42.014999</td>\n",
       "      <td>42.209000</td>\n",
       "      <td>42.196365</td>\n",
       "      <td>358140000</td>\n",
       "    </tr>\n",
       "    <tr>\n",
       "      <th>2023-06-26</th>\n",
       "      <td>42.460999</td>\n",
       "      <td>42.764000</td>\n",
       "      <td>40.099998</td>\n",
       "      <td>40.632000</td>\n",
       "      <td>40.619839</td>\n",
       "      <td>594322000</td>\n",
       "    </tr>\n",
       "    <tr>\n",
       "      <th>2023-06-27</th>\n",
       "      <td>40.799000</td>\n",
       "      <td>41.939999</td>\n",
       "      <td>40.448002</td>\n",
       "      <td>41.875999</td>\n",
       "      <td>41.863468</td>\n",
       "      <td>462175000</td>\n",
       "    </tr>\n",
       "    <tr>\n",
       "      <th>2023-06-28</th>\n",
       "      <td>40.660000</td>\n",
       "      <td>41.845001</td>\n",
       "      <td>40.518002</td>\n",
       "      <td>41.117001</td>\n",
       "      <td>41.104691</td>\n",
       "      <td>582639000</td>\n",
       "    </tr>\n",
       "    <tr>\n",
       "      <th>2023-06-29</th>\n",
       "      <td>41.557999</td>\n",
       "      <td>41.599998</td>\n",
       "      <td>40.599998</td>\n",
       "      <td>40.821999</td>\n",
       "      <td>40.809776</td>\n",
       "      <td>380514000</td>\n",
       "    </tr>\n",
       "  </tbody>\n",
       "</table>\n",
       "</div>"
      ],
      "text/plain": [
       "                 Open       High        Low      Close  Adj Close     Volume\n",
       "Date                                                                        \n",
       "2023-06-23  42.464001  42.808998  42.014999  42.209000  42.196365  358140000\n",
       "2023-06-26  42.460999  42.764000  40.099998  40.632000  40.619839  594322000\n",
       "2023-06-27  40.799000  41.939999  40.448002  41.875999  41.863468  462175000\n",
       "2023-06-28  40.660000  41.845001  40.518002  41.117001  41.104691  582639000\n",
       "2023-06-29  41.557999  41.599998  40.599998  40.821999  40.809776  380514000"
      ]
     },
     "execution_count": 159,
     "metadata": {},
     "output_type": "execute_result"
    }
   ],
   "source": [
    "NVDA.head()"
   ]
  },
  {
   "cell_type": "code",
   "execution_count": 57,
   "id": "f9c66bad-aad0-4295-a8a2-154caa95b68c",
   "metadata": {},
   "outputs": [
    {
     "data": {
      "text/plain": [
       "0      23/06/2023\n",
       "1      26/06/2023\n",
       "2      27/06/2023\n",
       "3      28/06/2023\n",
       "4      29/06/2023\n",
       "          ...    \n",
       "246    14/06/2024\n",
       "247    17/06/2024\n",
       "248    18/06/2024\n",
       "249    20/06/2024\n",
       "250    21/06/2024\n",
       "Name: Date, Length: 251, dtype: object"
      ]
     },
     "execution_count": 57,
     "metadata": {},
     "output_type": "execute_result"
    }
   ],
   "source": [
    "NVDA.Date"
   ]
  },
  {
   "cell_type": "code",
   "execution_count": 58,
   "id": "57c1612b-5430-49ef-ac17-1b3274cdac71",
   "metadata": {},
   "outputs": [
    {
     "data": {
      "text/plain": [
       "0     2023-06-23\n",
       "1     2023-06-26\n",
       "2     2023-06-27\n",
       "3     2023-06-28\n",
       "4     2023-06-29\n",
       "         ...    \n",
       "246   2024-06-14\n",
       "247   2024-06-17\n",
       "248   2024-06-18\n",
       "249   2024-06-20\n",
       "250   2024-06-21\n",
       "Name: Date, Length: 251, dtype: datetime64[ns]"
      ]
     },
     "execution_count": 58,
     "metadata": {},
     "output_type": "execute_result"
    }
   ],
   "source": [
    "pd.to_datetime(NVDA.Date, format='%d/%m/%Y')"
   ]
  },
  {
   "cell_type": "code",
   "execution_count": 59,
   "id": "e4a148c8-e9f9-4a3c-a4b6-47221747b9a1",
   "metadata": {},
   "outputs": [],
   "source": [
    "NVDA.Date = pd.to_datetime(NVDA.Date, format='%d/%m/%Y')"
   ]
  },
  {
   "cell_type": "code",
   "execution_count": 60,
   "id": "1b0dd80c-f64f-4460-af33-1315a21f1b77",
   "metadata": {},
   "outputs": [
    {
     "data": {
      "text/html": [
       "<div>\n",
       "<style scoped>\n",
       "    .dataframe tbody tr th:only-of-type {\n",
       "        vertical-align: middle;\n",
       "    }\n",
       "\n",
       "    .dataframe tbody tr th {\n",
       "        vertical-align: top;\n",
       "    }\n",
       "\n",
       "    .dataframe thead th {\n",
       "        text-align: right;\n",
       "    }\n",
       "</style>\n",
       "<table border=\"1\" class=\"dataframe\">\n",
       "  <thead>\n",
       "    <tr style=\"text-align: right;\">\n",
       "      <th></th>\n",
       "      <th>Open</th>\n",
       "      <th>High</th>\n",
       "      <th>Low</th>\n",
       "      <th>Close</th>\n",
       "      <th>Adj Close</th>\n",
       "      <th>Volume</th>\n",
       "    </tr>\n",
       "    <tr>\n",
       "      <th>Date</th>\n",
       "      <th></th>\n",
       "      <th></th>\n",
       "      <th></th>\n",
       "      <th></th>\n",
       "      <th></th>\n",
       "      <th></th>\n",
       "    </tr>\n",
       "  </thead>\n",
       "  <tbody>\n",
       "    <tr>\n",
       "      <th>2023-06-23</th>\n",
       "      <td>42.464001</td>\n",
       "      <td>42.808998</td>\n",
       "      <td>42.014999</td>\n",
       "      <td>42.209000</td>\n",
       "      <td>42.196365</td>\n",
       "      <td>358140000</td>\n",
       "    </tr>\n",
       "    <tr>\n",
       "      <th>2023-06-26</th>\n",
       "      <td>42.460999</td>\n",
       "      <td>42.764000</td>\n",
       "      <td>40.099998</td>\n",
       "      <td>40.632000</td>\n",
       "      <td>40.619839</td>\n",
       "      <td>594322000</td>\n",
       "    </tr>\n",
       "    <tr>\n",
       "      <th>2023-06-27</th>\n",
       "      <td>40.799000</td>\n",
       "      <td>41.939999</td>\n",
       "      <td>40.448002</td>\n",
       "      <td>41.875999</td>\n",
       "      <td>41.863468</td>\n",
       "      <td>462175000</td>\n",
       "    </tr>\n",
       "    <tr>\n",
       "      <th>2023-06-28</th>\n",
       "      <td>40.660000</td>\n",
       "      <td>41.845001</td>\n",
       "      <td>40.518002</td>\n",
       "      <td>41.117001</td>\n",
       "      <td>41.104691</td>\n",
       "      <td>582639000</td>\n",
       "    </tr>\n",
       "    <tr>\n",
       "      <th>2023-06-29</th>\n",
       "      <td>41.557999</td>\n",
       "      <td>41.599998</td>\n",
       "      <td>40.599998</td>\n",
       "      <td>40.821999</td>\n",
       "      <td>40.809776</td>\n",
       "      <td>380514000</td>\n",
       "    </tr>\n",
       "  </tbody>\n",
       "</table>\n",
       "</div>"
      ],
      "text/plain": [
       "                 Open       High        Low      Close  Adj Close     Volume\n",
       "Date                                                                        \n",
       "2023-06-23  42.464001  42.808998  42.014999  42.209000  42.196365  358140000\n",
       "2023-06-26  42.460999  42.764000  40.099998  40.632000  40.619839  594322000\n",
       "2023-06-27  40.799000  41.939999  40.448002  41.875999  41.863468  462175000\n",
       "2023-06-28  40.660000  41.845001  40.518002  41.117001  41.104691  582639000\n",
       "2023-06-29  41.557999  41.599998  40.599998  40.821999  40.809776  380514000"
      ]
     },
     "execution_count": 60,
     "metadata": {},
     "output_type": "execute_result"
    }
   ],
   "source": [
    "NVDA.set_index('Date', inplace=True)\n",
    "NVDA.head()"
   ]
  },
  {
   "cell_type": "markdown",
   "id": "bce05175-7140-4d2a-a8e0-58d088bbfca0",
   "metadata": {},
   "source": [
    "### `pd.read_csv()`"
   ]
  },
  {
   "cell_type": "code",
   "execution_count": 98,
   "id": "47d7cb75-1fe1-41e6-8bef-b2c501bd548b",
   "metadata": {},
   "outputs": [
    {
     "data": {
      "text/html": [
       "<div>\n",
       "<style scoped>\n",
       "    .dataframe tbody tr th:only-of-type {\n",
       "        vertical-align: middle;\n",
       "    }\n",
       "\n",
       "    .dataframe tbody tr th {\n",
       "        vertical-align: top;\n",
       "    }\n",
       "\n",
       "    .dataframe thead th {\n",
       "        text-align: right;\n",
       "    }\n",
       "</style>\n",
       "<table border=\"1\" class=\"dataframe\">\n",
       "  <thead>\n",
       "    <tr style=\"text-align: right;\">\n",
       "      <th></th>\n",
       "      <th>Open</th>\n",
       "      <th>High</th>\n",
       "      <th>Low</th>\n",
       "      <th>Close</th>\n",
       "      <th>Adj Close</th>\n",
       "      <th>Volume</th>\n",
       "    </tr>\n",
       "    <tr>\n",
       "      <th>Date</th>\n",
       "      <th></th>\n",
       "      <th></th>\n",
       "      <th></th>\n",
       "      <th></th>\n",
       "      <th></th>\n",
       "      <th></th>\n",
       "    </tr>\n",
       "  </thead>\n",
       "  <tbody>\n",
       "    <tr>\n",
       "      <th>2023-06-23</th>\n",
       "      <td>42.464001</td>\n",
       "      <td>42.808998</td>\n",
       "      <td>42.014999</td>\n",
       "      <td>42.209000</td>\n",
       "      <td>42.196365</td>\n",
       "      <td>358140000</td>\n",
       "    </tr>\n",
       "    <tr>\n",
       "      <th>2023-06-26</th>\n",
       "      <td>42.460999</td>\n",
       "      <td>42.764000</td>\n",
       "      <td>40.099998</td>\n",
       "      <td>40.632000</td>\n",
       "      <td>40.619839</td>\n",
       "      <td>594322000</td>\n",
       "    </tr>\n",
       "    <tr>\n",
       "      <th>2023-06-27</th>\n",
       "      <td>40.799000</td>\n",
       "      <td>41.939999</td>\n",
       "      <td>40.448002</td>\n",
       "      <td>41.875999</td>\n",
       "      <td>41.863468</td>\n",
       "      <td>462175000</td>\n",
       "    </tr>\n",
       "    <tr>\n",
       "      <th>2023-06-28</th>\n",
       "      <td>40.660000</td>\n",
       "      <td>41.845001</td>\n",
       "      <td>40.518002</td>\n",
       "      <td>41.117001</td>\n",
       "      <td>41.104691</td>\n",
       "      <td>582639000</td>\n",
       "    </tr>\n",
       "    <tr>\n",
       "      <th>2023-06-29</th>\n",
       "      <td>41.557999</td>\n",
       "      <td>41.599998</td>\n",
       "      <td>40.599998</td>\n",
       "      <td>40.821999</td>\n",
       "      <td>40.809776</td>\n",
       "      <td>380514000</td>\n",
       "    </tr>\n",
       "  </tbody>\n",
       "</table>\n",
       "</div>"
      ],
      "text/plain": [
       "                 Open       High        Low      Close  Adj Close     Volume\n",
       "Date                                                                        \n",
       "2023-06-23  42.464001  42.808998  42.014999  42.209000  42.196365  358140000\n",
       "2023-06-26  42.460999  42.764000  40.099998  40.632000  40.619839  594322000\n",
       "2023-06-27  40.799000  41.939999  40.448002  41.875999  41.863468  462175000\n",
       "2023-06-28  40.660000  41.845001  40.518002  41.117001  41.104691  582639000\n",
       "2023-06-29  41.557999  41.599998  40.599998  40.821999  40.809776  380514000"
      ]
     },
     "execution_count": 98,
     "metadata": {},
     "output_type": "execute_result"
    }
   ],
   "source": [
    "NVDA = pd.read_csv('../data/NVDA.csv', delimiter=';', parse_dates=[\"Date\"], dayfirst=True, index_col=\"Date\")\n",
    "NVDA.head()"
   ]
  },
  {
   "cell_type": "markdown",
   "id": "b21ee7d6",
   "metadata": {
    "tags": []
   },
   "source": [
    "## <a id=\"t2.2\"></a>2.2. Subsetting a time series\n",
    "\n",
    "\n",
    "Only possible if the index of the DataFrame contains the index of type DateTimeIndex"
   ]
  },
  {
   "cell_type": "markdown",
   "id": "a0486677-902e-47df-8df3-81868a14ab4a",
   "metadata": {},
   "source": [
    "### `.loc`"
   ]
  },
  {
   "cell_type": "code",
   "execution_count": 67,
   "id": "661405f9-8a48-46f6-9ecb-21b5de7b6b03",
   "metadata": {},
   "outputs": [
    {
     "data": {
      "text/html": [
       "<div>\n",
       "<style scoped>\n",
       "    .dataframe tbody tr th:only-of-type {\n",
       "        vertical-align: middle;\n",
       "    }\n",
       "\n",
       "    .dataframe tbody tr th {\n",
       "        vertical-align: top;\n",
       "    }\n",
       "\n",
       "    .dataframe thead th {\n",
       "        text-align: right;\n",
       "    }\n",
       "</style>\n",
       "<table border=\"1\" class=\"dataframe\">\n",
       "  <thead>\n",
       "    <tr style=\"text-align: right;\">\n",
       "      <th></th>\n",
       "      <th>Open</th>\n",
       "      <th>High</th>\n",
       "      <th>Low</th>\n",
       "      <th>Close</th>\n",
       "      <th>Adj Close</th>\n",
       "      <th>Volume</th>\n",
       "    </tr>\n",
       "    <tr>\n",
       "      <th>Date</th>\n",
       "      <th></th>\n",
       "      <th></th>\n",
       "      <th></th>\n",
       "      <th></th>\n",
       "      <th></th>\n",
       "      <th></th>\n",
       "    </tr>\n",
       "  </thead>\n",
       "  <tbody>\n",
       "    <tr>\n",
       "      <th>2024-01-02</th>\n",
       "      <td>49.243999</td>\n",
       "      <td>49.294998</td>\n",
       "      <td>47.595001</td>\n",
       "      <td>48.167999</td>\n",
       "      <td>48.161785</td>\n",
       "      <td>411254000</td>\n",
       "    </tr>\n",
       "    <tr>\n",
       "      <th>2024-01-03</th>\n",
       "      <td>47.485001</td>\n",
       "      <td>48.183998</td>\n",
       "      <td>47.320000</td>\n",
       "      <td>47.569000</td>\n",
       "      <td>47.562862</td>\n",
       "      <td>320896000</td>\n",
       "    </tr>\n",
       "    <tr>\n",
       "      <th>2024-01-04</th>\n",
       "      <td>47.766998</td>\n",
       "      <td>48.500000</td>\n",
       "      <td>47.507999</td>\n",
       "      <td>47.998001</td>\n",
       "      <td>47.991810</td>\n",
       "      <td>306535000</td>\n",
       "    </tr>\n",
       "    <tr>\n",
       "      <th>2024-01-05</th>\n",
       "      <td>48.462002</td>\n",
       "      <td>49.547001</td>\n",
       "      <td>48.306000</td>\n",
       "      <td>49.097000</td>\n",
       "      <td>49.090664</td>\n",
       "      <td>415039000</td>\n",
       "    </tr>\n",
       "    <tr>\n",
       "      <th>2024-01-08</th>\n",
       "      <td>49.512001</td>\n",
       "      <td>52.275002</td>\n",
       "      <td>49.479000</td>\n",
       "      <td>52.252998</td>\n",
       "      <td>52.246254</td>\n",
       "      <td>642510000</td>\n",
       "    </tr>\n",
       "    <tr>\n",
       "      <th>...</th>\n",
       "      <td>...</td>\n",
       "      <td>...</td>\n",
       "      <td>...</td>\n",
       "      <td>...</td>\n",
       "      <td>...</td>\n",
       "      <td>...</td>\n",
       "    </tr>\n",
       "    <tr>\n",
       "      <th>2024-06-14</th>\n",
       "      <td>129.960007</td>\n",
       "      <td>132.839996</td>\n",
       "      <td>128.320007</td>\n",
       "      <td>131.880005</td>\n",
       "      <td>131.880005</td>\n",
       "      <td>309320400</td>\n",
       "    </tr>\n",
       "    <tr>\n",
       "      <th>2024-06-17</th>\n",
       "      <td>132.990005</td>\n",
       "      <td>133.729996</td>\n",
       "      <td>129.580002</td>\n",
       "      <td>130.979996</td>\n",
       "      <td>130.979996</td>\n",
       "      <td>288504400</td>\n",
       "    </tr>\n",
       "    <tr>\n",
       "      <th>2024-06-18</th>\n",
       "      <td>131.139999</td>\n",
       "      <td>136.330002</td>\n",
       "      <td>130.690002</td>\n",
       "      <td>135.580002</td>\n",
       "      <td>135.580002</td>\n",
       "      <td>294335100</td>\n",
       "    </tr>\n",
       "    <tr>\n",
       "      <th>2024-06-20</th>\n",
       "      <td>139.800003</td>\n",
       "      <td>140.759995</td>\n",
       "      <td>129.520004</td>\n",
       "      <td>130.779999</td>\n",
       "      <td>130.779999</td>\n",
       "      <td>517768400</td>\n",
       "    </tr>\n",
       "    <tr>\n",
       "      <th>2024-06-21</th>\n",
       "      <td>127.120003</td>\n",
       "      <td>130.630005</td>\n",
       "      <td>124.300003</td>\n",
       "      <td>126.570000</td>\n",
       "      <td>126.570000</td>\n",
       "      <td>649445800</td>\n",
       "    </tr>\n",
       "  </tbody>\n",
       "</table>\n",
       "<p>119 rows × 6 columns</p>\n",
       "</div>"
      ],
      "text/plain": [
       "                  Open        High         Low       Close   Adj Close  \\\n",
       "Date                                                                     \n",
       "2024-01-02   49.243999   49.294998   47.595001   48.167999   48.161785   \n",
       "2024-01-03   47.485001   48.183998   47.320000   47.569000   47.562862   \n",
       "2024-01-04   47.766998   48.500000   47.507999   47.998001   47.991810   \n",
       "2024-01-05   48.462002   49.547001   48.306000   49.097000   49.090664   \n",
       "2024-01-08   49.512001   52.275002   49.479000   52.252998   52.246254   \n",
       "...                ...         ...         ...         ...         ...   \n",
       "2024-06-14  129.960007  132.839996  128.320007  131.880005  131.880005   \n",
       "2024-06-17  132.990005  133.729996  129.580002  130.979996  130.979996   \n",
       "2024-06-18  131.139999  136.330002  130.690002  135.580002  135.580002   \n",
       "2024-06-20  139.800003  140.759995  129.520004  130.779999  130.779999   \n",
       "2024-06-21  127.120003  130.630005  124.300003  126.570000  126.570000   \n",
       "\n",
       "               Volume  \n",
       "Date                   \n",
       "2024-01-02  411254000  \n",
       "2024-01-03  320896000  \n",
       "2024-01-04  306535000  \n",
       "2024-01-05  415039000  \n",
       "2024-01-08  642510000  \n",
       "...               ...  \n",
       "2024-06-14  309320400  \n",
       "2024-06-17  288504400  \n",
       "2024-06-18  294335100  \n",
       "2024-06-20  517768400  \n",
       "2024-06-21  649445800  \n",
       "\n",
       "[119 rows x 6 columns]"
      ]
     },
     "execution_count": 67,
     "metadata": {},
     "output_type": "execute_result"
    }
   ],
   "source": [
    "NVDA.loc['2024'] # Select an entire year"
   ]
  },
  {
   "cell_type": "code",
   "execution_count": 64,
   "id": "29c87ec8-25d0-4503-a114-a95ef50ada98",
   "metadata": {},
   "outputs": [
    {
     "data": {
      "text/html": [
       "<div>\n",
       "<style scoped>\n",
       "    .dataframe tbody tr th:only-of-type {\n",
       "        vertical-align: middle;\n",
       "    }\n",
       "\n",
       "    .dataframe tbody tr th {\n",
       "        vertical-align: top;\n",
       "    }\n",
       "\n",
       "    .dataframe thead th {\n",
       "        text-align: right;\n",
       "    }\n",
       "</style>\n",
       "<table border=\"1\" class=\"dataframe\">\n",
       "  <thead>\n",
       "    <tr style=\"text-align: right;\">\n",
       "      <th></th>\n",
       "      <th>Open</th>\n",
       "      <th>High</th>\n",
       "      <th>Low</th>\n",
       "      <th>Close</th>\n",
       "      <th>Adj Close</th>\n",
       "      <th>Volume</th>\n",
       "    </tr>\n",
       "    <tr>\n",
       "      <th>Date</th>\n",
       "      <th></th>\n",
       "      <th></th>\n",
       "      <th></th>\n",
       "      <th></th>\n",
       "      <th></th>\n",
       "      <th></th>\n",
       "    </tr>\n",
       "  </thead>\n",
       "  <tbody>\n",
       "    <tr>\n",
       "      <th>2023-06-23</th>\n",
       "      <td>42.464001</td>\n",
       "      <td>42.808998</td>\n",
       "      <td>42.014999</td>\n",
       "      <td>42.209000</td>\n",
       "      <td>42.196365</td>\n",
       "      <td>358140000</td>\n",
       "    </tr>\n",
       "    <tr>\n",
       "      <th>2023-06-26</th>\n",
       "      <td>42.460999</td>\n",
       "      <td>42.764000</td>\n",
       "      <td>40.099998</td>\n",
       "      <td>40.632000</td>\n",
       "      <td>40.619839</td>\n",
       "      <td>594322000</td>\n",
       "    </tr>\n",
       "    <tr>\n",
       "      <th>2023-06-27</th>\n",
       "      <td>40.799000</td>\n",
       "      <td>41.939999</td>\n",
       "      <td>40.448002</td>\n",
       "      <td>41.875999</td>\n",
       "      <td>41.863468</td>\n",
       "      <td>462175000</td>\n",
       "    </tr>\n",
       "    <tr>\n",
       "      <th>2023-06-28</th>\n",
       "      <td>40.660000</td>\n",
       "      <td>41.845001</td>\n",
       "      <td>40.518002</td>\n",
       "      <td>41.117001</td>\n",
       "      <td>41.104691</td>\n",
       "      <td>582639000</td>\n",
       "    </tr>\n",
       "    <tr>\n",
       "      <th>2023-06-29</th>\n",
       "      <td>41.557999</td>\n",
       "      <td>41.599998</td>\n",
       "      <td>40.599998</td>\n",
       "      <td>40.821999</td>\n",
       "      <td>40.809776</td>\n",
       "      <td>380514000</td>\n",
       "    </tr>\n",
       "    <tr>\n",
       "      <th>2023-06-30</th>\n",
       "      <td>41.680000</td>\n",
       "      <td>42.549999</td>\n",
       "      <td>41.500999</td>\n",
       "      <td>42.301998</td>\n",
       "      <td>42.289337</td>\n",
       "      <td>501148000</td>\n",
       "    </tr>\n",
       "  </tbody>\n",
       "</table>\n",
       "</div>"
      ],
      "text/plain": [
       "                 Open       High        Low      Close  Adj Close     Volume\n",
       "Date                                                                        \n",
       "2023-06-23  42.464001  42.808998  42.014999  42.209000  42.196365  358140000\n",
       "2023-06-26  42.460999  42.764000  40.099998  40.632000  40.619839  594322000\n",
       "2023-06-27  40.799000  41.939999  40.448002  41.875999  41.863468  462175000\n",
       "2023-06-28  40.660000  41.845001  40.518002  41.117001  41.104691  582639000\n",
       "2023-06-29  41.557999  41.599998  40.599998  40.821999  40.809776  380514000\n",
       "2023-06-30  41.680000  42.549999  41.500999  42.301998  42.289337  501148000"
      ]
     },
     "execution_count": 64,
     "metadata": {},
     "output_type": "execute_result"
    }
   ],
   "source": [
    "NVDA.loc['2023-06'] # Select an entire month"
   ]
  },
  {
   "cell_type": "code",
   "execution_count": 69,
   "id": "116fa56d-176c-46dc-83de-93029c4bffd3",
   "metadata": {},
   "outputs": [
    {
     "data": {
      "text/plain": [
       "Date\n",
       "2024-06-03    113.621002\n",
       "2024-06-04    115.716003\n",
       "2024-06-05    118.371002\n",
       "2024-06-06    124.047997\n",
       "2024-06-07    119.769997\n",
       "2024-06-10    120.370003\n",
       "2024-06-11    121.769997\n",
       "2024-06-12    123.059998\n",
       "2024-06-13    129.389999\n",
       "2024-06-14    129.960007\n",
       "2024-06-17    132.990005\n",
       "2024-06-18    131.139999\n",
       "2024-06-20    139.800003\n",
       "2024-06-21    127.120003\n",
       "Name: Open, dtype: float64"
      ]
     },
     "execution_count": 69,
     "metadata": {},
     "output_type": "execute_result"
    }
   ],
   "source": [
    "NVDA.loc['2024-06', 'Open'] # Select an specific column"
   ]
  },
  {
   "cell_type": "markdown",
   "id": "bb66e05e",
   "metadata": {
    "tags": []
   },
   "source": [
    "# <a id=\"t3\"></a>3. Manipulating time series data"
   ]
  },
  {
   "cell_type": "markdown",
   "id": "de74f13a-f2bd-4658-882e-41ff31985166",
   "metadata": {},
   "source": [
    "## <a id=\"t3.1\"></a>3.1 Shifting time series and calculating percentage changes"
   ]
  },
  {
   "cell_type": "markdown",
   "id": "ac486664-7fe5-4038-9efb-db4d2402995b",
   "metadata": {},
   "source": [
    "### `.shift()`\n",
    "This function is used to shift the values in a Series or DataFrame by a specified number of periods along a given axis, while preserving the alignment of the data. It can be used to create lagged or lead variables."
   ]
  },
  {
   "cell_type": "code",
   "execution_count": 135,
   "id": "3fb6a5e1-bee7-4215-8980-869f5906d7d2",
   "metadata": {},
   "outputs": [],
   "source": [
    "nvidia = NVDA[[\"Close\"]].copy()"
   ]
  },
  {
   "cell_type": "code",
   "execution_count": 136,
   "id": "332e6e72-93fa-4340-9e45-5ed0ac3aefef",
   "metadata": {},
   "outputs": [
    {
     "data": {
      "text/html": [
       "<div>\n",
       "<style scoped>\n",
       "    .dataframe tbody tr th:only-of-type {\n",
       "        vertical-align: middle;\n",
       "    }\n",
       "\n",
       "    .dataframe tbody tr th {\n",
       "        vertical-align: top;\n",
       "    }\n",
       "\n",
       "    .dataframe thead th {\n",
       "        text-align: right;\n",
       "    }\n",
       "</style>\n",
       "<table border=\"1\" class=\"dataframe\">\n",
       "  <thead>\n",
       "    <tr style=\"text-align: right;\">\n",
       "      <th></th>\n",
       "      <th>Close</th>\n",
       "    </tr>\n",
       "    <tr>\n",
       "      <th>Date</th>\n",
       "      <th></th>\n",
       "    </tr>\n",
       "  </thead>\n",
       "  <tbody>\n",
       "    <tr>\n",
       "      <th>2023-06-23</th>\n",
       "      <td>42.209000</td>\n",
       "    </tr>\n",
       "    <tr>\n",
       "      <th>2023-06-26</th>\n",
       "      <td>40.632000</td>\n",
       "    </tr>\n",
       "    <tr>\n",
       "      <th>2023-06-27</th>\n",
       "      <td>41.875999</td>\n",
       "    </tr>\n",
       "    <tr>\n",
       "      <th>2023-06-28</th>\n",
       "      <td>41.117001</td>\n",
       "    </tr>\n",
       "    <tr>\n",
       "      <th>2023-06-29</th>\n",
       "      <td>40.821999</td>\n",
       "    </tr>\n",
       "  </tbody>\n",
       "</table>\n",
       "</div>"
      ],
      "text/plain": [
       "                Close\n",
       "Date                 \n",
       "2023-06-23  42.209000\n",
       "2023-06-26  40.632000\n",
       "2023-06-27  41.875999\n",
       "2023-06-28  41.117001\n",
       "2023-06-29  40.821999"
      ]
     },
     "execution_count": 136,
     "metadata": {},
     "output_type": "execute_result"
    }
   ],
   "source": [
    "nvidia.head()"
   ]
  },
  {
   "cell_type": "code",
   "execution_count": 137,
   "id": "10713a49-f6ab-4296-a1dc-a8e97c7fb954",
   "metadata": {},
   "outputs": [],
   "source": [
    "nvidia['lagged'] = nvidia[\"Close\"].shift(periods=-30) # We shift 30 days backward"
   ]
  },
  {
   "cell_type": "code",
   "execution_count": 138,
   "id": "f55209e9-0123-4b63-bae8-b6576ef38014",
   "metadata": {},
   "outputs": [],
   "source": [
    "nvidia['shifted'] = nvidia[\"Close\"].shift(periods=30) # We shift 30 days forward"
   ]
  },
  {
   "cell_type": "code",
   "execution_count": 139,
   "id": "2325be98-e06f-4c6b-9218-7c067bcc9f36",
   "metadata": {},
   "outputs": [
    {
     "data": {
      "image/png": "[encoded data removed]",
      "text/plain": [
       "<Figure size 640x480 with 1 Axes>"
      ]
     },
     "metadata": {},
     "output_type": "display_data"
    }
   ],
   "source": [
    "nvidia.plot()\n",
    "plt.show()"
   ]
  },
  {
   "cell_type": "code",
   "execution_count": 143,
   "id": "621c0250-f4f3-412b-9d15-011fec40fe64",
   "metadata": {},
   "outputs": [
    {
     "data": {
      "text/html": [
       "<div>\n",
       "<style scoped>\n",
       "    .dataframe tbody tr th:only-of-type {\n",
       "        vertical-align: middle;\n",
       "    }\n",
       "\n",
       "    .dataframe tbody tr th {\n",
       "        vertical-align: top;\n",
       "    }\n",
       "\n",
       "    .dataframe thead th {\n",
       "        text-align: right;\n",
       "    }\n",
       "</style>\n",
       "<table border=\"1\" class=\"dataframe\">\n",
       "  <thead>\n",
       "    <tr style=\"text-align: right;\">\n",
       "      <th></th>\n",
       "      <th>Close</th>\n",
       "      <th>lagged</th>\n",
       "      <th>shifted</th>\n",
       "    </tr>\n",
       "    <tr>\n",
       "      <th>Date</th>\n",
       "      <th></th>\n",
       "      <th></th>\n",
       "      <th></th>\n",
       "    </tr>\n",
       "  </thead>\n",
       "  <tbody>\n",
       "    <tr>\n",
       "      <th>2023-06-23</th>\n",
       "      <td>42.209000</td>\n",
       "      <td>40.632000</td>\n",
       "      <td>NaN</td>\n",
       "    </tr>\n",
       "    <tr>\n",
       "      <th>2023-06-26</th>\n",
       "      <td>40.632000</td>\n",
       "      <td>41.875999</td>\n",
       "      <td>42.209000</td>\n",
       "    </tr>\n",
       "    <tr>\n",
       "      <th>2023-06-27</th>\n",
       "      <td>41.875999</td>\n",
       "      <td>41.117001</td>\n",
       "      <td>40.632000</td>\n",
       "    </tr>\n",
       "    <tr>\n",
       "      <th>2023-06-28</th>\n",
       "      <td>41.117001</td>\n",
       "      <td>40.821999</td>\n",
       "      <td>41.875999</td>\n",
       "    </tr>\n",
       "    <tr>\n",
       "      <th>2023-06-29</th>\n",
       "      <td>40.821999</td>\n",
       "      <td>42.301998</td>\n",
       "      <td>41.117001</td>\n",
       "    </tr>\n",
       "  </tbody>\n",
       "</table>\n",
       "</div>"
      ],
      "text/plain": [
       "                Close     lagged    shifted\n",
       "Date                                       \n",
       "2023-06-23  42.209000  40.632000        NaN\n",
       "2023-06-26  40.632000  41.875999  42.209000\n",
       "2023-06-27  41.875999  41.117001  40.632000\n",
       "2023-06-28  41.117001  40.821999  41.875999\n",
       "2023-06-29  40.821999  42.301998  41.117001"
      ]
     },
     "execution_count": 143,
     "metadata": {},
     "output_type": "execute_result"
    }
   ],
   "source": [
    "nvidia = NVDA[[\"Close\"]].copy()\n",
    "nvidia['lagged'] = nvidia[\"Close\"].shift(periods=-1) # We shift 1 days backward\n",
    "nvidia['shifted'] = nvidia[\"Close\"].shift(periods=1) # We shift 1 days forward\n",
    "nvidia.head()"
   ]
  },
  {
   "cell_type": "code",
   "execution_count": 145,
   "id": "970251cd-a490-42f8-b6e4-89297cda379b",
   "metadata": {},
   "outputs": [
    {
     "data": {
      "text/html": [
       "<div>\n",
       "<style scoped>\n",
       "    .dataframe tbody tr th:only-of-type {\n",
       "        vertical-align: middle;\n",
       "    }\n",
       "\n",
       "    .dataframe tbody tr th {\n",
       "        vertical-align: top;\n",
       "    }\n",
       "\n",
       "    .dataframe thead th {\n",
       "        text-align: right;\n",
       "    }\n",
       "</style>\n",
       "<table border=\"1\" class=\"dataframe\">\n",
       "  <thead>\n",
       "    <tr style=\"text-align: right;\">\n",
       "      <th></th>\n",
       "      <th>Close</th>\n",
       "      <th>lagged</th>\n",
       "      <th>shifted</th>\n",
       "    </tr>\n",
       "    <tr>\n",
       "      <th>Date</th>\n",
       "      <th></th>\n",
       "      <th></th>\n",
       "      <th></th>\n",
       "    </tr>\n",
       "  </thead>\n",
       "  <tbody>\n",
       "    <tr>\n",
       "      <th>2024-06-14</th>\n",
       "      <td>131.880005</td>\n",
       "      <td>130.979996</td>\n",
       "      <td>129.610001</td>\n",
       "    </tr>\n",
       "    <tr>\n",
       "      <th>2024-06-17</th>\n",
       "      <td>130.979996</td>\n",
       "      <td>135.580002</td>\n",
       "      <td>131.880005</td>\n",
       "    </tr>\n",
       "    <tr>\n",
       "      <th>2024-06-18</th>\n",
       "      <td>135.580002</td>\n",
       "      <td>130.779999</td>\n",
       "      <td>130.979996</td>\n",
       "    </tr>\n",
       "    <tr>\n",
       "      <th>2024-06-20</th>\n",
       "      <td>130.779999</td>\n",
       "      <td>126.570000</td>\n",
       "      <td>135.580002</td>\n",
       "    </tr>\n",
       "    <tr>\n",
       "      <th>2024-06-21</th>\n",
       "      <td>126.570000</td>\n",
       "      <td>NaN</td>\n",
       "      <td>130.779999</td>\n",
       "    </tr>\n",
       "  </tbody>\n",
       "</table>\n",
       "</div>"
      ],
      "text/plain": [
       "                 Close      lagged     shifted\n",
       "Date                                          \n",
       "2024-06-14  131.880005  130.979996  129.610001\n",
       "2024-06-17  130.979996  135.580002  131.880005\n",
       "2024-06-18  135.580002  130.779999  130.979996\n",
       "2024-06-20  130.779999  126.570000  135.580002\n",
       "2024-06-21  126.570000         NaN  130.779999"
      ]
     },
     "execution_count": 145,
     "metadata": {},
     "output_type": "execute_result"
    }
   ],
   "source": [
    "nvidia.tail()"
   ]
  },
  {
   "cell_type": "markdown",
   "id": "71a7c9d3-44ad-4864-93d6-ad48e36ada4f",
   "metadata": {
    "tags": []
   },
   "source": [
    "### `.div()`, `.sub()` and `.mul()`\n",
    "`.div()` is quite useful if we want to perform operations between columns. For example we can obtain the daily percent change just by dividing \\\n",
    "$$Y_t/Y_{t-1}$$"
   ]
  },
  {
   "cell_type": "code",
   "execution_count": 147,
   "id": "72ce4f8f-c3db-4108-9c3d-78abac44152e",
   "metadata": {},
   "outputs": [
    {
     "data": {
      "text/html": [
       "<div>\n",
       "<style scoped>\n",
       "    .dataframe tbody tr th:only-of-type {\n",
       "        vertical-align: middle;\n",
       "    }\n",
       "\n",
       "    .dataframe tbody tr th {\n",
       "        vertical-align: top;\n",
       "    }\n",
       "\n",
       "    .dataframe thead th {\n",
       "        text-align: right;\n",
       "    }\n",
       "</style>\n",
       "<table border=\"1\" class=\"dataframe\">\n",
       "  <thead>\n",
       "    <tr style=\"text-align: right;\">\n",
       "      <th></th>\n",
       "      <th>Close</th>\n",
       "      <th>shifted</th>\n",
       "      <th>change</th>\n",
       "    </tr>\n",
       "    <tr>\n",
       "      <th>Date</th>\n",
       "      <th></th>\n",
       "      <th></th>\n",
       "      <th></th>\n",
       "    </tr>\n",
       "  </thead>\n",
       "  <tbody>\n",
       "    <tr>\n",
       "      <th>2023-06-23</th>\n",
       "      <td>42.209000</td>\n",
       "      <td>NaN</td>\n",
       "      <td>NaN</td>\n",
       "    </tr>\n",
       "    <tr>\n",
       "      <th>2023-06-26</th>\n",
       "      <td>40.632000</td>\n",
       "      <td>42.209000</td>\n",
       "      <td>0.962638</td>\n",
       "    </tr>\n",
       "    <tr>\n",
       "      <th>2023-06-27</th>\n",
       "      <td>41.875999</td>\n",
       "      <td>40.632000</td>\n",
       "      <td>1.030616</td>\n",
       "    </tr>\n",
       "    <tr>\n",
       "      <th>2023-06-28</th>\n",
       "      <td>41.117001</td>\n",
       "      <td>41.875999</td>\n",
       "      <td>0.981875</td>\n",
       "    </tr>\n",
       "    <tr>\n",
       "      <th>2023-06-29</th>\n",
       "      <td>40.821999</td>\n",
       "      <td>41.117001</td>\n",
       "      <td>0.992825</td>\n",
       "    </tr>\n",
       "  </tbody>\n",
       "</table>\n",
       "</div>"
      ],
      "text/plain": [
       "                Close    shifted    change\n",
       "Date                                      \n",
       "2023-06-23  42.209000        NaN       NaN\n",
       "2023-06-26  40.632000  42.209000  0.962638\n",
       "2023-06-27  41.875999  40.632000  1.030616\n",
       "2023-06-28  41.117001  41.875999  0.981875\n",
       "2023-06-29  40.821999  41.117001  0.992825"
      ]
     },
     "execution_count": 147,
     "metadata": {},
     "output_type": "execute_result"
    }
   ],
   "source": [
    "nvidia['change'] = nvidia.Close.div(nvidia.shifted) # We divide the price value by its past value\n",
    "nvidia[[\"Close\", \"shifted\", \"change\"]].head()"
   ]
  },
  {
   "cell_type": "markdown",
   "id": "d57d85e3-3ee1-49fa-9055-cb0f85776581",
   "metadata": {},
   "source": [
    "Then, if we want to calculate the return, we just need to substract 1 with `.sub()` and multiply the result by 100 with `.mul()` "
   ]
  },
  {
   "cell_type": "code",
   "execution_count": 148,
   "id": "a1b14fe5-8ce3-4577-877b-f84905850797",
   "metadata": {},
   "outputs": [
    {
     "data": {
      "text/html": [
       "<div>\n",
       "<style scoped>\n",
       "    .dataframe tbody tr th:only-of-type {\n",
       "        vertical-align: middle;\n",
       "    }\n",
       "\n",
       "    .dataframe tbody tr th {\n",
       "        vertical-align: top;\n",
       "    }\n",
       "\n",
       "    .dataframe thead th {\n",
       "        text-align: right;\n",
       "    }\n",
       "</style>\n",
       "<table border=\"1\" class=\"dataframe\">\n",
       "  <thead>\n",
       "    <tr style=\"text-align: right;\">\n",
       "      <th></th>\n",
       "      <th>Close</th>\n",
       "      <th>shifted</th>\n",
       "      <th>change</th>\n",
       "      <th>return</th>\n",
       "    </tr>\n",
       "    <tr>\n",
       "      <th>Date</th>\n",
       "      <th></th>\n",
       "      <th></th>\n",
       "      <th></th>\n",
       "      <th></th>\n",
       "    </tr>\n",
       "  </thead>\n",
       "  <tbody>\n",
       "    <tr>\n",
       "      <th>2023-06-23</th>\n",
       "      <td>42.209000</td>\n",
       "      <td>NaN</td>\n",
       "      <td>NaN</td>\n",
       "      <td>NaN</td>\n",
       "    </tr>\n",
       "    <tr>\n",
       "      <th>2023-06-26</th>\n",
       "      <td>40.632000</td>\n",
       "      <td>42.209000</td>\n",
       "      <td>0.962638</td>\n",
       "      <td>-3.736170</td>\n",
       "    </tr>\n",
       "    <tr>\n",
       "      <th>2023-06-27</th>\n",
       "      <td>41.875999</td>\n",
       "      <td>40.632000</td>\n",
       "      <td>1.030616</td>\n",
       "      <td>3.061624</td>\n",
       "    </tr>\n",
       "    <tr>\n",
       "      <th>2023-06-28</th>\n",
       "      <td>41.117001</td>\n",
       "      <td>41.875999</td>\n",
       "      <td>0.981875</td>\n",
       "      <td>-1.812489</td>\n",
       "    </tr>\n",
       "    <tr>\n",
       "      <th>2023-06-29</th>\n",
       "      <td>40.821999</td>\n",
       "      <td>41.117001</td>\n",
       "      <td>0.992825</td>\n",
       "      <td>-0.717470</td>\n",
       "    </tr>\n",
       "  </tbody>\n",
       "</table>\n",
       "</div>"
      ],
      "text/plain": [
       "                Close    shifted    change    return\n",
       "Date                                                \n",
       "2023-06-23  42.209000        NaN       NaN       NaN\n",
       "2023-06-26  40.632000  42.209000  0.962638 -3.736170\n",
       "2023-06-27  41.875999  40.632000  1.030616  3.061624\n",
       "2023-06-28  41.117001  41.875999  0.981875 -1.812489\n",
       "2023-06-29  40.821999  41.117001  0.992825 -0.717470"
      ]
     },
     "execution_count": 148,
     "metadata": {},
     "output_type": "execute_result"
    }
   ],
   "source": [
    "nvidia['return'] = nvidia.change.sub(1).mul(100)\n",
    "nvidia[[\"Close\", \"shifted\", \"change\", \"return\"]].head()"
   ]
  },
  {
   "cell_type": "markdown",
   "id": "7eb378eb-e93a-432e-a588-3965908e39b1",
   "metadata": {},
   "source": [
    "### `.diff()`\n",
    "It allow us to quickly perform the following calculation to get the difference value of two adjacent values:\n",
    "$$\\Delta Y_t = Y_t - Y_{t-1} $$"
   ]
  },
  {
   "cell_type": "code",
   "execution_count": 150,
   "id": "a965aa09-2912-4e07-922c-ac5658487e74",
   "metadata": {},
   "outputs": [
    {
     "data": {
      "text/html": [
       "<div>\n",
       "<style scoped>\n",
       "    .dataframe tbody tr th:only-of-type {\n",
       "        vertical-align: middle;\n",
       "    }\n",
       "\n",
       "    .dataframe tbody tr th {\n",
       "        vertical-align: top;\n",
       "    }\n",
       "\n",
       "    .dataframe thead th {\n",
       "        text-align: right;\n",
       "    }\n",
       "</style>\n",
       "<table border=\"1\" class=\"dataframe\">\n",
       "  <thead>\n",
       "    <tr style=\"text-align: right;\">\n",
       "      <th></th>\n",
       "      <th>Close</th>\n",
       "      <th>change</th>\n",
       "      <th>return</th>\n",
       "      <th>diff</th>\n",
       "    </tr>\n",
       "    <tr>\n",
       "      <th>Date</th>\n",
       "      <th></th>\n",
       "      <th></th>\n",
       "      <th></th>\n",
       "      <th></th>\n",
       "    </tr>\n",
       "  </thead>\n",
       "  <tbody>\n",
       "    <tr>\n",
       "      <th>2023-06-23</th>\n",
       "      <td>42.209000</td>\n",
       "      <td>NaN</td>\n",
       "      <td>NaN</td>\n",
       "      <td>NaN</td>\n",
       "    </tr>\n",
       "    <tr>\n",
       "      <th>2023-06-26</th>\n",
       "      <td>40.632000</td>\n",
       "      <td>0.962638</td>\n",
       "      <td>-3.736170</td>\n",
       "      <td>-1.577000</td>\n",
       "    </tr>\n",
       "    <tr>\n",
       "      <th>2023-06-27</th>\n",
       "      <td>41.875999</td>\n",
       "      <td>1.030616</td>\n",
       "      <td>3.061624</td>\n",
       "      <td>1.243999</td>\n",
       "    </tr>\n",
       "    <tr>\n",
       "      <th>2023-06-28</th>\n",
       "      <td>41.117001</td>\n",
       "      <td>0.981875</td>\n",
       "      <td>-1.812489</td>\n",
       "      <td>-0.758998</td>\n",
       "    </tr>\n",
       "    <tr>\n",
       "      <th>2023-06-29</th>\n",
       "      <td>40.821999</td>\n",
       "      <td>0.992825</td>\n",
       "      <td>-0.717470</td>\n",
       "      <td>-0.295002</td>\n",
       "    </tr>\n",
       "  </tbody>\n",
       "</table>\n",
       "</div>"
      ],
      "text/plain": [
       "                Close    change    return      diff\n",
       "Date                                               \n",
       "2023-06-23  42.209000       NaN       NaN       NaN\n",
       "2023-06-26  40.632000  0.962638 -3.736170 -1.577000\n",
       "2023-06-27  41.875999  1.030616  3.061624  1.243999\n",
       "2023-06-28  41.117001  0.981875 -1.812489 -0.758998\n",
       "2023-06-29  40.821999  0.992825 -0.717470 -0.295002"
      ]
     },
     "execution_count": 150,
     "metadata": {},
     "output_type": "execute_result"
    }
   ],
   "source": [
    "nvidia['diff'] = nvidia.Close.diff()\n",
    "nvidia[[\"Close\", \"change\", \"return\", \"diff\"]].head()"
   ]
  },
  {
   "cell_type": "markdown",
   "id": "8a523467-31bb-4edf-b128-fa09515366c0",
   "metadata": {},
   "source": [
    "### `.pct_change()`\n",
    "It allows us to get the percentual change in the value of the variable"
   ]
  },
  {
   "cell_type": "code",
   "execution_count": 155,
   "id": "0c4fe805-7fa4-4c46-be1f-c6be5250ceeb",
   "metadata": {},
   "outputs": [
    {
     "data": {
      "text/html": [
       "<div>\n",
       "<style scoped>\n",
       "    .dataframe tbody tr th:only-of-type {\n",
       "        vertical-align: middle;\n",
       "    }\n",
       "\n",
       "    .dataframe tbody tr th {\n",
       "        vertical-align: top;\n",
       "    }\n",
       "\n",
       "    .dataframe thead th {\n",
       "        text-align: right;\n",
       "    }\n",
       "</style>\n",
       "<table border=\"1\" class=\"dataframe\">\n",
       "  <thead>\n",
       "    <tr style=\"text-align: right;\">\n",
       "      <th></th>\n",
       "      <th>Close</th>\n",
       "      <th>shifted</th>\n",
       "      <th>change</th>\n",
       "      <th>return</th>\n",
       "      <th>pct_change</th>\n",
       "    </tr>\n",
       "    <tr>\n",
       "      <th>Date</th>\n",
       "      <th></th>\n",
       "      <th></th>\n",
       "      <th></th>\n",
       "      <th></th>\n",
       "      <th></th>\n",
       "    </tr>\n",
       "  </thead>\n",
       "  <tbody>\n",
       "    <tr>\n",
       "      <th>2023-06-23</th>\n",
       "      <td>42.209000</td>\n",
       "      <td>NaN</td>\n",
       "      <td>NaN</td>\n",
       "      <td>NaN</td>\n",
       "      <td>NaN</td>\n",
       "    </tr>\n",
       "    <tr>\n",
       "      <th>2023-06-26</th>\n",
       "      <td>40.632000</td>\n",
       "      <td>42.209000</td>\n",
       "      <td>0.962638</td>\n",
       "      <td>-3.736170</td>\n",
       "      <td>-3.736170</td>\n",
       "    </tr>\n",
       "    <tr>\n",
       "      <th>2023-06-27</th>\n",
       "      <td>41.875999</td>\n",
       "      <td>40.632000</td>\n",
       "      <td>1.030616</td>\n",
       "      <td>3.061624</td>\n",
       "      <td>3.061624</td>\n",
       "    </tr>\n",
       "    <tr>\n",
       "      <th>2023-06-28</th>\n",
       "      <td>41.117001</td>\n",
       "      <td>41.875999</td>\n",
       "      <td>0.981875</td>\n",
       "      <td>-1.812489</td>\n",
       "      <td>-1.812489</td>\n",
       "    </tr>\n",
       "    <tr>\n",
       "      <th>2023-06-29</th>\n",
       "      <td>40.821999</td>\n",
       "      <td>41.117001</td>\n",
       "      <td>0.992825</td>\n",
       "      <td>-0.717470</td>\n",
       "      <td>-0.717470</td>\n",
       "    </tr>\n",
       "  </tbody>\n",
       "</table>\n",
       "</div>"
      ],
      "text/plain": [
       "                Close    shifted    change    return  pct_change\n",
       "Date                                                            \n",
       "2023-06-23  42.209000        NaN       NaN       NaN         NaN\n",
       "2023-06-26  40.632000  42.209000  0.962638 -3.736170   -3.736170\n",
       "2023-06-27  41.875999  40.632000  1.030616  3.061624    3.061624\n",
       "2023-06-28  41.117001  41.875999  0.981875 -1.812489   -1.812489\n",
       "2023-06-29  40.821999  41.117001  0.992825 -0.717470   -0.717470"
      ]
     },
     "execution_count": 155,
     "metadata": {},
     "output_type": "execute_result"
    }
   ],
   "source": [
    "nvidia['pct_change'] = nvidia.Close.pct_change().mul(100)\n",
    "nvidia[[\"Close\", \"shifted\", \"change\", \"return\", \"pct_change\"]].head()"
   ]
  },
  {
   "cell_type": "code",
   "execution_count": 166,
   "id": "0710e9b0-ac04-4e4e-9743-57eb78573401",
   "metadata": {},
   "outputs": [
    {
     "data": {
      "text/html": [
       "<div>\n",
       "<style scoped>\n",
       "    .dataframe tbody tr th:only-of-type {\n",
       "        vertical-align: middle;\n",
       "    }\n",
       "\n",
       "    .dataframe tbody tr th {\n",
       "        vertical-align: top;\n",
       "    }\n",
       "\n",
       "    .dataframe thead th {\n",
       "        text-align: right;\n",
       "    }\n",
       "</style>\n",
       "<table border=\"1\" class=\"dataframe\">\n",
       "  <thead>\n",
       "    <tr style=\"text-align: right;\">\n",
       "      <th></th>\n",
       "      <th>Close</th>\n",
       "      <th>return_7d</th>\n",
       "    </tr>\n",
       "    <tr>\n",
       "      <th>Date</th>\n",
       "      <th></th>\n",
       "      <th></th>\n",
       "    </tr>\n",
       "  </thead>\n",
       "  <tbody>\n",
       "    <tr>\n",
       "      <th>2024-06-14</th>\n",
       "      <td>131.880005</td>\n",
       "      <td>7.709901</td>\n",
       "    </tr>\n",
       "    <tr>\n",
       "      <th>2024-06-17</th>\n",
       "      <td>130.979996</td>\n",
       "      <td>8.249719</td>\n",
       "    </tr>\n",
       "    <tr>\n",
       "      <th>2024-06-18</th>\n",
       "      <td>135.580002</td>\n",
       "      <td>12.153400</td>\n",
       "    </tr>\n",
       "    <tr>\n",
       "      <th>2024-06-20</th>\n",
       "      <td>130.779999</td>\n",
       "      <td>7.381557</td>\n",
       "    </tr>\n",
       "    <tr>\n",
       "      <th>2024-06-21</th>\n",
       "      <td>126.570000</td>\n",
       "      <td>4.681164</td>\n",
       "    </tr>\n",
       "  </tbody>\n",
       "</table>\n",
       "</div>"
      ],
      "text/plain": [
       "                 Close  return_7d\n",
       "Date                             \n",
       "2024-06-14  131.880005   7.709901\n",
       "2024-06-17  130.979996   8.249719\n",
       "2024-06-18  135.580002  12.153400\n",
       "2024-06-20  130.779999   7.381557\n",
       "2024-06-21  126.570000   4.681164"
      ]
     },
     "execution_count": 166,
     "metadata": {},
     "output_type": "execute_result"
    }
   ],
   "source": [
    "# We can also get the return on multiple periods\n",
    "nvidia['return_7d'] = nvidia.Close.pct_change(periods=7).mul(100)\n",
    "nvidia[[\"Close\", \"return_7d\"]].tail()"
   ]
  },
  {
   "cell_type": "code",
   "execution_count": 173,
   "id": "be169d9a-6390-45e3-b1da-0e11e473a1fe",
   "metadata": {},
   "outputs": [],
   "source": [
    "nvidia['daily_return'] = nvidia['Close'].pct_change(periods = 1).mul(100) # Create a daily return\n",
    "nvidia['monthly_return'] = nvidia['Close'].pct_change(periods = 30).mul(100) # Create a monthly return\n",
    "nvidia['quarterly_return'] = nvidia['Close'].pct_change(periods = 120).mul(100) # Create a quarterly return"
   ]
  },
  {
   "cell_type": "code",
   "execution_count": 174,
   "id": "6ac7e36f-9e63-419c-b0da-3213b69da282",
   "metadata": {},
   "outputs": [
    {
     "data": {
      "text/html": [
       "<div>\n",
       "<style scoped>\n",
       "    .dataframe tbody tr th:only-of-type {\n",
       "        vertical-align: middle;\n",
       "    }\n",
       "\n",
       "    .dataframe tbody tr th {\n",
       "        vertical-align: top;\n",
       "    }\n",
       "\n",
       "    .dataframe thead th {\n",
       "        text-align: right;\n",
       "    }\n",
       "</style>\n",
       "<table border=\"1\" class=\"dataframe\">\n",
       "  <thead>\n",
       "    <tr style=\"text-align: right;\">\n",
       "      <th></th>\n",
       "      <th>daily_return</th>\n",
       "      <th>monthly_return</th>\n",
       "      <th>quarterly_return</th>\n",
       "    </tr>\n",
       "    <tr>\n",
       "      <th>Date</th>\n",
       "      <th></th>\n",
       "      <th></th>\n",
       "      <th></th>\n",
       "    </tr>\n",
       "  </thead>\n",
       "  <tbody>\n",
       "    <tr>\n",
       "      <th>2024-06-14</th>\n",
       "      <td>1.751411</td>\n",
       "      <td>53.675849</td>\n",
       "      <td>169.197795</td>\n",
       "    </tr>\n",
       "    <tr>\n",
       "      <th>2024-06-17</th>\n",
       "      <td>-0.682445</td>\n",
       "      <td>47.518267</td>\n",
       "      <td>168.236721</td>\n",
       "    </tr>\n",
       "    <tr>\n",
       "      <th>2024-06-18</th>\n",
       "      <td>3.511991</td>\n",
       "      <td>47.145652</td>\n",
       "      <td>175.127346</td>\n",
       "    </tr>\n",
       "    <tr>\n",
       "      <th>2024-06-20</th>\n",
       "      <td>-3.540347</td>\n",
       "      <td>44.422110</td>\n",
       "      <td>164.645768</td>\n",
       "    </tr>\n",
       "    <tr>\n",
       "      <th>2024-06-21</th>\n",
       "      <td>-3.219146</td>\n",
       "      <td>39.992474</td>\n",
       "      <td>155.583382</td>\n",
       "    </tr>\n",
       "  </tbody>\n",
       "</table>\n",
       "</div>"
      ],
      "text/plain": [
       "            daily_return  monthly_return  quarterly_return\n",
       "Date                                                      \n",
       "2024-06-14      1.751411       53.675849        169.197795\n",
       "2024-06-17     -0.682445       47.518267        168.236721\n",
       "2024-06-18      3.511991       47.145652        175.127346\n",
       "2024-06-20     -3.540347       44.422110        164.645768\n",
       "2024-06-21     -3.219146       39.992474        155.583382"
      ]
     },
     "execution_count": 174,
     "metadata": {},
     "output_type": "execute_result"
    }
   ],
   "source": [
    "nvidia[[\"daily_return\", \"monthly_return\", \"quarterly_return\"]].tail()"
   ]
  },
  {
   "cell_type": "markdown",
   "id": "29043bdb-856e-4ac4-8fba-c578df81114b",
   "metadata": {
    "tags": []
   },
   "source": [
    "## <a id=\"t3.2\"></a>3.2. Changing the frequency of time series data"
   ]
  },
  {
   "cell_type": "markdown",
   "id": "bcc991f9-6d61-4806-be56-c16525f41332",
   "metadata": {
    "tags": []
   },
   "source": [
    "### `.asfreq()`\n",
    "It converts the time series to specified frequency. It returns the original data conformed to a new index with the specified frequency."
   ]
  },
  {
   "cell_type": "code",
   "execution_count": 82,
   "id": "905b9cc1-5c44-4de9-98aa-d37b377f1316",
   "metadata": {},
   "outputs": [
    {
     "data": {
      "text/plain": [
       "Open         0\n",
       "High         0\n",
       "Low          0\n",
       "Close        0\n",
       "Adj Close    0\n",
       "Volume       0\n",
       "dtype: int64"
      ]
     },
     "execution_count": 82,
     "metadata": {},
     "output_type": "execute_result"
    }
   ],
   "source": [
    "NVDA.isna().sum()"
   ]
  },
  {
   "cell_type": "markdown",
   "id": "ae688942-0675-4804-88f4-a01499f57553",
   "metadata": {},
   "source": [
    "Here we see an example of upsampling. We increase the frequency changing it to calendar day. A higher frequency with the same data creates missing values."
   ]
  },
  {
   "cell_type": "code",
   "execution_count": 75,
   "id": "8f77f06d-ac50-4372-86d7-3d10c85c6c58",
   "metadata": {},
   "outputs": [
    {
     "data": {
      "text/html": [
       "<div>\n",
       "<style scoped>\n",
       "    .dataframe tbody tr th:only-of-type {\n",
       "        vertical-align: middle;\n",
       "    }\n",
       "\n",
       "    .dataframe tbody tr th {\n",
       "        vertical-align: top;\n",
       "    }\n",
       "\n",
       "    .dataframe thead th {\n",
       "        text-align: right;\n",
       "    }\n",
       "</style>\n",
       "<table border=\"1\" class=\"dataframe\">\n",
       "  <thead>\n",
       "    <tr style=\"text-align: right;\">\n",
       "      <th></th>\n",
       "      <th>Open</th>\n",
       "      <th>High</th>\n",
       "      <th>Low</th>\n",
       "      <th>Close</th>\n",
       "      <th>Adj Close</th>\n",
       "      <th>Volume</th>\n",
       "    </tr>\n",
       "    <tr>\n",
       "      <th>Date</th>\n",
       "      <th></th>\n",
       "      <th></th>\n",
       "      <th></th>\n",
       "      <th></th>\n",
       "      <th></th>\n",
       "      <th></th>\n",
       "    </tr>\n",
       "  </thead>\n",
       "  <tbody>\n",
       "    <tr>\n",
       "      <th>2023-06-23</th>\n",
       "      <td>42.464001</td>\n",
       "      <td>42.808998</td>\n",
       "      <td>42.014999</td>\n",
       "      <td>42.209000</td>\n",
       "      <td>42.196365</td>\n",
       "      <td>358140000.0</td>\n",
       "    </tr>\n",
       "    <tr>\n",
       "      <th>2023-06-24</th>\n",
       "      <td>NaN</td>\n",
       "      <td>NaN</td>\n",
       "      <td>NaN</td>\n",
       "      <td>NaN</td>\n",
       "      <td>NaN</td>\n",
       "      <td>NaN</td>\n",
       "    </tr>\n",
       "    <tr>\n",
       "      <th>2023-06-25</th>\n",
       "      <td>NaN</td>\n",
       "      <td>NaN</td>\n",
       "      <td>NaN</td>\n",
       "      <td>NaN</td>\n",
       "      <td>NaN</td>\n",
       "      <td>NaN</td>\n",
       "    </tr>\n",
       "    <tr>\n",
       "      <th>2023-06-26</th>\n",
       "      <td>42.460999</td>\n",
       "      <td>42.764000</td>\n",
       "      <td>40.099998</td>\n",
       "      <td>40.632000</td>\n",
       "      <td>40.619839</td>\n",
       "      <td>594322000.0</td>\n",
       "    </tr>\n",
       "    <tr>\n",
       "      <th>2023-06-27</th>\n",
       "      <td>40.799000</td>\n",
       "      <td>41.939999</td>\n",
       "      <td>40.448002</td>\n",
       "      <td>41.875999</td>\n",
       "      <td>41.863468</td>\n",
       "      <td>462175000.0</td>\n",
       "    </tr>\n",
       "  </tbody>\n",
       "</table>\n",
       "</div>"
      ],
      "text/plain": [
       "                 Open       High        Low      Close  Adj Close       Volume\n",
       "Date                                                                          \n",
       "2023-06-23  42.464001  42.808998  42.014999  42.209000  42.196365  358140000.0\n",
       "2023-06-24        NaN        NaN        NaN        NaN        NaN          NaN\n",
       "2023-06-25        NaN        NaN        NaN        NaN        NaN          NaN\n",
       "2023-06-26  42.460999  42.764000  40.099998  40.632000  40.619839  594322000.0\n",
       "2023-06-27  40.799000  41.939999  40.448002  41.875999  41.863468  462175000.0"
      ]
     },
     "execution_count": 75,
     "metadata": {},
     "output_type": "execute_result"
    }
   ],
   "source": [
    "NVDA_daily = NVDA.asfreq('D') # Change to calendar day frequency\n",
    "NVDA_daily.head()"
   ]
  },
  {
   "cell_type": "code",
   "execution_count": 76,
   "id": "7888fffe-eb24-42db-af64-8c7bb2813459",
   "metadata": {},
   "outputs": [
    {
     "name": "stdout",
     "output_type": "stream",
     "text": [
      "<class 'pandas.core.frame.DataFrame'>\n",
      "DatetimeIndex: 365 entries, 2023-06-23 to 2024-06-21\n",
      "Freq: D\n",
      "Data columns (total 6 columns):\n",
      " #   Column     Non-Null Count  Dtype  \n",
      "---  ------     --------------  -----  \n",
      " 0   Open       251 non-null    float64\n",
      " 1   High       251 non-null    float64\n",
      " 2   Low        251 non-null    float64\n",
      " 3   Close      251 non-null    float64\n",
      " 4   Adj Close  251 non-null    float64\n",
      " 5   Volume     251 non-null    float64\n",
      "dtypes: float64(6)\n",
      "memory usage: 20.0 KB\n"
     ]
    }
   ],
   "source": [
    "NVDA_daily.info()"
   ]
  },
  {
   "cell_type": "code",
   "execution_count": 83,
   "id": "6ee76df0-c4e0-4be9-917d-56503f2c77dc",
   "metadata": {},
   "outputs": [
    {
     "data": {
      "text/plain": [
       "Open         114\n",
       "High         114\n",
       "Low          114\n",
       "Close        114\n",
       "Adj Close    114\n",
       "Volume       114\n",
       "dtype: int64"
      ]
     },
     "execution_count": 83,
     "metadata": {},
     "output_type": "execute_result"
    }
   ],
   "source": [
    "NVDA_daily.isna().sum()"
   ]
  },
  {
   "cell_type": "markdown",
   "id": "e64066c2-667e-4aa1-9888-17dada5db41f",
   "metadata": {},
   "source": [
    "Now we do the opposite, downsampling our data from calendar to business frequency"
   ]
  },
  {
   "cell_type": "code",
   "execution_count": 89,
   "id": "29b8323e-7a4f-4587-beef-da83daef01ad",
   "metadata": {},
   "outputs": [
    {
     "data": {
      "text/plain": [
       "<AxesSubplot:xlabel='Date'>"
      ]
     },
     "execution_count": 89,
     "metadata": {},
     "output_type": "execute_result"
    },
    {
     "data": {
      "image/png": "[encoded data removed]",
      "text/plain": [
       "<Figure size 640x480 with 1 Axes>"
      ]
     },
     "metadata": {},
     "output_type": "display_data"
    }
   ],
   "source": [
    "NVDA_daily.Open.plot() # We observe multiple missing data points"
   ]
  },
  {
   "cell_type": "code",
   "execution_count": 86,
   "id": "c1c826d1-8ae6-466b-8ed1-9bd801a1ac1f",
   "metadata": {},
   "outputs": [
    {
     "data": {
      "text/html": [
       "<div>\n",
       "<style scoped>\n",
       "    .dataframe tbody tr th:only-of-type {\n",
       "        vertical-align: middle;\n",
       "    }\n",
       "\n",
       "    .dataframe tbody tr th {\n",
       "        vertical-align: top;\n",
       "    }\n",
       "\n",
       "    .dataframe thead th {\n",
       "        text-align: right;\n",
       "    }\n",
       "</style>\n",
       "<table border=\"1\" class=\"dataframe\">\n",
       "  <thead>\n",
       "    <tr style=\"text-align: right;\">\n",
       "      <th></th>\n",
       "      <th>Open</th>\n",
       "      <th>High</th>\n",
       "      <th>Low</th>\n",
       "      <th>Close</th>\n",
       "      <th>Adj Close</th>\n",
       "      <th>Volume</th>\n",
       "    </tr>\n",
       "    <tr>\n",
       "      <th>Date</th>\n",
       "      <th></th>\n",
       "      <th></th>\n",
       "      <th></th>\n",
       "      <th></th>\n",
       "      <th></th>\n",
       "      <th></th>\n",
       "    </tr>\n",
       "  </thead>\n",
       "  <tbody>\n",
       "    <tr>\n",
       "      <th>2023-06-23</th>\n",
       "      <td>42.464001</td>\n",
       "      <td>42.808998</td>\n",
       "      <td>42.014999</td>\n",
       "      <td>42.209000</td>\n",
       "      <td>42.196365</td>\n",
       "      <td>358140000.0</td>\n",
       "    </tr>\n",
       "    <tr>\n",
       "      <th>2023-06-26</th>\n",
       "      <td>42.460999</td>\n",
       "      <td>42.764000</td>\n",
       "      <td>40.099998</td>\n",
       "      <td>40.632000</td>\n",
       "      <td>40.619839</td>\n",
       "      <td>594322000.0</td>\n",
       "    </tr>\n",
       "    <tr>\n",
       "      <th>2023-06-27</th>\n",
       "      <td>40.799000</td>\n",
       "      <td>41.939999</td>\n",
       "      <td>40.448002</td>\n",
       "      <td>41.875999</td>\n",
       "      <td>41.863468</td>\n",
       "      <td>462175000.0</td>\n",
       "    </tr>\n",
       "    <tr>\n",
       "      <th>2023-06-28</th>\n",
       "      <td>40.660000</td>\n",
       "      <td>41.845001</td>\n",
       "      <td>40.518002</td>\n",
       "      <td>41.117001</td>\n",
       "      <td>41.104691</td>\n",
       "      <td>582639000.0</td>\n",
       "    </tr>\n",
       "    <tr>\n",
       "      <th>2023-06-29</th>\n",
       "      <td>41.557999</td>\n",
       "      <td>41.599998</td>\n",
       "      <td>40.599998</td>\n",
       "      <td>40.821999</td>\n",
       "      <td>40.809776</td>\n",
       "      <td>380514000.0</td>\n",
       "    </tr>\n",
       "  </tbody>\n",
       "</table>\n",
       "</div>"
      ],
      "text/plain": [
       "                 Open       High        Low      Close  Adj Close       Volume\n",
       "Date                                                                          \n",
       "2023-06-23  42.464001  42.808998  42.014999  42.209000  42.196365  358140000.0\n",
       "2023-06-26  42.460999  42.764000  40.099998  40.632000  40.619839  594322000.0\n",
       "2023-06-27  40.799000  41.939999  40.448002  41.875999  41.863468  462175000.0\n",
       "2023-06-28  40.660000  41.845001  40.518002  41.117001  41.104691  582639000.0\n",
       "2023-06-29  41.557999  41.599998  40.599998  40.821999  40.809776  380514000.0"
      ]
     },
     "execution_count": 86,
     "metadata": {},
     "output_type": "execute_result"
    }
   ],
   "source": [
    "NVDA_business = NVDA_daily.asfreq('B') # Back to business frequency\n",
    "NVDA_business.head()"
   ]
  },
  {
   "cell_type": "code",
   "execution_count": 90,
   "id": "532c4efe-1ab4-4499-b048-38fc1701ba70",
   "metadata": {},
   "outputs": [
    {
     "data": {
      "text/plain": [
       "Open         10\n",
       "High         10\n",
       "Low          10\n",
       "Close        10\n",
       "Adj Close    10\n",
       "Volume       10\n",
       "dtype: int64"
      ]
     },
     "execution_count": 90,
     "metadata": {},
     "output_type": "execute_result"
    }
   ],
   "source": [
    "NVDA_business.isna().sum()"
   ]
  },
  {
   "cell_type": "code",
   "execution_count": 92,
   "id": "9a11aedd-f2e2-42c1-8824-b12e5cfbc361",
   "metadata": {},
   "outputs": [
    {
     "data": {
      "text/plain": [
       "<AxesSubplot:xlabel='Date'>"
      ]
     },
     "execution_count": 92,
     "metadata": {},
     "output_type": "execute_result"
    },
    {
     "data": {
      "image/png": "[encoded data removed]",
      "text/plain": [
       "<Figure size 640x480 with 1 Axes>"
      ]
     },
     "metadata": {},
     "output_type": "display_data"
    }
   ],
   "source": [
    "NVDA_business.Open.plot() # Converting twice the dataframe we have created missing points"
   ]
  },
  {
   "cell_type": "code",
   "execution_count": 93,
   "id": "f711dc6f-9bb8-4362-9743-d319a3e312d3",
   "metadata": {},
   "outputs": [
    {
     "data": {
      "text/plain": [
       "<AxesSubplot:xlabel='Date'>"
      ]
     },
     "execution_count": 93,
     "metadata": {},
     "output_type": "execute_result"
    },
    {
     "data": {
      "image/png": "[encoded data removed]",
      "text/plain": [
       "<Figure size 640x480 with 1 Axes>"
      ]
     },
     "metadata": {},
     "output_type": "display_data"
    }
   ],
   "source": [
    "NVDA.Open.plot() # Compare it with the original dataframe"
   ]
  },
  {
   "cell_type": "code",
   "execution_count": 178,
   "id": "1a2c8d77-e90e-41ab-8091-562fa0e0bd09",
   "metadata": {},
   "outputs": [],
   "source": [
    "date = pd.date_range(start=\"2021\", periods=4, freq=\"Q\")\n",
    "data = range(1, 5)"
   ]
  },
  {
   "cell_type": "code",
   "execution_count": 179,
   "id": "da3e611d-6ccf-46bd-bd0d-16a34c297b7b",
   "metadata": {},
   "outputs": [
    {
     "data": {
      "text/plain": [
       "2021-03-31    1\n",
       "2021-06-30    2\n",
       "2021-09-30    3\n",
       "2021-12-31    4\n",
       "Freq: Q-DEC, dtype: int64"
      ]
     },
     "execution_count": 179,
     "metadata": {},
     "output_type": "execute_result"
    }
   ],
   "source": [
    "quaterly_data = pd.Series(data=data, index=date)\n",
    "quaterly_data"
   ]
  },
  {
   "cell_type": "code",
   "execution_count": 193,
   "id": "0e5d2cac-661e-4700-b378-3950b28bb71f",
   "metadata": {},
   "outputs": [
    {
     "data": {
      "text/plain": [
       "2021-03-31    1.0\n",
       "2021-04-30    NaN\n",
       "2021-05-31    NaN\n",
       "2021-06-30    2.0\n",
       "2021-07-31    NaN\n",
       "2021-08-31    NaN\n",
       "2021-09-30    3.0\n",
       "2021-10-31    NaN\n",
       "2021-11-30    NaN\n",
       "2021-12-31    4.0\n",
       "Freq: M, dtype: float64"
      ]
     },
     "execution_count": 193,
     "metadata": {},
     "output_type": "execute_result"
    }
   ],
   "source": [
    "# Upsampling, from quarter to month\n",
    "monthly_data = quaterly_data.asfreq(\"M\")\n",
    "monthly_data"
   ]
  },
  {
   "cell_type": "code",
   "execution_count": 194,
   "id": "4d2eca49-235b-4dee-91f2-19d40924331e",
   "metadata": {},
   "outputs": [],
   "source": [
    "monthly_data = monthly_data.to_frame(\"base\")"
   ]
  },
  {
   "cell_type": "code",
   "execution_count": 198,
   "id": "874b978d-5580-4641-9299-06e04aa7ddb5",
   "metadata": {},
   "outputs": [
    {
     "data": {
      "text/html": [
       "<div>\n",
       "<style scoped>\n",
       "    .dataframe tbody tr th:only-of-type {\n",
       "        vertical-align: middle;\n",
       "    }\n",
       "\n",
       "    .dataframe tbody tr th {\n",
       "        vertical-align: top;\n",
       "    }\n",
       "\n",
       "    .dataframe thead th {\n",
       "        text-align: right;\n",
       "    }\n",
       "</style>\n",
       "<table border=\"1\" class=\"dataframe\">\n",
       "  <thead>\n",
       "    <tr style=\"text-align: right;\">\n",
       "      <th></th>\n",
       "      <th>base</th>\n",
       "      <th>ffill</th>\n",
       "      <th>bfill</th>\n",
       "      <th>fill_value</th>\n",
       "    </tr>\n",
       "  </thead>\n",
       "  <tbody>\n",
       "    <tr>\n",
       "      <th>2021-03-31</th>\n",
       "      <td>1.0</td>\n",
       "      <td>1</td>\n",
       "      <td>1</td>\n",
       "      <td>1</td>\n",
       "    </tr>\n",
       "    <tr>\n",
       "      <th>2021-04-30</th>\n",
       "      <td>NaN</td>\n",
       "      <td>1</td>\n",
       "      <td>2</td>\n",
       "      <td>0</td>\n",
       "    </tr>\n",
       "    <tr>\n",
       "      <th>2021-05-31</th>\n",
       "      <td>NaN</td>\n",
       "      <td>1</td>\n",
       "      <td>2</td>\n",
       "      <td>0</td>\n",
       "    </tr>\n",
       "    <tr>\n",
       "      <th>2021-06-30</th>\n",
       "      <td>2.0</td>\n",
       "      <td>2</td>\n",
       "      <td>2</td>\n",
       "      <td>2</td>\n",
       "    </tr>\n",
       "    <tr>\n",
       "      <th>2021-07-31</th>\n",
       "      <td>NaN</td>\n",
       "      <td>2</td>\n",
       "      <td>3</td>\n",
       "      <td>0</td>\n",
       "    </tr>\n",
       "    <tr>\n",
       "      <th>2021-08-31</th>\n",
       "      <td>NaN</td>\n",
       "      <td>2</td>\n",
       "      <td>3</td>\n",
       "      <td>0</td>\n",
       "    </tr>\n",
       "    <tr>\n",
       "      <th>2021-09-30</th>\n",
       "      <td>3.0</td>\n",
       "      <td>3</td>\n",
       "      <td>3</td>\n",
       "      <td>3</td>\n",
       "    </tr>\n",
       "    <tr>\n",
       "      <th>2021-10-31</th>\n",
       "      <td>NaN</td>\n",
       "      <td>3</td>\n",
       "      <td>4</td>\n",
       "      <td>0</td>\n",
       "    </tr>\n",
       "    <tr>\n",
       "      <th>2021-11-30</th>\n",
       "      <td>NaN</td>\n",
       "      <td>3</td>\n",
       "      <td>4</td>\n",
       "      <td>0</td>\n",
       "    </tr>\n",
       "    <tr>\n",
       "      <th>2021-12-31</th>\n",
       "      <td>4.0</td>\n",
       "      <td>4</td>\n",
       "      <td>4</td>\n",
       "      <td>4</td>\n",
       "    </tr>\n",
       "  </tbody>\n",
       "</table>\n",
       "</div>"
      ],
      "text/plain": [
       "            base  ffill  bfill  fill_value\n",
       "2021-03-31   1.0      1      1           1\n",
       "2021-04-30   NaN      1      2           0\n",
       "2021-05-31   NaN      1      2           0\n",
       "2021-06-30   2.0      2      2           2\n",
       "2021-07-31   NaN      2      3           0\n",
       "2021-08-31   NaN      2      3           0\n",
       "2021-09-30   3.0      3      3           3\n",
       "2021-10-31   NaN      3      4           0\n",
       "2021-11-30   NaN      3      4           0\n",
       "2021-12-31   4.0      4      4           4"
      ]
     },
     "execution_count": 198,
     "metadata": {},
     "output_type": "execute_result"
    }
   ],
   "source": [
    "monthly_data[\"ffill\"] = quaterly_data.asfreq(\"M\", method = \"ffill\")\n",
    "monthly_data[\"bfill\"] = quaterly_data.asfreq(\"M\", method = \"bfill\")\n",
    "monthly_data[\"fill_value\"] = quaterly_data.asfreq(\"M\", fill_value = 0)\n",
    "monthly_data"
   ]
  },
  {
   "cell_type": "markdown",
   "id": "bcd4f74c-6787-470b-bf5a-20aacdb43234",
   "metadata": {
    "tags": []
   },
   "source": [
    "### `.reindex()`\n",
    "The `.reindex()` function in pandas is used to conform a DataFrame or Series to a new index, optionally filling in missing values if any indices are not present in the original data"
   ]
  },
  {
   "cell_type": "code",
   "execution_count": 200,
   "id": "e71d158f-817a-4746-94ab-ce8e0704b287",
   "metadata": {},
   "outputs": [
    {
     "data": {
      "text/plain": [
       "2021-03-31    1\n",
       "2021-06-30    2\n",
       "2021-09-30    3\n",
       "2021-12-31    4\n",
       "Freq: Q-DEC, dtype: int64"
      ]
     },
     "execution_count": 200,
     "metadata": {},
     "output_type": "execute_result"
    }
   ],
   "source": [
    "quaterly_data.reindex(date)"
   ]
  },
  {
   "cell_type": "code",
   "execution_count": null,
   "id": "38528954-cf54-4904-b9b3-41e899f54d07",
   "metadata": {},
   "outputs": [],
   "source": []
  },
  {
   "cell_type": "markdown",
   "id": "851767db",
   "metadata": {
    "jp-MarkdownHeadingCollapsed": true,
    "tags": []
   },
   "source": [
    "## <a id='3.2.'> 3.2. Graficar datos agregados por año </a>"
   ]
  },
  {
   "cell_type": "markdown",
   "id": "38dcaad5-8d47-4397-82d4-5086168a8724",
   "metadata": {},
   "source": [
    "En ocasiones, vamos a querer agregar los datos de una serie temporal en subconjuntos más pequeños para obtener información más detallada o identificar patrones estacionales.\n",
    "Después de agrupar los datos mensuales y calcular el promedio de CO2 para cada mes, generamos un gráfico que muestra claramente la tendencia estacional en los niveles de CO2 a lo largo del año."
   ]
  },
  {
   "cell_type": "code",
   "execution_count": 174,
   "id": "b21b0d6b",
   "metadata": {
    "tags": []
   },
   "outputs": [
    {
     "data": {
      "text/plain": [
       "Index([ 3,  4,  4,  4,  4,  5,  5,  5,  5,  5,\n",
       "       ...\n",
       "       10, 11, 11, 11, 11, 12, 12, 12, 12, 12],\n",
       "      dtype='int32', name='datestamp', length=2284)"
      ]
     },
     "execution_count": 174,
     "metadata": {},
     "output_type": "execute_result"
    }
   ],
   "source": [
    "# Obtenemos el índice de los meses del año\n",
    "index_month = co2_levels.index.month \n",
    "index_month "
   ]
  },
  {
   "cell_type": "code",
   "execution_count": 175,
   "id": "84e74cd5",
   "metadata": {
    "tags": []
   },
   "outputs": [
    {
     "data": {
      "image/png": "[encoded data removed]",
      "text/plain": [
       "<Figure size 640x480 with 1 Axes>"
      ]
     },
     "metadata": {},
     "output_type": "display_data"
    }
   ],
   "source": [
    "# Agrupamos por meses, obtenemos la media y lo graficamos\n",
    "co2_levels_by_month = co2_levels.groupby(index_month).mean() \n",
    "\n",
    "co2_levels_by_month.plot()\n",
    "\n",
    "plt.title('Niveles promedio de CO2 por meses')\n",
    "\n",
    "plt.ylabel('Niveles de CO2')\n",
    "\n",
    "plt.xlabel('Meses del año')\n",
    "\n",
    "plt.show()\n",
    "\n",
    "# Obtenemos un gráfico similar al de 1980, pero suavizado "
   ]
  },
  {
   "cell_type": "code",
   "execution_count": 176,
   "id": "48e1f348",
   "metadata": {
    "tags": []
   },
   "outputs": [
    {
     "data": {
      "image/png": "[encoded data removed]",
      "text/plain": [
       "<Figure size 640x480 with 1 Axes>"
      ]
     },
     "metadata": {},
     "output_type": "display_data"
    }
   ],
   "source": [
    "co2_levels_by_month = co2_levels.groupby(index_month).mean() \n",
    "\n",
    "plt.style.use('classic')\n",
    "\n",
    "co2_levels_by_month.plot(figsize = (8, 6))\n",
    "\n",
    "plt.title('Niveles promedio de CO2 por meses', fontsize = 16)\n",
    "\n",
    "plt.ylabel('Niveles de CO2')\n",
    "\n",
    "plt.xlabel('Meses del año')\n",
    "\n",
    "plt.axvline(x = 5, linestyle = '--', color = 'red')\n",
    "\n",
    "plt.annotate('Octubre: menor emisión de carbono', xy=(10, 336.7),\n",
    "             xytext=(6, 338.6833), fontsize=12,\n",
    "             color='black', arrowprops=dict(arrowstyle='->', color='green'))\n",
    "\n",
    "plt.annotate('Mayo: mayor emisión de carbono', xy=(5, 342.2),\n",
    "             xytext=(1, 340), fontsize=12,\n",
    "             color='black', arrowprops=dict(arrowstyle='->', color='red'))\n",
    "\n",
    "plt.axhline(y = 336.7, linestyle = '--',  color = 'green')\n",
    "\n",
    "plt.show()"
   ]
  },
  {
   "cell_type": "markdown",
   "id": "3a7243c6-2ba9-4e80-9066-58452d86a7b4",
   "metadata": {
    "tags": []
   },
   "source": [
    "#  <a id='t4'> 4. Graficar estadísticas y sintetizar la información </a>\n",
    "Si bien graficar y realizar anotaciones a los datos de series de tiempo es útil para compartir información, también es fundamental que recopile estadísticas de la serie de tiempo con la que estamos trabajando. Así podremos compartir y discutir las propiedades estadísticas de sus datos, lo cual puede apoyar a los gráficos que generemos y a las hipótesis que deseeamos comunicar.\n",
    "\n",
    "Podemos usar df.describe() para obtener las principales estadísticas descriptivas"
   ]
  },
  {
   "cell_type": "code",
   "execution_count": 177,
   "id": "20e9c785-1510-46a2-afba-6b5ad6f18a00",
   "metadata": {
    "tags": []
   },
   "outputs": [
    {
     "data": {
      "text/html": [
       "<div>\n",
       "<style scoped>\n",
       "    .dataframe tbody tr th:only-of-type {\n",
       "        vertical-align: middle;\n",
       "    }\n",
       "\n",
       "    .dataframe tbody tr th {\n",
       "        vertical-align: top;\n",
       "    }\n",
       "\n",
       "    .dataframe thead th {\n",
       "        text-align: right;\n",
       "    }\n",
       "</style>\n",
       "<table border=\"1\" class=\"dataframe\">\n",
       "  <thead>\n",
       "    <tr style=\"text-align: right;\">\n",
       "      <th></th>\n",
       "      <th>co2</th>\n",
       "    </tr>\n",
       "  </thead>\n",
       "  <tbody>\n",
       "    <tr>\n",
       "      <th>count</th>\n",
       "      <td>2225.000000</td>\n",
       "    </tr>\n",
       "    <tr>\n",
       "      <th>mean</th>\n",
       "      <td>340.142247</td>\n",
       "    </tr>\n",
       "    <tr>\n",
       "      <th>std</th>\n",
       "      <td>17.003885</td>\n",
       "    </tr>\n",
       "    <tr>\n",
       "      <th>min</th>\n",
       "      <td>313.000000</td>\n",
       "    </tr>\n",
       "    <tr>\n",
       "      <th>25%</th>\n",
       "      <td>324.800000</td>\n",
       "    </tr>\n",
       "    <tr>\n",
       "      <th>50%</th>\n",
       "      <td>338.300000</td>\n",
       "    </tr>\n",
       "    <tr>\n",
       "      <th>75%</th>\n",
       "      <td>354.800000</td>\n",
       "    </tr>\n",
       "    <tr>\n",
       "      <th>max</th>\n",
       "      <td>373.900000</td>\n",
       "    </tr>\n",
       "  </tbody>\n",
       "</table>\n",
       "</div>"
      ],
      "text/plain": [
       "               co2\n",
       "count  2225.000000\n",
       "mean    340.142247\n",
       "std      17.003885\n",
       "min     313.000000\n",
       "25%     324.800000\n",
       "50%     338.300000\n",
       "75%     354.800000\n",
       "max     373.900000"
      ]
     },
     "execution_count": 177,
     "metadata": {},
     "output_type": "execute_result"
    }
   ],
   "source": [
    "co_2.describe() # Principales estadísticas del dataframe"
   ]
  },
  {
   "cell_type": "code",
   "execution_count": 178,
   "id": "1c4cd146-43a0-41ce-8c90-1e22abc4b5a0",
   "metadata": {
    "tags": []
   },
   "outputs": [
    {
     "data": {
      "text/html": [
       "<div>\n",
       "<style scoped>\n",
       "    .dataframe tbody tr th:only-of-type {\n",
       "        vertical-align: middle;\n",
       "    }\n",
       "\n",
       "    .dataframe tbody tr th {\n",
       "        vertical-align: top;\n",
       "    }\n",
       "\n",
       "    .dataframe thead th {\n",
       "        text-align: right;\n",
       "    }\n",
       "</style>\n",
       "<table border=\"1\" class=\"dataframe\">\n",
       "  <thead>\n",
       "    <tr style=\"text-align: right;\">\n",
       "      <th></th>\n",
       "      <th>co2</th>\n",
       "    </tr>\n",
       "  </thead>\n",
       "  <tbody>\n",
       "    <tr>\n",
       "      <th>count</th>\n",
       "      <td>2284.000000</td>\n",
       "    </tr>\n",
       "    <tr>\n",
       "      <th>mean</th>\n",
       "      <td>339.657750</td>\n",
       "    </tr>\n",
       "    <tr>\n",
       "      <th>std</th>\n",
       "      <td>17.100899</td>\n",
       "    </tr>\n",
       "    <tr>\n",
       "      <th>min</th>\n",
       "      <td>313.000000</td>\n",
       "    </tr>\n",
       "    <tr>\n",
       "      <th>25%</th>\n",
       "      <td>323.975000</td>\n",
       "    </tr>\n",
       "    <tr>\n",
       "      <th>50%</th>\n",
       "      <td>337.700000</td>\n",
       "    </tr>\n",
       "    <tr>\n",
       "      <th>75%</th>\n",
       "      <td>354.500000</td>\n",
       "    </tr>\n",
       "    <tr>\n",
       "      <th>max</th>\n",
       "      <td>373.900000</td>\n",
       "    </tr>\n",
       "  </tbody>\n",
       "</table>\n",
       "</div>"
      ],
      "text/plain": [
       "               co2\n",
       "count  2284.000000\n",
       "mean    339.657750\n",
       "std      17.100899\n",
       "min     313.000000\n",
       "25%     323.975000\n",
       "50%     337.700000\n",
       "75%     354.500000\n",
       "max     373.900000"
      ]
     },
     "execution_count": 178,
     "metadata": {},
     "output_type": "execute_result"
    }
   ],
   "source": [
    "co2_levels.describe()"
   ]
  },
  {
   "cell_type": "code",
   "execution_count": 179,
   "id": "09245019-30f0-4142-906d-cfd89604b38e",
   "metadata": {
    "tags": []
   },
   "outputs": [
    {
     "data": {
      "text/html": [
       "<div>\n",
       "<style scoped>\n",
       "    .dataframe tbody tr th:only-of-type {\n",
       "        vertical-align: middle;\n",
       "    }\n",
       "\n",
       "    .dataframe tbody tr th {\n",
       "        vertical-align: top;\n",
       "    }\n",
       "\n",
       "    .dataframe thead th {\n",
       "        text-align: right;\n",
       "    }\n",
       "</style>\n",
       "<table border=\"1\" class=\"dataframe\">\n",
       "  <thead>\n",
       "    <tr style=\"text-align: right;\">\n",
       "      <th></th>\n",
       "      <th>Y</th>\n",
       "    </tr>\n",
       "  </thead>\n",
       "  <tbody>\n",
       "    <tr>\n",
       "      <th>count</th>\n",
       "      <td>100.000000</td>\n",
       "    </tr>\n",
       "    <tr>\n",
       "      <th>mean</th>\n",
       "      <td>3.100000</td>\n",
       "    </tr>\n",
       "    <tr>\n",
       "      <th>std</th>\n",
       "      <td>2.254065</td>\n",
       "    </tr>\n",
       "    <tr>\n",
       "      <th>min</th>\n",
       "      <td>0.000000</td>\n",
       "    </tr>\n",
       "    <tr>\n",
       "      <th>25%</th>\n",
       "      <td>2.000000</td>\n",
       "    </tr>\n",
       "    <tr>\n",
       "      <th>50%</th>\n",
       "      <td>3.000000</td>\n",
       "    </tr>\n",
       "    <tr>\n",
       "      <th>75%</th>\n",
       "      <td>4.000000</td>\n",
       "    </tr>\n",
       "    <tr>\n",
       "      <th>max</th>\n",
       "      <td>12.000000</td>\n",
       "    </tr>\n",
       "  </tbody>\n",
       "</table>\n",
       "</div>"
      ],
      "text/plain": [
       "                Y\n",
       "count  100.000000\n",
       "mean     3.100000\n",
       "std      2.254065\n",
       "min      0.000000\n",
       "25%      2.000000\n",
       "50%      3.000000\n",
       "75%      4.000000\n",
       "max     12.000000"
      ]
     },
     "execution_count": 179,
     "metadata": {},
     "output_type": "execute_result"
    }
   ],
   "source": [
    "discoveries.describe()"
   ]
  },
  {
   "cell_type": "code",
   "execution_count": 72,
   "id": "c1558627-8462-48de-bdd6-7d12558a3953",
   "metadata": {
    "tags": []
   },
   "outputs": [
    {
     "name": "stdout",
     "output_type": "stream",
     "text": [
      "               co2\n",
      "count  2284.000000\n",
      "mean    339.657750\n",
      "std      17.100899\n",
      "min     313.000000\n",
      "25%     323.975000\n",
      "50%     337.700000\n",
      "75%     354.500000\n",
      "max     373.900000\n"
     ]
    }
   ],
   "source": [
    "# Imprimimos las principales estadísticas de co2_levels\n",
    "print(co2_levels.describe())"
   ]
  },
  {
   "cell_type": "code",
   "execution_count": 180,
   "id": "ade794eb-a624-4675-8980-984f6577be4e",
   "metadata": {
    "tags": []
   },
   "outputs": [
    {
     "data": {
      "text/plain": [
       "co2    339.65775\n",
       "dtype: float64"
      ]
     },
     "execution_count": 180,
     "metadata": {},
     "output_type": "execute_result"
    }
   ],
   "source": [
    "co2_levels.mean()"
   ]
  },
  {
   "cell_type": "code",
   "execution_count": 181,
   "id": "bd1712ed-f1ac-4731-8b16-a6d6cacfb789",
   "metadata": {
    "tags": []
   },
   "outputs": [
    {
     "data": {
      "text/plain": [
       "co2    17.100899\n",
       "dtype: float64"
      ]
     },
     "execution_count": 181,
     "metadata": {},
     "output_type": "execute_result"
    }
   ],
   "source": [
    "co2_levels.std()"
   ]
  },
  {
   "cell_type": "code",
   "execution_count": 73,
   "id": "f44ab352-d36c-4c06-bf93-df70fd732f87",
   "metadata": {
    "tags": []
   },
   "outputs": [
    {
     "name": "stdout",
     "output_type": "stream",
     "text": [
      "co2    313.0\n",
      "dtype: float64\n"
     ]
    }
   ],
   "source": [
    "# Imprimimos los mínimos de la columna co2 en el DataFrame co2_levels\n",
    "print(co2_levels.min())"
   ]
  },
  {
   "cell_type": "code",
   "execution_count": 74,
   "id": "377b3646-45ca-4df2-910e-e6dfb8047490",
   "metadata": {
    "tags": []
   },
   "outputs": [
    {
     "name": "stdout",
     "output_type": "stream",
     "text": [
      "co2    373.9\n",
      "dtype: float64\n"
     ]
    }
   ],
   "source": [
    "# Imprimimos los máximos de la columna co2 en el DataFrame co2_levels\n",
    "print(co2_levels.max())"
   ]
  },
  {
   "cell_type": "markdown",
   "id": "61474b51-a7fe-407e-89b1-481ecb5e4daf",
   "metadata": {
    "tags": []
   },
   "source": [
    "## <a id='4.1.'> 4.1. Graficar boxplots (gráficos de caja) </a>\n",
    "Los boxplots muestran la mediana, los cuartiles y la variabilidad de los datos, lo que facilita la identificación de tendencias centrales y valores atípicos en una distribución. Estos gráficos son particularmente útiles para comparar múltiples distribuciones de datos o identificar patrones y diferencias en un solo vistazo."
   ]
  },
  {
   "cell_type": "code",
   "execution_count": 185,
   "id": "e7f7aa5a-7abb-40ba-a6c4-9ea9a4b824e5",
   "metadata": {
    "tags": []
   },
   "outputs": [
    {
     "data": {
      "image/png": "[encoded data removed]",
      "text/plain": [
       "<Figure size 640x480 with 1 Axes>"
      ]
     },
     "metadata": {},
     "output_type": "display_data"
    }
   ],
   "source": [
    "plt.style.use('classic')\n",
    "\n",
    "# Generamos el boxplot\n",
    "ax = co2_levels.boxplot()\n",
    "\n",
    "ax.set_xlabel('CO2', fontsize=10)\n",
    "ax.set_ylabel('Valores del CO2 en Hawaii', fontsize=10)\n",
    "ax.set_title('Boxplot del nivel de CO2 en Hawaii')\n",
    "plt.show()"
   ]
  },
  {
   "cell_type": "markdown",
   "id": "d30e06ee-59e5-4395-ae77-79d3eeeea25b",
   "metadata": {},
   "source": [
    "El boxplot está destacando características clave como la mediana, los cuartiles y los valores atípicos. Las líneas que se extienden en paralelo desde las cajas se denominan comúnmente \"bigotes\" o \"whiskers\" en inglés, y se utilizan para indicar la variabilidad fuera de los cuartiles superior (que es el percentil del 75%) e inferior (que es el percentil del 25%), es decir, los valores atípicos."
   ]
  },
  {
   "cell_type": "code",
   "execution_count": 191,
   "id": "c8e06965-00d8-4b3a-8c7c-f27575579198",
   "metadata": {
    "tags": []
   },
   "outputs": [
    {
     "data": {
      "text/plain": [
       "Text(0.5, 1.0, 'Boxplot del nivel de CO2 en Hawaii')"
      ]
     },
     "execution_count": 191,
     "metadata": {},
     "output_type": "execute_result"
    },
    {
     "data": {
      "image/png": "[encoded data removed]",
      "text/plain": [
       "<Figure size 640x480 with 1 Axes>"
      ]
     },
     "metadata": {},
     "output_type": "display_data"
    }
   ],
   "source": [
    "# También se puede realizar utilizando seaborn\n",
    "plt.figure(figsize=(8, 6))\n",
    "\n",
    "sns.boxplot(co2_levels, width=0.4)\n",
    "\n",
    "plt.xlabel('CO2', fontsize=10)\n",
    "\n",
    "plt.ylabel('Valores del CO2 en Hawaii', fontsize=10)\n",
    "\n",
    "plt.title('Boxplot del nivel de CO2 en Hawaii')\n"
   ]
  },
  {
   "cell_type": "markdown",
   "id": "a7033c6b-a837-400c-a94e-485b4c0f79c6",
   "metadata": {},
   "source": [
    "## <a id='4.2.'> 4.2. Graficar histogramas </a>\n",
    "\n",
    "Los histogramas son una representación visual efectiva de la distribución de datos en un conjunto, permitiendo identificar rápidamente la concentración de valores en diferentes intervalos o \"bins\". Al mostrar la frecuencia con la que ocurren los valores en cada bin, los histogramas destacan la tendencia central de los datos y la forma general de su distribución, ya sea simétrica, sesgada o multimodal. \n"
   ]
  },
  {
   "cell_type": "code",
   "execution_count": 196,
   "id": "38157755-7e7f-4242-aaaf-5901e64e85d0",
   "metadata": {
    "tags": []
   },
   "outputs": [
    {
     "data": {
      "image/png": "[encoded data removed]",
      "text/plain": [
       "<Figure size 640x480 with 1 Axes>"
      ]
     },
     "metadata": {},
     "output_type": "display_data"
    }
   ],
   "source": [
    "# Generamos un histograma\n",
    "ax = co2_levels.plot(kind='hist', bins = 50, fontsize=6)\n",
    "\n",
    "ax.set_xlabel('CO2', fontsize=10)\n",
    "ax.set_ylabel('Histograma de los niveles de CO2 en Maui Hawaii', fontsize=10)\n",
    "plt.legend(fontsize=10)\n",
    "plt.show()"
   ]
  },
  {
   "cell_type": "code",
   "execution_count": 197,
   "id": "353cb603-19b8-46e8-8d1e-c19de4549daa",
   "metadata": {
    "tags": []
   },
   "outputs": [
    {
     "data": {
      "image/png": "[encoded data removed]",
      "text/plain": [
       "<Figure size 640x480 with 1 Axes>"
      ]
     },
     "metadata": {},
     "output_type": "display_data"
    }
   ],
   "source": [
    "ax = co2_levels.plot(kind='hist', bins = 115, fontsize=6)\n",
    "\n",
    "ax.set_xlabel('CO2', fontsize=10)\n",
    "ax.set_ylabel('Histograma de los niveles de CO2 en Maui Hawaii', fontsize=10)\n",
    "plt.legend(fontsize=10)\n",
    "plt.show()"
   ]
  },
  {
   "cell_type": "markdown",
   "id": "e038bc2a-b9b4-43df-ac21-d7f14f693fb9",
   "metadata": {},
   "source": [
    "## <a id='4.3.'> 4.3. Crear gráficos de densidad </a>\n",
    "Los gráficos de densidad ofrecen una perspectiva detallada de la distribución de datos al visualizar la concentración de valores a lo largo de una variable continua. Nos permiten observar las tendencias centrales y las formas de distribución con mayor suavidad y precisión que los histogramas. \n",
    "Al presentar la densidad de probabilidad de los datos, los gráficos de densidad resaltan la presencia de múltiples modas o picos, la simetría o asimetría en la distribución, y las áreas de alta concentración de datos. "
   ]
  },
  {
   "cell_type": "code",
   "execution_count": 198,
   "id": "b3d6ffed-3553-461e-b412-342e11f329c1",
   "metadata": {
    "tags": []
   },
   "outputs": [
    {
     "data": {
      "image/png": "[encoded data removed]",
      "text/plain": [
       "<Figure size 640x480 with 1 Axes>"
      ]
     },
     "metadata": {},
     "output_type": "display_data"
    }
   ],
   "source": [
    "ax = co2_levels.plot(kind='density', linewidth = 1, fontsize = 6)\n",
    "\n",
    "ax.set_xlabel('CO2')\n",
    "\n",
    "ax.set_ylabel('Gráfico de distribución para los niveles de CO2')\n",
    "\n",
    "plt.show()"
   ]
  },
  {
   "cell_type": "code",
   "execution_count": null,
   "id": "d9175504-b41c-4bac-8c5f-b5eba2789ce3",
   "metadata": {
    "tags": []
   },
   "outputs": [],
   "source": []
  }
 ],
 "metadata": {
  "kernelspec": {
   "display_name": "Python 3 (ipykernel)",
   "language": "python",
   "name": "python3"
  },
  "language_info": {
   "codemirror_mode": {
    "name": "ipython",
    "version": 3
   },
   "file_extension": ".py",
   "mimetype": "text/x-python",
   "name": "python",
   "nbconvert_exporter": "python",
   "pygments_lexer": "ipython3",
   "version": "3.9.13"
  }
 },
 "nbformat": 4,
 "nbformat_minor": 5
}
