{
 "cells": [
  {
   "cell_type": "code",
   "execution_count": 2,
   "id": "52937c3c",
   "metadata": {},
   "outputs": [],
   "source": [
    "import warnings\n",
    "warnings.filterwarnings(\"ignore\")\n",
    "\n",
    "import numpy as np\n",
    "import pandas as pd\n",
    "import matplotlib.pyplot as plt\n",
    "import requests\n",
    "from scipy import stats\n",
    "from pandas_datareader import data"
   ]
  },
  {
   "cell_type": "code",
   "execution_count": 1,
   "id": "87dd22a7",
   "metadata": {},
   "outputs": [],
   "source": [
    "from bcrp_scrapper import *"
   ]
  },
  {
   "cell_type": "code",
   "execution_count": 10,
   "id": "f1bf85e3",
   "metadata": {},
   "outputs": [
    {
     "data": {
      "text/html": [
       "<div>\n",
       "<style scoped>\n",
       "    .dataframe tbody tr th:only-of-type {\n",
       "        vertical-align: middle;\n",
       "    }\n",
       "\n",
       "    .dataframe tbody tr th {\n",
       "        vertical-align: top;\n",
       "    }\n",
       "\n",
       "    .dataframe thead th {\n",
       "        text-align: right;\n",
       "    }\n",
       "</style>\n",
       "<table border=\"1\" class=\"dataframe\">\n",
       "  <thead>\n",
       "    <tr style=\"text-align: right;\">\n",
       "      <th></th>\n",
       "      <th>Código</th>\n",
       "      <th>Categoría</th>\n",
       "      <th>Serie</th>\n",
       "      <th>Fecha Inicio</th>\n",
       "      <th>Fecha Fin</th>\n",
       "      <th>Última Actualización</th>\n",
       "      <th>Frecuencia</th>\n",
       "    </tr>\n",
       "  </thead>\n",
       "  <tbody>\n",
       "  </tbody>\n",
       "</table>\n",
       "</div>"
      ],
      "text/plain": [
       "Empty DataFrame\n",
       "Columns: [Código, Categoría, Serie, Fecha Inicio, Fecha Fin, Última Actualización, Frecuencia]\n",
       "Index: []"
      ]
     },
     "execution_count": 10,
     "metadata": {},
     "output_type": "execute_result"
    }
   ],
   "source": [
    "bcrp_find('tasa de interés', 'T')"
   ]
  },
  {
   "cell_type": "code",
   "execution_count": 21,
   "id": "a31d3521",
   "metadata": {},
   "outputs": [],
   "source": [
    "df = bcrpscrapper(['PN01271PM','PN01731AM' , 'PD04722MM']).T\n",
    "y = df['2003-09-01':'2023-08-01']"
   ]
  },
  {
   "cell_type": "code",
   "execution_count": 24,
   "id": "0d96a343",
   "metadata": {},
   "outputs": [
    {
     "data": {
      "text/html": [
       "<div>\n",
       "<style scoped>\n",
       "    .dataframe tbody tr th:only-of-type {\n",
       "        vertical-align: middle;\n",
       "    }\n",
       "\n",
       "    .dataframe tbody tr th {\n",
       "        vertical-align: top;\n",
       "    }\n",
       "\n",
       "    .dataframe thead th {\n",
       "        text-align: right;\n",
       "    }\n",
       "</style>\n",
       "<table border=\"1\" class=\"dataframe\">\n",
       "  <thead>\n",
       "    <tr style=\"text-align: right;\">\n",
       "      <th></th>\n",
       "      <th>IPC</th>\n",
       "      <th>PBI Desestacionalizado - Var% mensual</th>\n",
       "      <th>Tasa de Referencia de la Política Monetaria</th>\n",
       "    </tr>\n",
       "    <tr>\n",
       "      <th>Periodo</th>\n",
       "      <th></th>\n",
       "      <th></th>\n",
       "      <th></th>\n",
       "    </tr>\n",
       "  </thead>\n",
       "  <tbody>\n",
       "    <tr>\n",
       "      <th>2003-09-01</th>\n",
       "      <td>0.558598</td>\n",
       "      <td>0.278307</td>\n",
       "      <td>2.75</td>\n",
       "    </tr>\n",
       "    <tr>\n",
       "      <th>2003-10-01</th>\n",
       "      <td>0.049032</td>\n",
       "      <td>0.715776</td>\n",
       "      <td>2.75</td>\n",
       "    </tr>\n",
       "    <tr>\n",
       "      <th>2003-11-01</th>\n",
       "      <td>0.167685</td>\n",
       "      <td>-4.687524</td>\n",
       "      <td>2.50</td>\n",
       "    </tr>\n",
       "    <tr>\n",
       "      <th>2003-12-01</th>\n",
       "      <td>0.563951</td>\n",
       "      <td>0.721758</td>\n",
       "      <td>2.50</td>\n",
       "    </tr>\n",
       "    <tr>\n",
       "      <th>2004-01-01</th>\n",
       "      <td>0.537447</td>\n",
       "      <td>3.088820</td>\n",
       "      <td>2.50</td>\n",
       "    </tr>\n",
       "    <tr>\n",
       "      <th>...</th>\n",
       "      <td>...</td>\n",
       "      <td>...</td>\n",
       "      <td>...</td>\n",
       "    </tr>\n",
       "    <tr>\n",
       "      <th>2023-04-01</th>\n",
       "      <td>0.556252</td>\n",
       "      <td>0.640269</td>\n",
       "      <td>7.75</td>\n",
       "    </tr>\n",
       "    <tr>\n",
       "      <th>2023-05-01</th>\n",
       "      <td>0.317861</td>\n",
       "      <td>-1.765857</td>\n",
       "      <td>7.75</td>\n",
       "    </tr>\n",
       "    <tr>\n",
       "      <th>2023-06-01</th>\n",
       "      <td>-0.152770</td>\n",
       "      <td>1.923474</td>\n",
       "      <td>7.75</td>\n",
       "    </tr>\n",
       "    <tr>\n",
       "      <th>2023-07-01</th>\n",
       "      <td>0.391066</td>\n",
       "      <td>-1.821537</td>\n",
       "      <td>7.75</td>\n",
       "    </tr>\n",
       "    <tr>\n",
       "      <th>2023-08-01</th>\n",
       "      <td>0.376133</td>\n",
       "      <td>1.469019</td>\n",
       "      <td>7.75</td>\n",
       "    </tr>\n",
       "  </tbody>\n",
       "</table>\n",
       "<p>240 rows × 3 columns</p>\n",
       "</div>"
      ],
      "text/plain": [
       "                 IPC  PBI Desestacionalizado - Var% mensual  \\\n",
       "Periodo                                                       \n",
       "2003-09-01  0.558598                               0.278307   \n",
       "2003-10-01  0.049032                               0.715776   \n",
       "2003-11-01  0.167685                              -4.687524   \n",
       "2003-12-01  0.563951                               0.721758   \n",
       "2004-01-01  0.537447                               3.088820   \n",
       "...              ...                                    ...   \n",
       "2023-04-01  0.556252                               0.640269   \n",
       "2023-05-01  0.317861                              -1.765857   \n",
       "2023-06-01 -0.152770                               1.923474   \n",
       "2023-07-01  0.391066                              -1.821537   \n",
       "2023-08-01  0.376133                               1.469019   \n",
       "\n",
       "            Tasa de Referencia de la Política Monetaria  \n",
       "Periodo                                                  \n",
       "2003-09-01                                         2.75  \n",
       "2003-10-01                                         2.75  \n",
       "2003-11-01                                         2.50  \n",
       "2003-12-01                                         2.50  \n",
       "2004-01-01                                         2.50  \n",
       "...                                                 ...  \n",
       "2023-04-01                                         7.75  \n",
       "2023-05-01                                         7.75  \n",
       "2023-06-01                                         7.75  \n",
       "2023-07-01                                         7.75  \n",
       "2023-08-01                                         7.75  \n",
       "\n",
       "[240 rows x 3 columns]"
      ]
     },
     "execution_count": 24,
     "metadata": {},
     "output_type": "execute_result"
    }
   ],
   "source": [
    "y"
   ]
  },
  {
   "cell_type": "code",
   "execution_count": 27,
   "id": "2d88bd9d",
   "metadata": {},
   "outputs": [],
   "source": [
    "y.to_excel(\"data_final.xlsx\")"
   ]
  },
  {
   "cell_type": "code",
   "execution_count": null,
   "id": "1f5e03b3",
   "metadata": {},
   "outputs": [],
   "source": []
  }
 ],
 "metadata": {
  "kernelspec": {
   "display_name": "Python 3 (ipykernel)",
   "language": "python",
   "name": "python3"
  },
  "language_info": {
   "codemirror_mode": {
    "name": "ipython",
    "version": 3
   },
   "file_extension": ".py",
   "mimetype": "text/x-python",
   "name": "python",
   "nbconvert_exporter": "python",
   "pygments_lexer": "ipython3",
   "version": "3.9.13"
  }
 },
 "nbformat": 4,
 "nbformat_minor": 5
}
